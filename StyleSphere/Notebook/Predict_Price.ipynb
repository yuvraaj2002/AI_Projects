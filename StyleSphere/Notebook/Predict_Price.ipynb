{
 "cells": [
  {
   "cell_type": "markdown",
   "metadata": {},
   "source": [
    "# Importing the dependencies"
   ]
  },
  {
   "cell_type": "code",
   "execution_count": 49,
   "metadata": {
    "_cell_guid": "b1076dfc-b9ad-4769-8c92-a6c4dae69d19",
    "_uuid": "8f2839f25d086af736a60e9eeb907d3b93b6e0e5"
   },
   "outputs": [],
   "source": [
    "import numpy as np \n",
    "import pandas as pd \n",
    "import os\n",
    "import json\n",
    "import ast"
   ]
  },
  {
   "cell_type": "markdown",
   "metadata": {},
   "source": [
    "# Data Loading"
   ]
  },
  {
   "cell_type": "code",
   "execution_count": 21,
   "metadata": {
    "execution": {
     "iopub.execute_input": "2024-01-07T10:21:07.815223Z",
     "iopub.status.busy": "2024-01-07T10:21:07.814729Z",
     "iopub.status.idle": "2024-01-07T10:28:46.513773Z",
     "shell.execute_reply": "2024-01-07T10:28:46.512530Z",
     "shell.execute_reply.started": "2024-01-07T10:21:07.815179Z"
    }
   },
   "outputs": [],
   "source": [
    "# Defining the Path to the directory containing JSON files and empty python list\n",
    "directory_path = '/kaggle/input/fashion-product-images-dataset/fashion-dataset/styles'\n",
    "data_list = []\n",
    "\n",
    "# Listing all files in the directory\n",
    "file_list = os.listdir(directory_path)\n",
    "\n",
    "# Filter JSON files\n",
    "json_files = [file for file in file_list if file.endswith('.json')]\n",
    "\n",
    "# Load JSON files\n",
    "for file_name in json_files:\n",
    "    file_path = os.path.join(directory_path, file_name)\n",
    "    with open(file_path, 'r') as file:\n",
    "        json_data = json.load(file)\n",
    "        data_list.append(json_data['data'])    \n",
    "        \n",
    "# Creating a DataFrame from the list of dictionaries\n",
    "df = pd.DataFrame(data_list)\n",
    "df.to_csv('/kaggle/working/data.csv')"
   ]
  },
  {
   "cell_type": "code",
   "execution_count": null,
   "metadata": {},
   "outputs": [],
   "source": [
    "# Loading the data from saved pickle file\n",
    "df = pd.read_csv('../Dataset/data.csv')"
   ]
  },
  {
   "cell_type": "markdown",
   "metadata": {},
   "source": [
    "### Defining utility functions"
   ]
  },
  {
   "cell_type": "code",
   "execution_count": null,
   "metadata": {},
   "outputs": [],
   "source": [
    "# Function to convert string representation to dictionary\n",
    "def parse_master_category(string_repr):\n",
    "    try:\n",
    "        return ast.literal_eval(string_repr.replace(\"'\", \"\\\"\"))\n",
    "    except ValueError:\n",
    "        return None"
   ]
  },
  {
   "cell_type": "markdown",
   "metadata": {},
   "source": [
    "# Understanding the data (Overview)"
   ]
  },
  {
   "cell_type": "code",
   "execution_count": 8,
   "metadata": {},
   "outputs": [
    {
     "data": {
      "text/html": [
       "<div>\n",
       "<style scoped>\n",
       "    .dataframe tbody tr th:only-of-type {\n",
       "        vertical-align: middle;\n",
       "    }\n",
       "\n",
       "    .dataframe tbody tr th {\n",
       "        vertical-align: top;\n",
       "    }\n",
       "\n",
       "    .dataframe thead th {\n",
       "        text-align: right;\n",
       "    }\n",
       "</style>\n",
       "<table border=\"1\" class=\"dataframe\">\n",
       "  <thead>\n",
       "    <tr style=\"text-align: right;\">\n",
       "      <th></th>\n",
       "      <th>Unnamed: 0</th>\n",
       "      <th>id</th>\n",
       "      <th>price</th>\n",
       "      <th>discountedPrice</th>\n",
       "      <th>styleType</th>\n",
       "      <th>productTypeId</th>\n",
       "      <th>articleNumber</th>\n",
       "      <th>visualTag</th>\n",
       "      <th>productDisplayName</th>\n",
       "      <th>variantName</th>\n",
       "      <th>...</th>\n",
       "      <th>otherFlags</th>\n",
       "      <th>articleDisplayAttr</th>\n",
       "      <th>productDescriptors</th>\n",
       "      <th>styleOptions</th>\n",
       "      <th>colours</th>\n",
       "      <th>discountData</th>\n",
       "      <th>productSpecificationEntry</th>\n",
       "      <th>relatedStyleOptions</th>\n",
       "      <th>associatedImageProducts</th>\n",
       "      <th>styleVideoAlbumList</th>\n",
       "    </tr>\n",
       "  </thead>\n",
       "  <tbody>\n",
       "    <tr>\n",
       "      <th>23533</th>\n",
       "      <td>23533</td>\n",
       "      <td>21532</td>\n",
       "      <td>750.0</td>\n",
       "      <td>750.0</td>\n",
       "      <td>P</td>\n",
       "      <td>598</td>\n",
       "      <td>KIARA0077 Grey</td>\n",
       "      <td>NaN</td>\n",
       "      <td>Kiara Women Sporty Look Grey Handbag</td>\n",
       "      <td>Sporty Look</td>\n",
       "      <td>...</td>\n",
       "      <td>[{'dataType': 'BOOLEAN', 'name': 'isFragile', ...</td>\n",
       "      <td>{'id': 46, 'core': {'order': '0', 'display': '...</td>\n",
       "      <td>{'materials_care_desc': {'descriptorType': 'ma...</td>\n",
       "      <td>[{'id': 93359, 'name': 'Size', 'value': 'Onesi...</td>\n",
       "      <td>{'colors': {'21533': {'dre_landing_page_url': ...</td>\n",
       "      <td>NaN</td>\n",
       "      <td>NaN</td>\n",
       "      <td>NaN</td>\n",
       "      <td>NaN</td>\n",
       "      <td>NaN</td>\n",
       "    </tr>\n",
       "    <tr>\n",
       "      <th>35635</th>\n",
       "      <td>35635</td>\n",
       "      <td>48439</td>\n",
       "      <td>1699.0</td>\n",
       "      <td>1699.0</td>\n",
       "      <td>P</td>\n",
       "      <td>289</td>\n",
       "      <td>56IJ6-White</td>\n",
       "      <td>NaN</td>\n",
       "      <td>French Connection Men White Printed T-shirt</td>\n",
       "      <td>IND EAGLE DEAN SS CREW</td>\n",
       "      <td>...</td>\n",
       "      <td>[{'dataType': 'BOOLEAN', 'name': 'isFragile', ...</td>\n",
       "      <td>{'id': 90, 'core': {'order': '0', 'display': '...</td>\n",
       "      <td>{'description': {'descriptorType': 'descriptio...</td>\n",
       "      <td>[{'id': 188652, 'name': 'Size', 'value': 'S', ...</td>\n",
       "      <td>{'colors': {'48438': {'dre_landing_page_url': ...</td>\n",
       "      <td>NaN</td>\n",
       "      <td>NaN</td>\n",
       "      <td>NaN</td>\n",
       "      <td>NaN</td>\n",
       "      <td>NaN</td>\n",
       "    </tr>\n",
       "    <tr>\n",
       "      <th>16373</th>\n",
       "      <td>16373</td>\n",
       "      <td>44138</td>\n",
       "      <td>2800.0</td>\n",
       "      <td>2800.0</td>\n",
       "      <td>P</td>\n",
       "      <td>399</td>\n",
       "      <td>3139420624019</td>\n",
       "      <td>NaN</td>\n",
       "      <td>Dunhill Men Desire Blue Perfume</td>\n",
       "      <td>DUNHILL DESIRE BLUE EDT</td>\n",
       "      <td>...</td>\n",
       "      <td>[{'dataType': 'BOOLEAN', 'name': 'isFragile', ...</td>\n",
       "      <td>{'id': 162, 'core': {'order': '0', 'display': ...</td>\n",
       "      <td>{'materials_care_desc': {'descriptorType': 'ma...</td>\n",
       "      <td>[{'id': 175432, 'name': 'Size', 'value': '50ML...</td>\n",
       "      <td>NaN</td>\n",
       "      <td>NaN</td>\n",
       "      <td>NaN</td>\n",
       "      <td>NaN</td>\n",
       "      <td>NaN</td>\n",
       "      <td>NaN</td>\n",
       "    </tr>\n",
       "  </tbody>\n",
       "</table>\n",
       "<p>3 rows × 48 columns</p>\n",
       "</div>"
      ],
      "text/plain": [
       "       Unnamed: 0     id   price  discountedPrice styleType  productTypeId  \\\n",
       "23533       23533  21532   750.0            750.0         P            598   \n",
       "35635       35635  48439  1699.0           1699.0         P            289   \n",
       "16373       16373  44138  2800.0           2800.0         P            399   \n",
       "\n",
       "        articleNumber visualTag                           productDisplayName  \\\n",
       "23533  KIARA0077 Grey       NaN         Kiara Women Sporty Look Grey Handbag   \n",
       "35635     56IJ6-White       NaN  French Connection Men White Printed T-shirt   \n",
       "16373   3139420624019       NaN              Dunhill Men Desire Blue Perfume   \n",
       "\n",
       "                   variantName  ...  \\\n",
       "23533              Sporty Look  ...   \n",
       "35635   IND EAGLE DEAN SS CREW  ...   \n",
       "16373  DUNHILL DESIRE BLUE EDT  ...   \n",
       "\n",
       "                                              otherFlags  \\\n",
       "23533  [{'dataType': 'BOOLEAN', 'name': 'isFragile', ...   \n",
       "35635  [{'dataType': 'BOOLEAN', 'name': 'isFragile', ...   \n",
       "16373  [{'dataType': 'BOOLEAN', 'name': 'isFragile', ...   \n",
       "\n",
       "                                      articleDisplayAttr  \\\n",
       "23533  {'id': 46, 'core': {'order': '0', 'display': '...   \n",
       "35635  {'id': 90, 'core': {'order': '0', 'display': '...   \n",
       "16373  {'id': 162, 'core': {'order': '0', 'display': ...   \n",
       "\n",
       "                                      productDescriptors  \\\n",
       "23533  {'materials_care_desc': {'descriptorType': 'ma...   \n",
       "35635  {'description': {'descriptorType': 'descriptio...   \n",
       "16373  {'materials_care_desc': {'descriptorType': 'ma...   \n",
       "\n",
       "                                            styleOptions  \\\n",
       "23533  [{'id': 93359, 'name': 'Size', 'value': 'Onesi...   \n",
       "35635  [{'id': 188652, 'name': 'Size', 'value': 'S', ...   \n",
       "16373  [{'id': 175432, 'name': 'Size', 'value': '50ML...   \n",
       "\n",
       "                                                 colours discountData  \\\n",
       "23533  {'colors': {'21533': {'dre_landing_page_url': ...          NaN   \n",
       "35635  {'colors': {'48438': {'dre_landing_page_url': ...          NaN   \n",
       "16373                                                NaN          NaN   \n",
       "\n",
       "      productSpecificationEntry relatedStyleOptions associatedImageProducts  \\\n",
       "23533                       NaN                 NaN                     NaN   \n",
       "35635                       NaN                 NaN                     NaN   \n",
       "16373                       NaN                 NaN                     NaN   \n",
       "\n",
       "      styleVideoAlbumList  \n",
       "23533                 NaN  \n",
       "35635                 NaN  \n",
       "16373                 NaN  \n",
       "\n",
       "[3 rows x 48 columns]"
      ]
     },
     "execution_count": 8,
     "metadata": {},
     "output_type": "execute_result"
    }
   ],
   "source": [
    "df.sample(3)"
   ]
  },
  {
   "cell_type": "code",
   "execution_count": 11,
   "metadata": {},
   "outputs": [],
   "source": [
    "# Defining all the \n",
    "exclude_attributes = ['landingPageUrl', 'crossLinks','brandUserProfile','codEnabled','styleImages','lookGoodAlbum','style360Images','subCategory'\n",
    "        ,'articleType','otherFlags','articleDisplayAttr','productDescriptors','styleOptions','Unnamed: 0','id','colours', 'discountData', 'productSpecificationEntry',\n",
    "       'relatedStyleOptions', 'associatedImageProducts','styleVideoAlbumList','productTypeId','articleNumber','colour1','colour2','visualTag',\n",
    "        'catalogAddDate','navigationId','articleAttributes']\n",
    "\n",
    "# Dropping unnecessary columns\n",
    "df.drop(exclude_attributes,axis=1,inplace=True)"
   ]
  },
  {
   "cell_type": "code",
   "execution_count": null,
   "metadata": {},
   "outputs": [],
   "source": [
    "# Extracting the dictionary from the string\n",
    "df['masterCategory'] = df['masterCategory'].apply(parse_master_category)"
   ]
  },
  {
   "cell_type": "code",
   "execution_count": 34,
   "metadata": {},
   "outputs": [
    {
     "name": "stdout",
     "output_type": "stream",
     "text": [
      "<class 'pandas.core.frame.DataFrame'>\n",
      "Int64Index: 43483 entries, 0 to 44445\n",
      "Data columns (total 21 columns):\n",
      " #   Column              Non-Null Count  Dtype  \n",
      "---  ------              --------------  -----  \n",
      " 0   price               43483 non-null  float64\n",
      " 1   discountedPrice     43483 non-null  float64\n",
      " 2   styleType           43483 non-null  object \n",
      " 3   productDisplayName  43476 non-null  object \n",
      " 4   variantName         43476 non-null  object \n",
      " 5   myntraRating        43483 non-null  int64  \n",
      " 6   brandName           43483 non-null  object \n",
      " 7   ageGroup            43482 non-null  object \n",
      " 8   gender              43483 non-null  object \n",
      " 9   baseColour          43468 non-null  object \n",
      " 10  fashionType         43480 non-null  object \n",
      " 11  season              43462 non-null  object \n",
      " 12  year                43482 non-null  float64\n",
      " 13  usage               43166 non-null  object \n",
      " 14  vat                 43483 non-null  float64\n",
      " 15  displayCategories   37817 non-null  object \n",
      " 16  weight              43483 non-null  int64  \n",
      " 17  navigationId        43483 non-null  int64  \n",
      " 18  articleAttributes   43483 non-null  object \n",
      " 19  masterCategory      43483 non-null  object \n",
      " 20  isEMIEnabled        43483 non-null  bool   \n",
      "dtypes: bool(1), float64(4), int64(3), object(13)\n",
      "memory usage: 7.0+ MB\n"
     ]
    }
   ],
   "source": [
    "# Information about the attributes\n",
    "df.info()"
   ]
  },
  {
   "cell_type": "code",
   "execution_count": 35,
   "metadata": {},
   "outputs": [
    {
     "name": "stdout",
     "output_type": "stream",
     "text": [
      "Data have total : 749 duplicate values\n"
     ]
    }
   ],
   "source": [
    "duplicate_vals = df.duplicated().sum()\n",
    "if duplicate_vals != 0:\n",
    "    print(\"Data have total :\",duplicate_vals,\"duplicate values\")\n",
    "    df.drop_duplicates(inplace=True)\n",
    "\n",
    "df.reset_index(drop=True,inplace=True)"
   ]
  },
  {
   "cell_type": "code",
   "execution_count": 52,
   "metadata": {},
   "outputs": [
    {
     "data": {
      "text/plain": [
       "price                  0.000000\n",
       "discountedPrice        0.000000\n",
       "styleType              0.000000\n",
       "productDisplayName     0.016380\n",
       "variantName            0.016380\n",
       "myntraRating           0.000000\n",
       "brandName              0.000000\n",
       "ageGroup               0.002340\n",
       "gender                 0.000000\n",
       "baseColour             0.035101\n",
       "fashionType            0.007020\n",
       "season                 0.049141\n",
       "year                   0.002340\n",
       "usage                  0.741798\n",
       "vat                    0.000000\n",
       "displayCategories     13.013058\n",
       "weight                 0.000000\n",
       "navigationId           0.000000\n",
       "articleAttributes      0.000000\n",
       "masterCategory         0.000000\n",
       "isEMIEnabled           0.000000\n",
       "dtype: float64"
      ]
     },
     "execution_count": 52,
     "metadata": {},
     "output_type": "execute_result"
    }
   ],
   "source": [
    "# Let's check percentage of missing values\n",
    "df.isnull().mean()*100"
   ]
  },
  {
   "cell_type": "code",
   "execution_count": 59,
   "metadata": {},
   "outputs": [],
   "source": [
    "isReturnable_lst = []\n",
    "isExchangeable_lst = []\n",
    "\n",
    "for i in range(len(df)):\n",
    "    isReturnable_lst.append(df.iloc[i]['masterCategory']['isReturnable'])\n",
    "    isExchangeable_lst.append(df.iloc[i]['masterCategory']['isExchangeable'])\n",
    "\n",
    "df['isReturnable'] = isReturnable_lst\n",
    "df['isExchangeable'] = isExchangeable_lst\n",
    "df.drop(['masterCategory'],axis=1,inplace=True)"
   ]
  },
  {
   "cell_type": "code",
   "execution_count": 75,
   "metadata": {},
   "outputs": [],
   "source": [
    "# Saving the dataset \n",
    "df.to_csv('../Dataset/clean_data_V1.csv')"
   ]
  },
  {
   "cell_type": "markdown",
   "metadata": {},
   "source": [
    "# Exploratory data analysis"
   ]
  },
  {
   "cell_type": "markdown",
   "metadata": {},
   "source": [
    "# Feature engineering"
   ]
  },
  {
   "cell_type": "markdown",
   "metadata": {},
   "source": [
    "# Train test split"
   ]
  },
  {
   "cell_type": "markdown",
   "metadata": {},
   "source": [
    "# Model training"
   ]
  },
  {
   "cell_type": "markdown",
   "metadata": {},
   "source": [
    "# Model evaluation"
   ]
  },
  {
   "cell_type": "code",
   "execution_count": null,
   "metadata": {},
   "outputs": [],
   "source": []
  }
 ],
 "metadata": {
  "kaggle": {
   "accelerator": "none",
   "dataSources": [
    {
     "datasetId": 139630,
     "sourceId": 329006,
     "sourceType": "datasetVersion"
    }
   ],
   "dockerImageVersionId": 30626,
   "isGpuEnabled": false,
   "isInternetEnabled": true,
   "language": "python",
   "sourceType": "notebook"
  },
  "kernelspec": {
   "display_name": "Python 3 (ipykernel)",
   "language": "python",
   "name": "python3"
  },
  "language_info": {
   "codemirror_mode": {
    "name": "ipython",
    "version": 3
   },
   "file_extension": ".py",
   "mimetype": "text/x-python",
   "name": "python",
   "nbconvert_exporter": "python",
   "pygments_lexer": "ipython3",
   "version": "3.11.4"
  }
 },
 "nbformat": 4,
 "nbformat_minor": 4
}
