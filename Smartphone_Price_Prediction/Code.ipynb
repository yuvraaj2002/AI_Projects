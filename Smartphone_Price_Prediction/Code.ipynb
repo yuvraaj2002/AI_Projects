{
 "cells": [
  {
   "cell_type": "markdown",
   "id": "653c85b5-04bf-4def-927b-ed153fd20130",
   "metadata": {},
   "source": [
    "### Importing the dependencies"
   ]
  },
  {
   "cell_type": "code",
   "execution_count": 1,
   "id": "6e650518-2c52-4fdf-9744-8747640c3fa2",
   "metadata": {},
   "outputs": [
    {
     "name": "stdout",
     "output_type": "stream",
     "text": [
      "Everything imported successfully😊\n"
     ]
    }
   ],
   "source": [
    "# For data visualization and manipulation\n",
    "import pandas as pd\n",
    "import numpy as np\n",
    "import seaborn as sns\n",
    "import matplotlib.pyplot as plt\n",
    "import missingno as msno\n",
    "import re\n",
    "\n",
    "print(\"Everything imported successfully😊\")"
   ]
  },
  {
   "cell_type": "markdown",
   "id": "4afa63b6-8fde-4c05-a4b5-a62a770818bf",
   "metadata": {},
   "source": [
    "### Dataset desciption\n",
    "- VoLTE stands for Voice over LTE. It is a technology that allows you to make and receive calls over the LTE network. This means that you can enjoy better call quality and voice clarity, even when you are in a poor cellular reception area.\r",
    "- \n",
    "Wi-Fi is a wireless networking technology that allows you to connect to the internet without using a cellular network. This is a great way to save on your data plan, especially if you are using a lot of data for streaming videos or music\n",
    "  .- \r\n",
    "IR Blaster is a small infrared transmitter that is built into some smartphones. It allows you to use your phone as a remote control for other devices, such as your TV, air conditioner, or stere\n",
    "- NFC stands for Near Field Communication. It is a short-range wireless technology that allows two devices to communicate with each other when they are brought within close proximity. The maximum distance for NFC communication is about 4 inches.o."
   ]
  },
  {
   "cell_type": "code",
   "execution_count": 2,
   "id": "d4eee259-05a5-478d-94ae-0b22fde5089b",
   "metadata": {},
   "outputs": [],
   "source": [
    "# Loading the data from csv file to dataframe\n",
    "df = pd.read_csv('Data.csv')"
   ]
  },
  {
   "cell_type": "markdown",
   "id": "96c7843f-0f91-46dd-8b3a-e4f14a4c1835",
   "metadata": {},
   "source": [
    "### Exploratory data analysis"
   ]
  },
  {
   "cell_type": "code",
   "execution_count": 3,
   "id": "e2fa050c-f5f6-4edb-a3de-c2793ff638bc",
   "metadata": {},
   "outputs": [
    {
     "name": "stdout",
     "output_type": "stream",
     "text": [
      "Shape of the dataframe :  (1020, 11)\n"
     ]
    }
   ],
   "source": [
    "# Checking shape of the dataframe\n",
    "print(\"Shape of the dataframe : \",df.shape)"
   ]
  },
  {
   "cell_type": "code",
   "execution_count": 4,
   "id": "916692a9-8827-4e63-a0c8-60519e2d91ff",
   "metadata": {},
   "outputs": [
    {
     "data": {
      "text/html": [
       "<div>\n",
       "<style scoped>\n",
       "    .dataframe tbody tr th:only-of-type {\n",
       "        vertical-align: middle;\n",
       "    }\n",
       "\n",
       "    .dataframe tbody tr th {\n",
       "        vertical-align: top;\n",
       "    }\n",
       "\n",
       "    .dataframe thead th {\n",
       "        text-align: right;\n",
       "    }\n",
       "</style>\n",
       "<table border=\"1\" class=\"dataframe\">\n",
       "  <thead>\n",
       "    <tr style=\"text-align: right;\">\n",
       "      <th></th>\n",
       "      <th>model</th>\n",
       "      <th>price</th>\n",
       "      <th>rating</th>\n",
       "      <th>sim</th>\n",
       "      <th>processor</th>\n",
       "      <th>ram</th>\n",
       "      <th>battery</th>\n",
       "      <th>display</th>\n",
       "      <th>camera</th>\n",
       "      <th>card</th>\n",
       "      <th>os</th>\n",
       "    </tr>\n",
       "  </thead>\n",
       "  <tbody>\n",
       "    <tr>\n",
       "      <th>272</th>\n",
       "      <td>Google Pixel 6 Pro</td>\n",
       "      <td>₹54,300</td>\n",
       "      <td>89.0</td>\n",
       "      <td>Dual Sim, 3G, 4G, 5G, VoLTE, Wi-Fi, NFC</td>\n",
       "      <td>Google  Tensor, Octa Core, 2.8 GHz Processor</td>\n",
       "      <td>12 GB RAM, 128 GB inbuilt</td>\n",
       "      <td>5003 mAh Battery with 30W Fast Charging</td>\n",
       "      <td>6.71 inches, 1440 x 3120 px, 120 Hz Display wi...</td>\n",
       "      <td>50 MP + 48 MP + 12 MP Triple Rear &amp; 11.1 MP Fr...</td>\n",
       "      <td>Android v12</td>\n",
       "      <td>No FM Radio</td>\n",
       "    </tr>\n",
       "    <tr>\n",
       "      <th>10</th>\n",
       "      <td>Realme 10 Pro</td>\n",
       "      <td>₹18,999</td>\n",
       "      <td>82.0</td>\n",
       "      <td>Dual Sim, 3G, 4G, 5G, VoLTE, Wi-Fi</td>\n",
       "      <td>Snapdragon 695, Octa Core, 2.2 GHz Processor</td>\n",
       "      <td>6 GB RAM, 128 GB inbuilt</td>\n",
       "      <td>5000 mAh Battery with 33W Fast Charging</td>\n",
       "      <td>6.72 inches, 1080 x 2400 px, 120 Hz Display wi...</td>\n",
       "      <td>108 MP + 2 MP Dual Rear &amp; 16 MP Front Camera</td>\n",
       "      <td>Memory Card Supported, upto 1 TB</td>\n",
       "      <td>Android v13</td>\n",
       "    </tr>\n",
       "    <tr>\n",
       "      <th>775</th>\n",
       "      <td>Vivo Y33T</td>\n",
       "      <td>₹15,990</td>\n",
       "      <td>81.0</td>\n",
       "      <td>Dual Sim, 3G, 4G, VoLTE, Wi-Fi</td>\n",
       "      <td>Snapdragon 680, Octa Core, 2.4 GHz Processor</td>\n",
       "      <td>8 GB RAM, 128 GB inbuilt</td>\n",
       "      <td>5000 mAh Battery with 18W Fast Charging</td>\n",
       "      <td>6.58 inches, 1080 x 2408 px, 90 Hz Display wit...</td>\n",
       "      <td>50 MP + 2 MP + 2 MP Triple Rear &amp; 16 MP Front ...</td>\n",
       "      <td>Memory Card Supported, upto 1 TB</td>\n",
       "      <td>Android v12</td>\n",
       "    </tr>\n",
       "  </tbody>\n",
       "</table>\n",
       "</div>"
      ],
      "text/plain": [
       "                  model    price  rating  \\\n",
       "272  Google Pixel 6 Pro  ₹54,300    89.0   \n",
       "10        Realme 10 Pro  ₹18,999    82.0   \n",
       "775           Vivo Y33T  ₹15,990    81.0   \n",
       "\n",
       "                                         sim  \\\n",
       "272  Dual Sim, 3G, 4G, 5G, VoLTE, Wi-Fi, NFC   \n",
       "10        Dual Sim, 3G, 4G, 5G, VoLTE, Wi-Fi   \n",
       "775           Dual Sim, 3G, 4G, VoLTE, Wi-Fi   \n",
       "\n",
       "                                        processor                        ram  \\\n",
       "272  Google  Tensor, Octa Core, 2.8 GHz Processor  12 GB RAM, 128 GB inbuilt   \n",
       "10   Snapdragon 695, Octa Core, 2.2 GHz Processor   6 GB RAM, 128 GB inbuilt   \n",
       "775  Snapdragon 680, Octa Core, 2.4 GHz Processor   8 GB RAM, 128 GB inbuilt   \n",
       "\n",
       "                                     battery  \\\n",
       "272  5003 mAh Battery with 30W Fast Charging   \n",
       "10   5000 mAh Battery with 33W Fast Charging   \n",
       "775  5000 mAh Battery with 18W Fast Charging   \n",
       "\n",
       "                                               display  \\\n",
       "272  6.71 inches, 1440 x 3120 px, 120 Hz Display wi...   \n",
       "10   6.72 inches, 1080 x 2400 px, 120 Hz Display wi...   \n",
       "775  6.58 inches, 1080 x 2408 px, 90 Hz Display wit...   \n",
       "\n",
       "                                                camera  \\\n",
       "272  50 MP + 48 MP + 12 MP Triple Rear & 11.1 MP Fr...   \n",
       "10        108 MP + 2 MP Dual Rear & 16 MP Front Camera   \n",
       "775  50 MP + 2 MP + 2 MP Triple Rear & 16 MP Front ...   \n",
       "\n",
       "                                 card           os  \n",
       "272                       Android v12  No FM Radio  \n",
       "10   Memory Card Supported, upto 1 TB  Android v13  \n",
       "775  Memory Card Supported, upto 1 TB  Android v12  "
      ]
     },
     "execution_count": 4,
     "metadata": {},
     "output_type": "execute_result"
    }
   ],
   "source": [
    "# Checking any 3 random rows of the dataframe\n",
    "df.sample(3)"
   ]
  },
  {
   "cell_type": "code",
   "execution_count": 5,
   "id": "0a06e893-5877-418f-b20c-99e1fc076249",
   "metadata": {},
   "outputs": [
    {
     "name": "stdout",
     "output_type": "stream",
     "text": [
      "<class 'pandas.core.frame.DataFrame'>\n",
      "RangeIndex: 1020 entries, 0 to 1019\n",
      "Data columns (total 11 columns):\n",
      " #   Column     Non-Null Count  Dtype  \n",
      "---  ------     --------------  -----  \n",
      " 0   model      1020 non-null   object \n",
      " 1   price      1020 non-null   object \n",
      " 2   rating     879 non-null    float64\n",
      " 3   sim        1020 non-null   object \n",
      " 4   processor  1020 non-null   object \n",
      " 5   ram        1020 non-null   object \n",
      " 6   battery    1020 non-null   object \n",
      " 7   display    1020 non-null   object \n",
      " 8   camera     1019 non-null   object \n",
      " 9   card       1013 non-null   object \n",
      " 10  os         1003 non-null   object \n",
      "dtypes: float64(1), object(10)\n",
      "memory usage: 87.8+ KB\n"
     ]
    }
   ],
   "source": [
    "# Let's take a look at the informatoin related to columns\n",
    "df.info()"
   ]
  },
  {
   "cell_type": "code",
   "execution_count": 6,
   "id": "14518dd2-f533-4cb3-a4b0-dd1af615f4be",
   "metadata": {},
   "outputs": [
    {
     "name": "stdout",
     "output_type": "stream",
     "text": [
      "model         0.000000\n",
      "price         0.000000\n",
      "rating       13.823529\n",
      "sim           0.000000\n",
      "processor     0.000000\n",
      "ram           0.000000\n",
      "battery       0.000000\n",
      "display       0.000000\n",
      "camera        0.098039\n",
      "card          0.686275\n",
      "os            1.666667\n",
      "dtype: float64\n"
     ]
    },
    {
     "data": {
      "image/png": "[encoded data removed]",
      "text/plain": [
       "<Figure size 1500x300 with 3 Axes>"
      ]
     },
     "metadata": {},
     "output_type": "display_data"
    }
   ],
   "source": [
    "# Checking any missing values\n",
    "print(df.isnull().mean()*100)\n",
    "\n",
    "# Visualize missing values using a bar chart\n",
    "msno.bar(df, figsize=(15, 3), color=\"dodgerblue\", sort=\"ascending\", fontsize=12)\n",
    "plt.show()"
   ]
  },
  {
   "cell_type": "code",
   "execution_count": 7,
   "id": "3a5eccd5-a629-459a-8d56-23d757d8790e",
   "metadata": {},
   "outputs": [
    {
     "name": "stdout",
     "output_type": "stream",
     "text": [
      "Duplicate values : 0\n"
     ]
    }
   ],
   "source": [
    "# Let's check if there are any duplicate valeus\n",
    "print(\"Duplicate values :\",df.duplicated().sum())"
   ]
  },
  {
   "cell_type": "markdown",
   "id": "9ad62ad8-aec9-465c-bd4c-227c47ca5980",
   "metadata": {},
   "source": [
    "### Data procesing and feature engineering\n",
    "\n",
    "- `price`: Remove rupee and , character\n",
    "- `sim`: Extracting a binary feature (called sim type 0 : Single sim and 1 : Dual sim)\n",
    "- `sim`: Extracting a binary feature called (Has_5g)"
   ]
  },
  {
   "cell_type": "code",
   "execution_count": 8,
   "id": "0923ebf2-0ba8-498f-820e-224fdc8ce705",
   "metadata": {},
   "outputs": [],
   "source": [
    "# Dropping the os\n",
    "df.drop(['os'],axis=1,inplace=True)"
   ]
  },
  {
   "cell_type": "code",
   "execution_count": 9,
   "id": "eef1841e-3bc0-4631-b7e2-8cc6ea2948a9",
   "metadata": {},
   "outputs": [],
   "source": [
    "# Removing rupee and , character from the 'price' feature and converting to int\n",
    "for index in range(len(df)):\n",
    "    item = df.loc[index, 'price']\n",
    "    item = item.replace(\"₹\", \"\").replace(\",\", \"\")\n",
    "    item = re.sub(r'[^\\d]', '', item)  # Remove any non-digit characters\n",
    "    df.loc[index, 'price'] = item\n",
    "\n",
    "df['price'] = df['price'].astype(np.int64)"
   ]
  },
  {
   "attachments": {
    "ba0961bf-1c61-4407-b06a-9c97d80ecb3c.png": {
     "image/png": "[encoded data removed]"
    }
   },
   "cell_type": "markdown",
   "id": "acf7ab4b-d8cc-4a7d-9cb0-5bd1dc464947",
   "metadata": {},
   "source": [
    "- Since NFC and IR blaster are some additional features in smartphones so let's create a binary feature where 1 will represent that this phone as one of additional feature and 0 if the smartphone doesn't have any.\n",
    "- In our dataset there are few smartphones which don't even have Wifi and VoLTE so we also need to keep these phones into consideration so let's create a binary features for this. 1 : Has_Wifi_Volte and and 0 if not.\n",
    "  \n",
    "![image.png](attachment:ba0961bf-1c61-4407-b06a-9c97d80ecb3c.png)\n",
    "\n",
    "- \n",
    "The \"G\" in 3G, 4G, and 5G stands for \"generation\". These terms refer to the different generations of cellular network technolog.It is not necessary for a smartphone to have a \"G\" in order to be functional.y"
   ]
  },
  {
   "cell_type": "code",
   "execution_count": 10,
   "id": "9fa0da4c-28ff-4659-8dd1-dfdd6c1a7722",
   "metadata": {
    "editable": true,
    "slideshow": {
     "slide_type": ""
    },
    "tags": []
   },
   "outputs": [],
   "source": [
    "# Empty lists to store data\n",
    "Sim_type = []\n",
    "Has_5g = []\n",
    "Add_Features = []\n",
    "Volte_Wifi = []\n",
    "\n",
    "for item in df['sim']:\n",
    "    Sim_type.append(1 if 'Dual Sim' in item.split(',') else 0)\n",
    "    Has_5g.append(2 if ' 5G' in item.split(',') else (1 if ' 4G' in item.split(',') or ' 3G' in item.split(',') else 0))\n",
    "    Add_Features.append(1 if 'NFC' in item.split(',') or 'IR Blaster' in item.split(',') else 0)\n",
    "    Volte_Wifi.append(1 if ' VoLTE' in item.split(',') and ' Wi-Fi' in item.split(',') else 0)\n",
    "\n",
    "\n",
    "# Convert lists to pandas Series\n",
    "df['Sim_type'] = pd.Series(Sim_type)\n",
    "df['Has_5g'] = pd.Series(Has_5g)\n",
    "df['Add_Features'] = pd.Series(Add_Features)\n",
    "df['Volte_Wifi'] = pd.Series(Volte_Wifi)\n",
    "df.drop(['sim'],axis =1,inplace=True)"
   ]
  },
  {
   "cell_type": "markdown",
   "id": "e65ba237-f595-41bc-93f7-f147684a3285",
   "metadata": {},
   "source": [
    "Just like we extracted some useful features from the sim feature we will now again extract some useful information from the ram feature.Non-breaking spaces are invisible characters that are used to prevent words from breaking at the end of a line. They are represented by the Unicode character \\u2009."
   ]
  },
  {
   "cell_type": "code",
   "execution_count": 11,
   "id": "5303f0f0-9a69-4e0d-812d-e0408927436f",
   "metadata": {},
   "outputs": [
    {
     "data": {
      "text/plain": [
       "['6', 'GB', 'RAM,', '128', 'GB', 'inbuilt']"
      ]
     },
     "execution_count": 11,
     "metadata": {},
     "output_type": "execute_result"
    }
   ],
   "source": [
    "str = '6 GB RAM, 128 GB inbuilt'\n",
    "str.split()"
   ]
  },
  {
   "cell_type": "code",
   "execution_count": 12,
   "id": "f5a22005-38fc-4dab-82d3-edcd2affb3b6",
   "metadata": {},
   "outputs": [],
   "source": [
    "RAM = []\n",
    "Storage = []\n",
    "\n",
    "for item in df['ram']:\n",
    "    contents = item.split()\n",
    "    if ('RAM,' in contents) or ('inbuilt' in contents):  # Filtered out any wrong info\n",
    "\n",
    "        # Now we just need to figure out if both are present or only one is present\n",
    "        if ('RAM,' in contents) and ('inbuilt' in contents):\n",
    "            RAM.append(int(contents[0]))\n",
    "            Storage.append(int(contents[3]))\n",
    "        elif 'RAM,' in contents:\n",
    "            RAM.append(int(contents[0]))\n",
    "            Storage.append(np.nan)\n",
    "        elif 'inbuilt' in contents:\n",
    "            RAM.append(np.nan)\n",
    "            Storage.append(int(contents[0]))\n",
    "            \n",
    "    else:\n",
    "        RAM.append(np.nan)\n",
    "        Storage.append(np.nan)\n",
    "\n",
    "df['RAM'] = pd.Series(RAM)\n",
    "df['Storage'] = pd.Series(Storage)\n",
    "df.drop(['ram'], axis=1, inplace=True)"
   ]
  },
  {
   "cell_type": "markdown",
   "id": "325cf6fd-8b18-43af-87bc-9f7a6325e38e",
   "metadata": {},
   "source": [
    "Just like the RAM and storage let's now extract the battery and charging W from the battery feature"
   ]
  },
  {
   "cell_type": "code",
   "execution_count": 13,
   "id": "1014f7b6-aa31-4d75-87fe-a70706f105a9",
   "metadata": {},
   "outputs": [
    {
     "name": "stdout",
     "output_type": "stream",
     "text": [
      "['5000', 'mAh', 'Battery', 'with', '455W', 'Fast', 'Charging']\n",
      "['3095', 'mAh', 'Battery', 'with', 'Fast', 'Charging']\n"
     ]
    }
   ],
   "source": [
    "str1 = '5000 mAh Battery with 455W Fast Charging'\n",
    "# int(str1.split()[4][:-1])\n",
    "\n",
    "str2 = '3095 mAh Battery with Fast Charging'\n",
    "print(str1.split())\n",
    "print(str2.split())"
   ]
  },
  {
   "cell_type": "code",
   "execution_count": 14,
   "id": "14dce12f-5d30-44bc-b82e-7d98d80ba104",
   "metadata": {},
   "outputs": [],
   "source": [
    "Battery = []\n",
    "Charging = []\n",
    "\n",
    "for item in df['battery']:\n",
    "    contents = item.split()\n",
    "    if ('Battery' in contents) or ('Charging' in contents):  # Filtered out any wrong info\n",
    "\n",
    "        if ('Battery' in contents) and ('Charging' in contents) and len(contents) == 7:\n",
    "            Battery.append(int(contents[0]))\n",
    "            Charging.append(contents[4][:-1])\n",
    "\n",
    "        # Means keywords are present but value of fast charging is not mentioned\n",
    "        elif ('Battery' in contents) and ('Charging' in contents) and len(contents) == 6:\n",
    "            Battery.append(int(contents[0]))\n",
    "            Charging.append(np.nan)\n",
    "\n",
    "        elif 'Battery' in contents:\n",
    "            Battery.append(int(contents[0]))\n",
    "            Charging.append(np.nan)\n",
    "                 \n",
    "    else:\n",
    "        Battery.append(np.nan)\n",
    "        Charging.append(np.nan)\n",
    "\n",
    "df['Battery'] = pd.Series(Battery)\n",
    "df['Charging'] = pd.Series(Charging)\n",
    "df.drop(['battery'], axis=1, inplace=True)"
   ]
  },
  {
   "cell_type": "markdown",
   "id": "a7c24047-124c-45ec-ae88-b484d71d16d6",
   "metadata": {},
   "source": [
    "Now first we will extract the pixels and screen size of each of the smartphone and we will calculate its PPI.The PPI of a display is calculated by dividing the total number of pixels in the display by the diagonal length of the display in inches. In your case, the display has a resolution of 1440 x 3216 pixels and a diagonal length of 6.7 inches. So, the PPI of the display would be:\r\n",
    "\r\n",
    "PPI = pixels / diagonal_inches\r\n",
    "= 1440 * 3216 / 6.7\r\n",
    "= 69,1200"
   ]
  },
  {
   "cell_type": "code",
   "execution_count": 15,
   "id": "7904c888-69a8-4424-940c-2bd10784e73e",
   "metadata": {},
   "outputs": [
    {
     "name": "stdout",
     "output_type": "stream",
     "text": [
      "['6.7', 'inches,', '1440', 'x', '3216', 'px,', '120', 'Hz', 'Display', 'with', 'Punch', 'Hole']\n",
      "['2.4', 'inches,', '320', 'x', '240', 'px', 'Display']\n"
     ]
    }
   ],
   "source": [
    "str1 = '6.7 inches, 1440 x 3216 px, 120 Hz Display with Punch Hole'\n",
    "str2 = '2.4 inches, 320 x 240 px Display'\n",
    "print(str1.split())\n",
    "print(str2.split())"
   ]
  },
  {
   "cell_type": "code",
   "execution_count": 16,
   "id": "5d04518f-39d6-4e39-9e30-41f89e748b38",
   "metadata": {},
   "outputs": [],
   "source": [
    "diagonal_len = []\n",
    "Total_px = []\n",
    "\n",
    "for item in df['display']:\n",
    "    contents = item.split()\n",
    "    if ('inches,' in contents) and ('Display'):  # Filtered out any wrong info\n",
    "\n",
    "        diagonal_len.append(contents[0])\n",
    "        px1_val = contents[2]\n",
    "        px2_val = contents[4]\n",
    "        total_px_value = int(px1_val) * int(px2_val)\n",
    "        Total_px.append(total_px_value)\n",
    "            \n",
    "    else:\n",
    "        diagonal_len.append(np.nan)\n",
    "        Total_px.append(np.nan)\n",
    "\n",
    "df['diagonal_len'] = pd.Series(diagonal_len)\n",
    "df['Total_px'] = pd.Series(Total_px)\n",
    "df.drop(['display'], axis=1, inplace=True)"
   ]
  },
  {
   "cell_type": "markdown",
   "id": "587a77fd-2fdf-4625-8c64-88126eb63fb8",
   "metadata": {},
   "source": [
    "- Total rear cameras\n",
    "- Front camera MP"
   ]
  },
  {
   "cell_type": "code",
   "execution_count": 17,
   "id": "59bba4bf-da4c-4bf1-9217-ada266d95d53",
   "metadata": {},
   "outputs": [
    {
     "name": "stdout",
     "output_type": "stream",
     "text": [
      "['50', 'MP', '+', '48', 'MP', '+', '32', 'MP', 'Triple', 'Rear', '&', '16', 'MP', 'Front', 'Camera']\n",
      "16\n"
     ]
    }
   ],
   "source": [
    "str = '50 MP + 48 MP + 32 MP Triple Rear & 16 MP Front Camera'\n",
    "print(str.split())\n",
    "print(str.split('&')[-1].split()[0])"
   ]
  },
  {
   "cell_type": "code",
   "execution_count": 18,
   "id": "f2356003-d4ef-407f-9f3e-44eb8c297d01",
   "metadata": {},
   "outputs": [],
   "source": [
    "rear_cams = []\n",
    "Total_fmp = []\n",
    "\n",
    "df['camera'].fillna(df['camera'].mode()[0],inplace=True)\n",
    "\n",
    "for item in df['camera']:\n",
    "    contents = item.split()\n",
    "    if ('Rear' in contents) and ('Front' in contents) and ('&' in contents):  # Filtered out any wrong info\n",
    "\n",
    "        if 'Quad' in contents:\n",
    "            rear_cams.append(4)\n",
    "        elif 'Triple' in contents:\n",
    "            rear_cams.append(3)\n",
    "        elif 'Dual' in contents:\n",
    "            rear_cams.append(2)\n",
    "        else:\n",
    "            rear_cams.append(1)\n",
    "            \n",
    "        Total_fmp.append(item.split('&')[-1].split()[0])\n",
    "            \n",
    "    else:\n",
    "        rear_cams.append(np.nan)\n",
    "        Total_fmp.append(np.nan)\n",
    "\n",
    "df['rear_cams'] = pd.Series(rear_cams)\n",
    "df['Total_fmp'] = pd.Series(Total_fmp)\n",
    "df.drop(['camera'], axis=1, inplace=True)"
   ]
  },
  {
   "cell_type": "code",
   "execution_count": 19,
   "id": "1eb68a97-e81a-4850-a66b-a2201d8034fb",
   "metadata": {},
   "outputs": [
    {
     "data": {
      "text/html": [
       "<div>\n",
       "<style scoped>\n",
       "    .dataframe tbody tr th:only-of-type {\n",
       "        vertical-align: middle;\n",
       "    }\n",
       "\n",
       "    .dataframe tbody tr th {\n",
       "        vertical-align: top;\n",
       "    }\n",
       "\n",
       "    .dataframe thead th {\n",
       "        text-align: right;\n",
       "    }\n",
       "</style>\n",
       "<table border=\"1\" class=\"dataframe\">\n",
       "  <thead>\n",
       "    <tr style=\"text-align: right;\">\n",
       "      <th></th>\n",
       "      <th>model</th>\n",
       "      <th>price</th>\n",
       "      <th>rating</th>\n",
       "      <th>processor</th>\n",
       "      <th>card</th>\n",
       "      <th>Sim_type</th>\n",
       "      <th>Has_5g</th>\n",
       "      <th>Add_Features</th>\n",
       "      <th>Volte_Wifi</th>\n",
       "      <th>RAM</th>\n",
       "      <th>Storage</th>\n",
       "      <th>Battery</th>\n",
       "      <th>Charging</th>\n",
       "      <th>diagonal_len</th>\n",
       "      <th>Total_px</th>\n",
       "      <th>rear_cams</th>\n",
       "      <th>Total_fmp</th>\n",
       "    </tr>\n",
       "  </thead>\n",
       "  <tbody>\n",
       "    <tr>\n",
       "      <th>0</th>\n",
       "      <td>OnePlus 11 5G</td>\n",
       "      <td>54999</td>\n",
       "      <td>89.0</td>\n",
       "      <td>Snapdragon 8 Gen2, Octa Core, 3.2 GHz Processor</td>\n",
       "      <td>Memory Card Not Supported</td>\n",
       "      <td>1</td>\n",
       "      <td>2</td>\n",
       "      <td>0</td>\n",
       "      <td>1</td>\n",
       "      <td>12.0</td>\n",
       "      <td>256.0</td>\n",
       "      <td>5000.0</td>\n",
       "      <td>100</td>\n",
       "      <td>6.7</td>\n",
       "      <td>4631040.0</td>\n",
       "      <td>3.0</td>\n",
       "      <td>16</td>\n",
       "    </tr>\n",
       "    <tr>\n",
       "      <th>1</th>\n",
       "      <td>OnePlus Nord CE 2 Lite 5G</td>\n",
       "      <td>19989</td>\n",
       "      <td>81.0</td>\n",
       "      <td>Snapdragon 695, Octa Core, 2.2 GHz Processor</td>\n",
       "      <td>Memory Card (Hybrid), upto 1 TB</td>\n",
       "      <td>1</td>\n",
       "      <td>2</td>\n",
       "      <td>0</td>\n",
       "      <td>1</td>\n",
       "      <td>6.0</td>\n",
       "      <td>128.0</td>\n",
       "      <td>5000.0</td>\n",
       "      <td>33</td>\n",
       "      <td>6.59</td>\n",
       "      <td>2604960.0</td>\n",
       "      <td>3.0</td>\n",
       "      <td>16</td>\n",
       "    </tr>\n",
       "    <tr>\n",
       "      <th>2</th>\n",
       "      <td>Samsung Galaxy A14 5G</td>\n",
       "      <td>16499</td>\n",
       "      <td>75.0</td>\n",
       "      <td>Exynos 1330, Octa Core, 2.4 GHz Processor</td>\n",
       "      <td>Memory Card Supported, upto 1 TB</td>\n",
       "      <td>1</td>\n",
       "      <td>2</td>\n",
       "      <td>0</td>\n",
       "      <td>1</td>\n",
       "      <td>4.0</td>\n",
       "      <td>64.0</td>\n",
       "      <td>5000.0</td>\n",
       "      <td>15</td>\n",
       "      <td>6.6</td>\n",
       "      <td>2600640.0</td>\n",
       "      <td>3.0</td>\n",
       "      <td>13</td>\n",
       "    </tr>\n",
       "  </tbody>\n",
       "</table>\n",
       "</div>"
      ],
      "text/plain": [
       "                       model  price  rating  \\\n",
       "0              OnePlus 11 5G  54999    89.0   \n",
       "1  OnePlus Nord CE 2 Lite 5G  19989    81.0   \n",
       "2      Samsung Galaxy A14 5G  16499    75.0   \n",
       "\n",
       "                                         processor  \\\n",
       "0  Snapdragon 8 Gen2, Octa Core, 3.2 GHz Processor   \n",
       "1     Snapdragon 695, Octa Core, 2.2 GHz Processor   \n",
       "2        Exynos 1330, Octa Core, 2.4 GHz Processor   \n",
       "\n",
       "                               card  Sim_type  Has_5g  Add_Features  \\\n",
       "0         Memory Card Not Supported         1       2             0   \n",
       "1   Memory Card (Hybrid), upto 1 TB         1       2             0   \n",
       "2  Memory Card Supported, upto 1 TB         1       2             0   \n",
       "\n",
       "   Volte_Wifi   RAM  Storage  Battery Charging diagonal_len   Total_px  \\\n",
       "0           1  12.0    256.0   5000.0      100          6.7  4631040.0   \n",
       "1           1   6.0    128.0   5000.0       33         6.59  2604960.0   \n",
       "2           1   4.0     64.0   5000.0       15          6.6  2600640.0   \n",
       "\n",
       "   rear_cams Total_fmp  \n",
       "0        3.0        16  \n",
       "1        3.0        16  \n",
       "2        3.0        13  "
      ]
     },
     "execution_count": 19,
     "metadata": {},
     "output_type": "execute_result"
    }
   ],
   "source": [
    "df.head(3)"
   ]
  },
  {
   "cell_type": "markdown",
   "id": "5df2ca13-561a-4089-9ccb-fe5d3da14b2c",
   "metadata": {},
   "source": [
    "Since there is some wrong infromation stored in the card attribute so we will replace all the wrong information with null values."
   ]
  },
  {
   "cell_type": "code",
   "execution_count": 20,
   "id": "6dd88f6c-1858-48f9-b428-972cee41c019",
   "metadata": {},
   "outputs": [
    {
     "data": {
      "image/png": "[encoded data removed]",
      "text/plain": [
       "<Figure size 1500x300 with 3 Axes>"
      ]
     },
     "metadata": {},
     "output_type": "display_data"
    }
   ],
   "source": [
    "# Visualize missing values using a bar chart\n",
    "msno.bar(df, figsize=(15, 3), color=\"dodgerblue\", sort=\"ascending\", fontsize=12)\n",
    "plt.show()"
   ]
  },
  {
   "cell_type": "code",
   "execution_count": 21,
   "id": "23429d86-fa69-428a-8c48-a578784a06d0",
   "metadata": {},
   "outputs": [
    {
     "data": {
      "text/plain": [
       "741"
      ]
     },
     "execution_count": 21,
     "metadata": {},
     "output_type": "execute_result"
    }
   ],
   "source": [
    "1013-272"
   ]
  },
  {
   "cell_type": "code",
   "execution_count": 29,
   "id": "5f9cd87b-41ba-4a5b-b5a3-b81f6cbaae02",
   "metadata": {},
   "outputs": [],
   "source": [
    "# Remvoing any unrelated information\n",
    "for i in range(len(df)):\n",
    "    item = df.loc[i, 'card']\n",
    "    if pd.isna(item) == False and 'Memory' not in item.split():\n",
    "        df.loc[i,'card'] = np.nan\n",
    "\n",
    "# Considering only the name of the processor and brand\n",
    "for i in range(len(df)):\n",
    "    item1 = df.loc[i,'processor']\n",
    "    item2 = df.loc[i,'model']\n",
    "    df.loc[i,'processor'] = item1.split()[0]\n",
    "    df.loc[i,'model'] = item2.split()[0]"
   ]
  },
  {
   "cell_type": "code",
   "execution_count": 30,
   "id": "e697c6dd-f722-4cd9-9f14-374a43d557f8",
   "metadata": {},
   "outputs": [],
   "source": [
    "# Let's fix some errors\n",
    "df.loc[(df[\"processor\"] == \"A13\") | (df[\"processor\"] == \"Apple\"), \"processor\"] = \"Bionic\"\n",
    "df.loc[df[\"processor\"] == \"Helio,\",\"processor\"] = \"Helio\"\n",
    "df.loc[df[\"processor\"] == \"Unisoc,\",\"processor\"] = \"Unisoc\"\n",
    "df.loc[df[\"processor\"] == \"Sanpdragon\",\"processor\"] = \"Snapdragon\"\n",
    "\n",
    "# Sort of doing mode imputation\n",
    "types = ['1', '4', 'SC9863A,', '32', '1.77', 'SC6531E,', '48','256', 'Single', 'Samsung', '(28', 'Fusion',\n",
    " '52', '2000', '800','1450', 'Dual', '8']\n",
    "\n",
    "for type in types:\n",
    "    df.loc[df[\"processor\"] == type,\"processor\"] = \"Snapdragon\""
   ]
  },
  {
   "cell_type": "code",
   "execution_count": null,
   "id": "fd6db8e7-cb1f-45c3-bd11-8baa6784513c",
   "metadata": {},
   "outputs": [],
   "source": []
  },
  {
   "cell_type": "code",
   "execution_count": null,
   "id": "1cae708a-4668-452d-bb1b-3c1ebbc0167f",
   "metadata": {},
   "outputs": [],
   "source": []
  },
  {
   "cell_type": "code",
   "execution_count": null,
   "id": "371728ac-1667-4079-8487-71caf2214f9a",
   "metadata": {},
   "outputs": [],
   "source": []
  },
  {
   "cell_type": "code",
   "execution_count": null,
   "id": "a7ca2ef9-1758-435a-a30f-46de707687b4",
   "metadata": {},
   "outputs": [],
   "source": []
  },
  {
   "cell_type": "code",
   "execution_count": null,
   "id": "c8621ed4-318a-48a8-9b73-0d83557f6ad9",
   "metadata": {},
   "outputs": [],
   "source": [
    "# Imputing one missing value with mode value\n",
    "df['camera'].fillna(df['camera'].mode()[0],inplace=True)"
   ]
  },
  {
   "cell_type": "code",
   "execution_count": null,
   "id": "650810be-54da-45ac-a95a-44ac2ec5944f",
   "metadata": {},
   "outputs": [],
   "source": [
    "Rear_cameras = []\n",
    "\n",
    "for item in df['camera']:\n",
    "    if \"Rear\" and \"Front\" in item.split(\" \"):\n",
    "        Rear_cameras.append(item.split('&')[0])\n",
    "        front_cameras.append(item.split('&')[1])\n",
    "\n",
    "if \"Rear\" in item.split(\" \") for item in df['camera']"
   ]
  },
  {
   "cell_type": "code",
   "execution_count": 32,
   "id": "cf8c0eaa-2d3d-434c-83b5-e5bf9f89ce94",
   "metadata": {},
   "outputs": [],
   "source": [
    "Rear_cameras = []\n",
    "front_cameras = []\n",
    "\n",
    "\n",
    "\n",
    "for item in df['camera']:\n",
    "    if \"Rear\" and \"Front\" in item.split(\" \"):\n",
    "        Rear_cameras.append(item.split('&')[0])\n",
    "        front_cameras.append(item.split('&')[1])\n",
    "        "
   ]
  },
  {
   "cell_type": "code",
   "execution_count": 39,
   "id": "f230ef32-ec22-4318-bcac-a7f387929d42",
   "metadata": {},
   "outputs": [
    {
     "data": {
      "text/plain": [
       "0       16 MP Front Camera\n",
       "1       16 MP Front Camera\n",
       "2       13 MP Front Camera\n",
       "3       16 MP Front Camera\n",
       "4       16 MP Front Camera\n",
       "              ...         \n",
       "939     16 MP Front Camera\n",
       "940      8 MP Front Camera\n",
       "941     16 MP Front Camera\n",
       "942     32 MP Front Camera\n",
       "943     32 MP Front Camera\n",
       "Length: 944, dtype: object"
      ]
     },
     "execution_count": 39,
     "metadata": {},
     "output_type": "execute_result"
    }
   ],
   "source": [
    "front_cameras = pd.Series(front_cameras)\n",
    "front_cameras"
   ]
  },
  {
   "cell_type": "code",
   "execution_count": 40,
   "id": "2d95e65b-cd2c-4ffb-b4bc-ac738fe7b8d8",
   "metadata": {},
   "outputs": [
    {
     "data": {
      "text/plain": [
       "(1020, 14)"
      ]
     },
     "execution_count": 40,
     "metadata": {},
     "output_type": "execute_result"
    }
   ],
   "source": [
    "df.shape"
   ]
  },
  {
   "cell_type": "code",
   "execution_count": 42,
   "id": "c7dab2a5-dc69-4bb4-9e06-fd5377916449",
   "metadata": {},
   "outputs": [
    {
     "data": {
      "text/html": [
       "<div>\n",
       "<style scoped>\n",
       "    .dataframe tbody tr th:only-of-type {\n",
       "        vertical-align: middle;\n",
       "    }\n",
       "\n",
       "    .dataframe tbody tr th {\n",
       "        vertical-align: top;\n",
       "    }\n",
       "\n",
       "    .dataframe thead th {\n",
       "        text-align: right;\n",
       "    }\n",
       "</style>\n",
       "<table border=\"1\" class=\"dataframe\">\n",
       "  <thead>\n",
       "    <tr style=\"text-align: right;\">\n",
       "      <th></th>\n",
       "      <th>model</th>\n",
       "      <th>price</th>\n",
       "      <th>rating</th>\n",
       "      <th>processor</th>\n",
       "      <th>battery</th>\n",
       "      <th>display</th>\n",
       "      <th>camera</th>\n",
       "      <th>card</th>\n",
       "      <th>Sim_type</th>\n",
       "      <th>Has_5g</th>\n",
       "      <th>Add_Features</th>\n",
       "      <th>Volte_Wifi</th>\n",
       "      <th>RAM</th>\n",
       "      <th>Storage</th>\n",
       "      <th>Battery_size</th>\n",
       "    </tr>\n",
       "  </thead>\n",
       "  <tbody>\n",
       "    <tr>\n",
       "      <th>0</th>\n",
       "      <td>OnePlus 11 5G</td>\n",
       "      <td>54999</td>\n",
       "      <td>89.0</td>\n",
       "      <td>Snapdragon 8 Gen2, Octa Core, 3.2 GHz Processor</td>\n",
       "      <td>5000 mAh Battery with 100W Fast Charging</td>\n",
       "      <td>6.7 inches, 1440 x 3216 px, 120 Hz Display wit...</td>\n",
       "      <td>50 MP + 48 MP + 32 MP Triple Rear &amp; 16 MP Fron...</td>\n",
       "      <td>Memory Card Not Supported</td>\n",
       "      <td>1</td>\n",
       "      <td>2</td>\n",
       "      <td>1</td>\n",
       "      <td>1</td>\n",
       "      <td>1</td>\n",
       "      <td></td>\n",
       "      <td>5000</td>\n",
       "    </tr>\n",
       "    <tr>\n",
       "      <th>1</th>\n",
       "      <td>OnePlus Nord CE 2 Lite 5G</td>\n",
       "      <td>19989</td>\n",
       "      <td>81.0</td>\n",
       "      <td>Snapdragon 695, Octa Core, 2.2 GHz Processor</td>\n",
       "      <td>5000 mAh Battery with 33W Fast Charging</td>\n",
       "      <td>6.59 inches, 1080 x 2412 px, 120 Hz Display wi...</td>\n",
       "      <td>64 MP + 2 MP + 2 MP Triple Rear &amp; 16 MP Front ...</td>\n",
       "      <td>Memory Card (Hybrid), upto 1 TB</td>\n",
       "      <td>1</td>\n",
       "      <td>2</td>\n",
       "      <td>1</td>\n",
       "      <td>1</td>\n",
       "      <td>6</td>\n",
       "      <td></td>\n",
       "      <td>5000</td>\n",
       "    </tr>\n",
       "  </tbody>\n",
       "</table>\n",
       "</div>"
      ],
      "text/plain": [
       "                       model  price  rating  \\\n",
       "0              OnePlus 11 5G  54999    89.0   \n",
       "1  OnePlus Nord CE 2 Lite 5G  19989    81.0   \n",
       "\n",
       "                                         processor  \\\n",
       "0  Snapdragon 8 Gen2, Octa Core, 3.2 GHz Processor   \n",
       "1     Snapdragon 695, Octa Core, 2.2 GHz Processor   \n",
       "\n",
       "                                    battery  \\\n",
       "0  5000 mAh Battery with 100W Fast Charging   \n",
       "1   5000 mAh Battery with 33W Fast Charging   \n",
       "\n",
       "                                             display  \\\n",
       "0  6.7 inches, 1440 x 3216 px, 120 Hz Display wit...   \n",
       "1  6.59 inches, 1080 x 2412 px, 120 Hz Display wi...   \n",
       "\n",
       "                                              camera  \\\n",
       "0  50 MP + 48 MP + 32 MP Triple Rear & 16 MP Fron...   \n",
       "1  64 MP + 2 MP + 2 MP Triple Rear & 16 MP Front ...   \n",
       "\n",
       "                              card  Sim_type  Has_5g  Add_Features  \\\n",
       "0        Memory Card Not Supported         1       2             1   \n",
       "1  Memory Card (Hybrid), upto 1 TB         1       2             1   \n",
       "\n",
       "   Volte_Wifi RAM Storage Battery_size  \n",
       "0           1   1                 5000  \n",
       "1           1   6                 5000  "
      ]
     },
     "execution_count": 42,
     "metadata": {},
     "output_type": "execute_result"
    }
   ],
   "source": [
    "df.head(2)"
   ]
  },
  {
   "cell_type": "code",
   "execution_count": 26,
   "id": "ecf59422-fabf-455e-8198-51ccc60e78c4",
   "metadata": {},
   "outputs": [
    {
     "data": {
      "text/plain": [
       "Memory Card Supported, upto 1 TB      171\n",
       "Memory Card Not Supported             112\n",
       "Android v12                           107\n",
       "Memory Card Supported, upto 512 GB    105\n",
       "Memory Card (Hybrid), upto 1 TB        91\n",
       "Memory Card Supported                  89\n",
       "Memory Card Supported, upto 256 GB     87\n",
       "Android v13                            46\n",
       "Android v11                            41\n",
       "Memory Card (Hybrid)                   30\n",
       "Memory Card (Hybrid), upto 256 GB      13\n",
       "Memory Card (Hybrid), upto 512 GB      11\n",
       "Android v10                            11\n",
       "Bluetooth                              11\n",
       "Memory Card Supported, upto 32 GB       8\n",
       "Memory Card Supported, upto 128 GB      7\n",
       "iOS v14                                 6\n",
       "Memory Card Supported, upto 2 TB        5\n",
       "0.3 MP Rear Camera                      3\n",
       "Memory Card (Hybrid), upto 128 GB       3\n",
       "Name: card, dtype: int64"
      ]
     },
     "execution_count": 26,
     "metadata": {},
     "output_type": "execute_result"
    }
   ],
   "source": [
    "df['card'].value_counts()[:20]\n",
    "#['Memory Card Not Supported', 'Memory Card (Hybrid), upto 1 TB'"
   ]
  },
  {
   "cell_type": "code",
   "execution_count": 27,
   "id": "5ceea874-c385-41a5-95ac-3286f0649b60",
   "metadata": {},
   "outputs": [
    {
     "data": {
      "text/plain": [
       "Index(['Memory Card Supported, upto 1 TB', 'Memory Card Not Supported',\n",
       "       'Android v12', 'Memory Card Supported, upto 512 GB',\n",
       "       'Memory Card (Hybrid), upto 1 TB', 'Memory Card Supported',\n",
       "       'Memory Card Supported, upto 256 GB', 'Android v13', 'Android v11',\n",
       "       'Memory Card (Hybrid)', 'Memory Card (Hybrid), upto 256 GB',\n",
       "       'Memory Card (Hybrid), upto 512 GB', 'Android v10', 'Bluetooth',\n",
       "       'Memory Card Supported, upto 32 GB',\n",
       "       'Memory Card Supported, upto 128 GB', 'iOS v14',\n",
       "       'Memory Card Supported, upto 2 TB', '0.3 MP Rear Camera',\n",
       "       'Memory Card (Hybrid), upto 128 GB'],\n",
       "      dtype='object')"
      ]
     },
     "execution_count": 27,
     "metadata": {},
     "output_type": "execute_result"
    }
   ],
   "source": [
    "['Memory Card Supported, upto 1 TB', 'Memory Card Not Supported',\n",
    "       'Memory Card Supported, upto 512 GB','Memory Card Supported',\n",
    "       'Memory Card Supported, upto 256 GB',\n",
    "       'Memory Card (Hybrid)', 'Memory Card (Hybrid), upto 256 GB',\n",
    "       'Memory Card (Hybrid), upto 512 GB', 'Android v10', 'Bluetooth',\n",
    "       'Memory Card Supported, upto 32 GB',\n",
    "       'Memory Card Supported, upto 128 GB', 'iOS v14',\n",
    "       'Memory Card Supported, upto 2 TB', '0.3 MP Rear Camera',\n",
    "       'Memory Card (Hybrid), upto 128 GB']"
   ]
  },
  {
   "cell_type": "code",
   "execution_count": 11,
   "id": "7ab8b225-6169-4af1-9db7-e125c2727957",
   "metadata": {},
   "outputs": [],
   "source": [
    "# Imputing the missing values with Mode value\n",
    "df['ram'].fillna(df['ram'].mode()[0],inplace=True)"
   ]
  },
  {
   "cell_type": "markdown",
   "id": "57a8f731-ecde-4fa2-958d-0643c9a4d0b6",
   "metadata": {},
   "source": [
    "- Snapdragon\n",
    "- Exynos\n",
    "- Dimensity\n",
    "- Bionic\n",
    "- Helio\n",
    "- Unisoc\n",
    "- Tiger\n",
    "- Google  Tensor"
   ]
  },
  {
   "cell_type": "code",
   "execution_count": 35,
   "id": "9cc34a05-eaed-4a9a-b899-a61107b17f4f",
   "metadata": {},
   "outputs": [
    {
     "data": {
      "text/plain": [
       "Snapdragon    407\n",
       "Helio         202\n",
       "Dimensity     177\n",
       "Exynos         49\n",
       "Bionic         39\n",
       "Unisoc         28\n",
       "Tiger          24\n",
       "Octa           14\n",
       "No             13\n",
       "Google          9\n",
       "Kirin           7\n",
       "Quad            6\n",
       "A13             5\n",
       "Qualcomm        5\n",
       "                4\n",
       "Spreadtrum      4\n",
       "1               3\n",
       "4               3\n",
       "32              2\n",
       "SC9863A         2\n",
       "1.77            2\n",
       "Single          1\n",
       "256             1\n",
       "Samsung         1\n",
       "48              1\n",
       "(28             1\n",
       "SC6531E         1\n",
       "Sanpdragon      1\n",
       "52              1\n",
       "2000            1\n",
       "800             1\n",
       "1450            1\n",
       "Fusion          1\n",
       "Dual            1\n",
       "Apple           1\n",
       "8               1\n",
       "dtype: int64"
      ]
     },
     "execution_count": 35,
     "metadata": {},
     "output_type": "execute_result"
    }
   ],
   "source": [
    "pd.Series(list).value_counts()"
   ]
  },
  {
   "cell_type": "code",
   "execution_count": null,
   "id": "1dd822e1-3b2c-4fac-8cae-c49318fa8fb4",
   "metadata": {},
   "outputs": [],
   "source": []
  },
  {
   "cell_type": "code",
   "execution_count": null,
   "id": "de80bbc2-a05a-41c7-8652-a9e7c5817408",
   "metadata": {},
   "outputs": [],
   "source": []
  },
  {
   "cell_type": "code",
   "execution_count": 10,
   "id": "2ee95330-b3c9-4bef-9251-44a7a46228f7",
   "metadata": {},
   "outputs": [
    {
     "data": {
      "text/html": [
       "<div>\n",
       "<style scoped>\n",
       "    .dataframe tbody tr th:only-of-type {\n",
       "        vertical-align: middle;\n",
       "    }\n",
       "\n",
       "    .dataframe tbody tr th {\n",
       "        vertical-align: top;\n",
       "    }\n",
       "\n",
       "    .dataframe thead th {\n",
       "        text-align: right;\n",
       "    }\n",
       "</style>\n",
       "<table border=\"1\" class=\"dataframe\">\n",
       "  <thead>\n",
       "    <tr style=\"text-align: right;\">\n",
       "      <th></th>\n",
       "      <th>model</th>\n",
       "      <th>price</th>\n",
       "      <th>rating</th>\n",
       "      <th>processor</th>\n",
       "      <th>ram</th>\n",
       "      <th>battery</th>\n",
       "      <th>display</th>\n",
       "      <th>camera</th>\n",
       "      <th>card</th>\n",
       "      <th>os</th>\n",
       "      <th>Sim_type</th>\n",
       "      <th>Has_5g</th>\n",
       "      <th>Add_Features</th>\n",
       "      <th>Volte_Wifi</th>\n",
       "    </tr>\n",
       "  </thead>\n",
       "  <tbody>\n",
       "    <tr>\n",
       "      <th>0</th>\n",
       "      <td>OnePlus 11 5G</td>\n",
       "      <td>54999</td>\n",
       "      <td>89.0</td>\n",
       "      <td>Snapdragon 8 Gen2, Octa Core, 3.2 GHz Processor</td>\n",
       "      <td>12 GB RAM, 256 GB inbuilt</td>\n",
       "      <td>5000 mAh Battery with 100W Fast Charging</td>\n",
       "      <td>6.7 inches, 1440 x 3216 px, 120 Hz Display wit...</td>\n",
       "      <td>50 MP + 48 MP + 32 MP Triple Rear &amp; 16 MP Fron...</td>\n",
       "      <td>Memory Card Not Supported</td>\n",
       "      <td>Android v13</td>\n",
       "      <td>1</td>\n",
       "      <td>2</td>\n",
       "      <td>1</td>\n",
       "      <td>1</td>\n",
       "    </tr>\n",
       "    <tr>\n",
       "      <th>1</th>\n",
       "      <td>OnePlus Nord CE 2 Lite 5G</td>\n",
       "      <td>19989</td>\n",
       "      <td>81.0</td>\n",
       "      <td>Snapdragon 695, Octa Core, 2.2 GHz Processor</td>\n",
       "      <td>6 GB RAM, 128 GB inbuilt</td>\n",
       "      <td>5000 mAh Battery with 33W Fast Charging</td>\n",
       "      <td>6.59 inches, 1080 x 2412 px, 120 Hz Display wi...</td>\n",
       "      <td>64 MP + 2 MP + 2 MP Triple Rear &amp; 16 MP Front ...</td>\n",
       "      <td>Memory Card (Hybrid), upto 1 TB</td>\n",
       "      <td>Android v12</td>\n",
       "      <td>1</td>\n",
       "      <td>2</td>\n",
       "      <td>1</td>\n",
       "      <td>1</td>\n",
       "    </tr>\n",
       "  </tbody>\n",
       "</table>\n",
       "</div>"
      ],
      "text/plain": [
       "                       model  price  rating  \\\n",
       "0              OnePlus 11 5G  54999    89.0   \n",
       "1  OnePlus Nord CE 2 Lite 5G  19989    81.0   \n",
       "\n",
       "                                         processor                        ram  \\\n",
       "0  Snapdragon 8 Gen2, Octa Core, 3.2 GHz Processor  12 GB RAM, 256 GB inbuilt   \n",
       "1     Snapdragon 695, Octa Core, 2.2 GHz Processor   6 GB RAM, 128 GB inbuilt   \n",
       "\n",
       "                                    battery  \\\n",
       "0  5000 mAh Battery with 100W Fast Charging   \n",
       "1   5000 mAh Battery with 33W Fast Charging   \n",
       "\n",
       "                                             display  \\\n",
       "0  6.7 inches, 1440 x 3216 px, 120 Hz Display wit...   \n",
       "1  6.59 inches, 1080 x 2412 px, 120 Hz Display wi...   \n",
       "\n",
       "                                              camera  \\\n",
       "0  50 MP + 48 MP + 32 MP Triple Rear & 16 MP Fron...   \n",
       "1  64 MP + 2 MP + 2 MP Triple Rear & 16 MP Front ...   \n",
       "\n",
       "                              card           os  Sim_type  Has_5g  \\\n",
       "0        Memory Card Not Supported  Android v13         1       2   \n",
       "1  Memory Card (Hybrid), upto 1 TB  Android v12         1       2   \n",
       "\n",
       "   Add_Features  Volte_Wifi  \n",
       "0             1           1  \n",
       "1             1           1  "
      ]
     },
     "execution_count": 10,
     "metadata": {},
     "output_type": "execute_result"
    }
   ],
   "source": [
    "df.head(2)"
   ]
  },
  {
   "cell_type": "code",
   "execution_count": 11,
   "id": "4e0437d0-d441-40f7-a03e-c2041130614c",
   "metadata": {},
   "outputs": [
    {
     "data": {
      "text/plain": [
       "model             0\n",
       "price             0\n",
       "rating          141\n",
       "processor         0\n",
       "ram               0\n",
       "battery           0\n",
       "display           0\n",
       "camera            1\n",
       "card              7\n",
       "os               17\n",
       "Sim_type          0\n",
       "Has_5g            0\n",
       "Add_Features      0\n",
       "Volte_Wifi        0\n",
       "dtype: int64"
      ]
     },
     "execution_count": 11,
     "metadata": {},
     "output_type": "execute_result"
    }
   ],
   "source": [
    "df.isnull().sum()"
   ]
  },
  {
   "cell_type": "code",
   "execution_count": 13,
   "id": "3fbea1cf-7d8c-442d-a3df-46cbee67db0f",
   "metadata": {},
   "outputs": [
    {
     "data": {
      "text/plain": [
       "<Axes: xlabel='price'>"
      ]
     },
     "execution_count": 13,
     "metadata": {},
     "output_type": "execute_result"
    },
    {
     "data": {
      "image/png": "[encoded data removed]",
      "text/plain": [
       "<Figure size 1500x300 with 2 Axes>"
      ]
     },
     "metadata": {},
     "output_type": "display_data"
    }
   ],
   "source": [
    "# Let's see if there are any outliers in the rating and price feature\n",
    "fig,ax = plt.subplots(1,2,figsize = (15,3))\n",
    "\n",
    "sns.boxplot(x = df['rating'],ax = ax[0])\n",
    "sns.boxplot(x = df['price'],ax = ax[1])"
   ]
  },
  {
   "cell_type": "code",
   "execution_count": null,
   "id": "b87124ce-f7f0-40c8-98a0-a4f074bde68c",
   "metadata": {},
   "outputs": [],
   "source": []
  }
 ],
 "metadata": {
  "kernelspec": {
   "display_name": "Python 3 (ipykernel)",
   "language": "python",
   "name": "python3"
  },
  "language_info": {
   "codemirror_mode": {
    "name": "ipython",
    "version": 3
   },
   "file_extension": ".py",
   "mimetype": "text/x-python",
   "name": "python",
   "nbconvert_exporter": "python",
   "pygments_lexer": "ipython3",
   "version": "3.10.0"
  }
 },
 "nbformat": 4,
 "nbformat_minor": 5
}
