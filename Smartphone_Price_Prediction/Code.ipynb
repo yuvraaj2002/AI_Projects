{
 "cells": [
  {
   "cell_type": "markdown",
   "id": "653c85b5-04bf-4def-927b-ed153fd20130",
   "metadata": {},
   "source": [
    "### Importing the dependencies"
   ]
  },
  {
   "cell_type": "code",
   "execution_count": 1,
   "id": "6e650518-2c52-4fdf-9744-8747640c3fa2",
   "metadata": {},
   "outputs": [
    {
     "name": "stdout",
     "output_type": "stream",
     "text": [
      "Everything imported successfully😊\n"
     ]
    }
   ],
   "source": [
    "# For data visualization and manipulation\n",
    "import pandas as pd\n",
    "import numpy as np\n",
    "import seaborn as sns\n",
    "import matplotlib.pyplot as plt\n",
    "import missingno as msno\n",
    "import re\n",
    "\n",
    "print(\"Everything imported successfully😊\")"
   ]
  },
  {
   "cell_type": "markdown",
   "id": "4afa63b6-8fde-4c05-a4b5-a62a770818bf",
   "metadata": {},
   "source": [
    "### Dataset desciption\n",
    "- VoLTE stands for Voice over LTE. It is a technology that allows you to make and receive calls over the LTE network. This means that you can enjoy better call quality and voice clarity, even when you are in a poor cellular reception area.\r",
    "- \n",
    "Wi-Fi is a wireless networking technology that allows you to connect to the internet without using a cellular network. This is a great way to save on your data plan, especially if you are using a lot of data for streaming videos or music\n",
    "  .- \r\n",
    "IR Blaster is a small infrared transmitter that is built into some smartphones. It allows you to use your phone as a remote control for other devices, such as your TV, air conditioner, or stere\n",
    "- NFC stands for Near Field Communication. It is a short-range wireless technology that allows two devices to communicate with each other when they are brought within close proximity. The maximum distance for NFC communication is about 4 inches.o."
   ]
  },
  {
   "cell_type": "code",
   "execution_count": 2,
   "id": "d4eee259-05a5-478d-94ae-0b22fde5089b",
   "metadata": {},
   "outputs": [],
   "source": [
    "# Loading the data from csv file to dataframe\n",
    "df = pd.read_csv('Data.csv')"
   ]
  },
  {
   "cell_type": "markdown",
   "id": "96c7843f-0f91-46dd-8b3a-e4f14a4c1835",
   "metadata": {},
   "source": [
    "### Exploratory data analysis"
   ]
  },
  {
   "cell_type": "code",
   "execution_count": 3,
   "id": "e2fa050c-f5f6-4edb-a3de-c2793ff638bc",
   "metadata": {},
   "outputs": [
    {
     "name": "stdout",
     "output_type": "stream",
     "text": [
      "Shape of the dataframe :  (1020, 11)\n"
     ]
    }
   ],
   "source": [
    "# Checking shape of the dataframe\n",
    "print(\"Shape of the dataframe : \",df.shape)"
   ]
  },
  {
   "cell_type": "code",
   "execution_count": 4,
   "id": "916692a9-8827-4e63-a0c8-60519e2d91ff",
   "metadata": {},
   "outputs": [
    {
     "data": {
      "text/html": [
       "<div>\n",
       "<style scoped>\n",
       "    .dataframe tbody tr th:only-of-type {\n",
       "        vertical-align: middle;\n",
       "    }\n",
       "\n",
       "    .dataframe tbody tr th {\n",
       "        vertical-align: top;\n",
       "    }\n",
       "\n",
       "    .dataframe thead th {\n",
       "        text-align: right;\n",
       "    }\n",
       "</style>\n",
       "<table border=\"1\" class=\"dataframe\">\n",
       "  <thead>\n",
       "    <tr style=\"text-align: right;\">\n",
       "      <th></th>\n",
       "      <th>model</th>\n",
       "      <th>price</th>\n",
       "      <th>rating</th>\n",
       "      <th>sim</th>\n",
       "      <th>processor</th>\n",
       "      <th>ram</th>\n",
       "      <th>battery</th>\n",
       "      <th>display</th>\n",
       "      <th>camera</th>\n",
       "      <th>card</th>\n",
       "      <th>os</th>\n",
       "    </tr>\n",
       "  </thead>\n",
       "  <tbody>\n",
       "    <tr>\n",
       "      <th>687</th>\n",
       "      <td>Samsung Galaxy A04s (4GB RAM + 128GB)</td>\n",
       "      <td>₹14,499</td>\n",
       "      <td>72.0</td>\n",
       "      <td>Dual Sim, 3G, 4G, VoLTE, Wi-Fi</td>\n",
       "      <td>Exynos 850, Octa Core, 2 GHz Processor</td>\n",
       "      <td>4 GB RAM, 128 GB inbuilt</td>\n",
       "      <td>5000 mAh Battery with 15W Fast Charging</td>\n",
       "      <td>6.5 inches, 720 x 1600 px, 90 Hz Display with ...</td>\n",
       "      <td>50 MP + 2 MP + 2 MP Triple Rear &amp; 5 MP Front C...</td>\n",
       "      <td>Memory Card Supported, upto 1 TB</td>\n",
       "      <td>Android v12</td>\n",
       "    </tr>\n",
       "    <tr>\n",
       "      <th>72</th>\n",
       "      <td>iQOO Z6 Lite 5G</td>\n",
       "      <td>₹13,989</td>\n",
       "      <td>75.0</td>\n",
       "      <td>Dual Sim, 3G, 4G, 5G, VoLTE, Wi-Fi</td>\n",
       "      <td>Snapdragon  4 Gen 1, Octa Core, 2 GHz Processor</td>\n",
       "      <td>4 GB RAM, 64 GB inbuilt</td>\n",
       "      <td>5000 mAh Battery with 18W Fast Charging</td>\n",
       "      <td>6.58 inches, 1080 x 2408 px, 120 Hz Display wi...</td>\n",
       "      <td>50 MP + 2 MP Dual Rear &amp; 8 MP Front Camera</td>\n",
       "      <td>Memory Card (Hybrid), upto 1 TB</td>\n",
       "      <td>Android v12</td>\n",
       "    </tr>\n",
       "    <tr>\n",
       "      <th>793</th>\n",
       "      <td>Oppo A15s (4GB RAM + 128GB)</td>\n",
       "      <td>₹11,490</td>\n",
       "      <td>72.0</td>\n",
       "      <td>Dual Sim, 3G, 4G, VoLTE, Wi-Fi</td>\n",
       "      <td>Helio P35 , Octa Core, 2.3 GHz Processor</td>\n",
       "      <td>4 GB RAM, 128 GB inbuilt</td>\n",
       "      <td>4230 mAh Battery</td>\n",
       "      <td>6.52 inches, 720 x 1600 px Display with Water ...</td>\n",
       "      <td>13 MP + 2 MP + 2 MP Triple Rear &amp; 8 MP Front C...</td>\n",
       "      <td>Memory Card Supported, upto 256 GB</td>\n",
       "      <td>Android v10</td>\n",
       "    </tr>\n",
       "  </tbody>\n",
       "</table>\n",
       "</div>"
      ],
      "text/plain": [
       "                                     model    price  rating  \\\n",
       "687  Samsung Galaxy A04s (4GB RAM + 128GB)  ₹14,499    72.0   \n",
       "72                         iQOO Z6 Lite 5G  ₹13,989    75.0   \n",
       "793            Oppo A15s (4GB RAM + 128GB)  ₹11,490    72.0   \n",
       "\n",
       "                                    sim  \\\n",
       "687      Dual Sim, 3G, 4G, VoLTE, Wi-Fi   \n",
       "72   Dual Sim, 3G, 4G, 5G, VoLTE, Wi-Fi   \n",
       "793      Dual Sim, 3G, 4G, VoLTE, Wi-Fi   \n",
       "\n",
       "                                           processor  \\\n",
       "687           Exynos 850, Octa Core, 2 GHz Processor   \n",
       "72   Snapdragon  4 Gen 1, Octa Core, 2 GHz Processor   \n",
       "793         Helio P35 , Octa Core, 2.3 GHz Processor   \n",
       "\n",
       "                          ram                                  battery  \\\n",
       "687  4 GB RAM, 128 GB inbuilt  5000 mAh Battery with 15W Fast Charging   \n",
       "72    4 GB RAM, 64 GB inbuilt  5000 mAh Battery with 18W Fast Charging   \n",
       "793  4 GB RAM, 128 GB inbuilt                         4230 mAh Battery   \n",
       "\n",
       "                                               display  \\\n",
       "687  6.5 inches, 720 x 1600 px, 90 Hz Display with ...   \n",
       "72   6.58 inches, 1080 x 2408 px, 120 Hz Display wi...   \n",
       "793  6.52 inches, 720 x 1600 px Display with Water ...   \n",
       "\n",
       "                                                camera  \\\n",
       "687  50 MP + 2 MP + 2 MP Triple Rear & 5 MP Front C...   \n",
       "72          50 MP + 2 MP Dual Rear & 8 MP Front Camera   \n",
       "793  13 MP + 2 MP + 2 MP Triple Rear & 8 MP Front C...   \n",
       "\n",
       "                                   card           os  \n",
       "687    Memory Card Supported, upto 1 TB  Android v12  \n",
       "72      Memory Card (Hybrid), upto 1 TB  Android v12  \n",
       "793  Memory Card Supported, upto 256 GB  Android v10  "
      ]
     },
     "execution_count": 4,
     "metadata": {},
     "output_type": "execute_result"
    }
   ],
   "source": [
    "# Checking any 3 random rows of the dataframe\n",
    "df.sample(3)"
   ]
  },
  {
   "cell_type": "code",
   "execution_count": 5,
   "id": "0a06e893-5877-418f-b20c-99e1fc076249",
   "metadata": {},
   "outputs": [
    {
     "name": "stdout",
     "output_type": "stream",
     "text": [
      "<class 'pandas.core.frame.DataFrame'>\n",
      "RangeIndex: 1020 entries, 0 to 1019\n",
      "Data columns (total 11 columns):\n",
      " #   Column     Non-Null Count  Dtype  \n",
      "---  ------     --------------  -----  \n",
      " 0   model      1020 non-null   object \n",
      " 1   price      1020 non-null   object \n",
      " 2   rating     879 non-null    float64\n",
      " 3   sim        1020 non-null   object \n",
      " 4   processor  1020 non-null   object \n",
      " 5   ram        1020 non-null   object \n",
      " 6   battery    1020 non-null   object \n",
      " 7   display    1020 non-null   object \n",
      " 8   camera     1019 non-null   object \n",
      " 9   card       1013 non-null   object \n",
      " 10  os         1003 non-null   object \n",
      "dtypes: float64(1), object(10)\n",
      "memory usage: 87.8+ KB\n"
     ]
    }
   ],
   "source": [
    "# Let's take a look at the informatoin related to columns\n",
    "df.info()"
   ]
  },
  {
   "cell_type": "code",
   "execution_count": 6,
   "id": "14518dd2-f533-4cb3-a4b0-dd1af615f4be",
   "metadata": {},
   "outputs": [
    {
     "name": "stdout",
     "output_type": "stream",
     "text": [
      "model         0.000000\n",
      "price         0.000000\n",
      "rating       13.823529\n",
      "sim           0.000000\n",
      "processor     0.000000\n",
      "ram           0.000000\n",
      "battery       0.000000\n",
      "display       0.000000\n",
      "camera        0.098039\n",
      "card          0.686275\n",
      "os            1.666667\n",
      "dtype: float64\n"
     ]
    },
    {
     "data": {
      "image/png": "[encoded data removed]",
      "text/plain": [
       "<Figure size 1500x300 with 3 Axes>"
      ]
     },
     "metadata": {},
     "output_type": "display_data"
    }
   ],
   "source": [
    "# Checking any missing values\n",
    "print(df.isnull().mean()*100)\n",
    "\n",
    "# Visualize missing values using a bar chart\n",
    "msno.bar(df, figsize=(15, 3), color=\"dodgerblue\", sort=\"ascending\", fontsize=12)\n",
    "plt.show()"
   ]
  },
  {
   "cell_type": "code",
   "execution_count": 7,
   "id": "3a5eccd5-a629-459a-8d56-23d757d8790e",
   "metadata": {},
   "outputs": [
    {
     "name": "stdout",
     "output_type": "stream",
     "text": [
      "Duplicate values : 0\n"
     ]
    }
   ],
   "source": [
    "# Let's check if there are any duplicate valeus\n",
    "print(\"Duplicate values :\",df.duplicated().sum())"
   ]
  },
  {
   "cell_type": "markdown",
   "id": "9ad62ad8-aec9-465c-bd4c-227c47ca5980",
   "metadata": {},
   "source": [
    "### Data procesing\n",
    "\n",
    "- `price`: Remove rupee and , character\n",
    "- `sim`: Extracting a binary feature (called sim type 0 : Single sim and 1 : Dual sim)\n",
    "- `sim`: Extracting a binary feature called (Has_5g)"
   ]
  },
  {
   "cell_type": "code",
   "execution_count": 8,
   "id": "eef1841e-3bc0-4631-b7e2-8cc6ea2948a9",
   "metadata": {},
   "outputs": [],
   "source": [
    "# Removing rupee and , character from the 'price' feature and converting to int\n",
    "for index in range(len(df)):\n",
    "    item = df.loc[index, 'price']\n",
    "    item = item.replace(\"₹\", \"\").replace(\",\", \"\")\n",
    "    item = re.sub(r'[^\\d]', '', item)  # Remove any non-digit characters\n",
    "    df.loc[index, 'price'] = item\n",
    "\n",
    "df['price'] = df['price'].astype(np.int64)"
   ]
  },
  {
   "cell_type": "code",
   "execution_count": 9,
   "id": "771ce17c-207c-4fb7-9376-23f1827f4099",
   "metadata": {},
   "outputs": [],
   "source": [
    "# Creation of new feature called sim type \n",
    "Sim_type = []\n",
    "for item in df['sim']:\n",
    "    sim_type = item.split(',')[0]\n",
    "    if sim_type == 'Dual Sim':\n",
    "        Sim_type.append(1)\n",
    "    else:\n",
    "        Sim_type.append(0)\n",
    "\n",
    "df['Sim_type'] = pd.Series(Sim_type)"
   ]
  },
  {
   "cell_type": "code",
   "execution_count": 14,
   "id": "36500272-46a8-40b9-9589-e19d1af9a5ec",
   "metadata": {},
   "outputs": [],
   "source": [
    "# Creation of new feature called Has_5g \n",
    "Has_5g = []\n",
    "for item in df['sim']:\n",
    "    sim_info = item.split(',')\n",
    "    if ' 5G' in sim_info:\n",
    "        Has_5g.append(1)\n",
    "    else:\n",
    "        Has_5g.append(0)\n",
    "\n",
    "df['Has_5g'] = pd.Series(Has_5g)"
   ]
  },
  {
   "cell_type": "code",
   "execution_count": null,
   "id": "6bc0fd0f-ce64-4fd7-a20c-fd56ac6b8619",
   "metadata": {},
   "outputs": [],
   "source": []
  },
  {
   "cell_type": "code",
   "execution_count": 13,
   "id": "e547e776-acae-4d84-87a3-4e92a7716739",
   "metadata": {},
   "outputs": [
    {
     "name": "stdout",
     "output_type": "stream",
     "text": [
      "Yes\n"
     ]
    }
   ],
   "source": [
    "list = df['sim'].iloc[0].split(',')\n",
    "if ' 5G' in list:\n",
    "    print(\"Yes\")"
   ]
  },
  {
   "cell_type": "code",
   "execution_count": 15,
   "id": "2ee95330-b3c9-4bef-9251-44a7a46228f7",
   "metadata": {},
   "outputs": [
    {
     "data": {
      "text/html": [
       "<div>\n",
       "<style scoped>\n",
       "    .dataframe tbody tr th:only-of-type {\n",
       "        vertical-align: middle;\n",
       "    }\n",
       "\n",
       "    .dataframe tbody tr th {\n",
       "        vertical-align: top;\n",
       "    }\n",
       "\n",
       "    .dataframe thead th {\n",
       "        text-align: right;\n",
       "    }\n",
       "</style>\n",
       "<table border=\"1\" class=\"dataframe\">\n",
       "  <thead>\n",
       "    <tr style=\"text-align: right;\">\n",
       "      <th></th>\n",
       "      <th>model</th>\n",
       "      <th>price</th>\n",
       "      <th>rating</th>\n",
       "      <th>sim</th>\n",
       "      <th>processor</th>\n",
       "      <th>ram</th>\n",
       "      <th>battery</th>\n",
       "      <th>display</th>\n",
       "      <th>camera</th>\n",
       "      <th>card</th>\n",
       "      <th>os</th>\n",
       "      <th>Sim_type</th>\n",
       "      <th>Has_5g</th>\n",
       "    </tr>\n",
       "  </thead>\n",
       "  <tbody>\n",
       "    <tr>\n",
       "      <th>0</th>\n",
       "      <td>OnePlus 11 5G</td>\n",
       "      <td>54999</td>\n",
       "      <td>89.0</td>\n",
       "      <td>Dual Sim, 3G, 4G, 5G, VoLTE, Wi-Fi, NFC</td>\n",
       "      <td>Snapdragon 8 Gen2, Octa Core, 3.2 GHz Processor</td>\n",
       "      <td>12 GB RAM, 256 GB inbuilt</td>\n",
       "      <td>5000 mAh Battery with 100W Fast Charging</td>\n",
       "      <td>6.7 inches, 1440 x 3216 px, 120 Hz Display wit...</td>\n",
       "      <td>50 MP + 48 MP + 32 MP Triple Rear &amp; 16 MP Fron...</td>\n",
       "      <td>Memory Card Not Supported</td>\n",
       "      <td>Android v13</td>\n",
       "      <td>1</td>\n",
       "      <td>1</td>\n",
       "    </tr>\n",
       "    <tr>\n",
       "      <th>1</th>\n",
       "      <td>OnePlus Nord CE 2 Lite 5G</td>\n",
       "      <td>19989</td>\n",
       "      <td>81.0</td>\n",
       "      <td>Dual Sim, 3G, 4G, 5G, VoLTE, Wi-Fi</td>\n",
       "      <td>Snapdragon 695, Octa Core, 2.2 GHz Processor</td>\n",
       "      <td>6 GB RAM, 128 GB inbuilt</td>\n",
       "      <td>5000 mAh Battery with 33W Fast Charging</td>\n",
       "      <td>6.59 inches, 1080 x 2412 px, 120 Hz Display wi...</td>\n",
       "      <td>64 MP + 2 MP + 2 MP Triple Rear &amp; 16 MP Front ...</td>\n",
       "      <td>Memory Card (Hybrid), upto 1 TB</td>\n",
       "      <td>Android v12</td>\n",
       "      <td>1</td>\n",
       "      <td>1</td>\n",
       "    </tr>\n",
       "  </tbody>\n",
       "</table>\n",
       "</div>"
      ],
      "text/plain": [
       "                       model  price  rating  \\\n",
       "0              OnePlus 11 5G  54999    89.0   \n",
       "1  OnePlus Nord CE 2 Lite 5G  19989    81.0   \n",
       "\n",
       "                                       sim  \\\n",
       "0  Dual Sim, 3G, 4G, 5G, VoLTE, Wi-Fi, NFC   \n",
       "1       Dual Sim, 3G, 4G, 5G, VoLTE, Wi-Fi   \n",
       "\n",
       "                                         processor                        ram  \\\n",
       "0  Snapdragon 8 Gen2, Octa Core, 3.2 GHz Processor  12 GB RAM, 256 GB inbuilt   \n",
       "1     Snapdragon 695, Octa Core, 2.2 GHz Processor   6 GB RAM, 128 GB inbuilt   \n",
       "\n",
       "                                    battery  \\\n",
       "0  5000 mAh Battery with 100W Fast Charging   \n",
       "1   5000 mAh Battery with 33W Fast Charging   \n",
       "\n",
       "                                             display  \\\n",
       "0  6.7 inches, 1440 x 3216 px, 120 Hz Display wit...   \n",
       "1  6.59 inches, 1080 x 2412 px, 120 Hz Display wi...   \n",
       "\n",
       "                                              camera  \\\n",
       "0  50 MP + 48 MP + 32 MP Triple Rear & 16 MP Fron...   \n",
       "1  64 MP + 2 MP + 2 MP Triple Rear & 16 MP Front ...   \n",
       "\n",
       "                              card           os  Sim_type  Has_5g  \n",
       "0        Memory Card Not Supported  Android v13         1       1  \n",
       "1  Memory Card (Hybrid), upto 1 TB  Android v12         1       1  "
      ]
     },
     "execution_count": 15,
     "metadata": {},
     "output_type": "execute_result"
    }
   ],
   "source": [
    "df.head(2)"
   ]
  },
  {
   "cell_type": "code",
   "execution_count": 13,
   "id": "3fbea1cf-7d8c-442d-a3df-46cbee67db0f",
   "metadata": {},
   "outputs": [
    {
     "data": {
      "text/plain": [
       "<Axes: xlabel='price'>"
      ]
     },
     "execution_count": 13,
     "metadata": {},
     "output_type": "execute_result"
    },
    {
     "data": {
      "image/png": "[encoded data removed]",
      "text/plain": [
       "<Figure size 1500x300 with 2 Axes>"
      ]
     },
     "metadata": {},
     "output_type": "display_data"
    }
   ],
   "source": [
    "# Let's see if there are any outliers in the rating and price feature\n",
    "fig,ax = plt.subplots(1,2,figsize = (15,3))\n",
    "\n",
    "sns.boxplot(x = df['rating'],ax = ax[0])\n",
    "sns.boxplot(x = df['price'],ax = ax[1])"
   ]
  },
  {
   "cell_type": "code",
   "execution_count": null,
   "id": "b87124ce-f7f0-40c8-98a0-a4f074bde68c",
   "metadata": {},
   "outputs": [],
   "source": []
  }
 ],
 "metadata": {
  "kernelspec": {
   "display_name": "Python 3 (ipykernel)",
   "language": "python",
   "name": "python3"
  },
  "language_info": {
   "codemirror_mode": {
    "name": "ipython",
    "version": 3
   },
   "file_extension": ".py",
   "mimetype": "text/x-python",
   "name": "python",
   "nbconvert_exporter": "python",
   "pygments_lexer": "ipython3",
   "version": "3.10.0"
  }
 },
 "nbformat": 4,
 "nbformat_minor": 5
}
