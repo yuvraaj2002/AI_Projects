{
 "cells": [
  {
   "cell_type": "markdown",
   "id": "9c867682-4ac1-47a0-ae4b-1651259c67fe",
   "metadata": {},
   "source": [
    "# Importing the dependencies"
   ]
  },
  {
   "cell_type": "code",
   "execution_count": 68,
   "id": "0ee17601-4845-4fed-86f5-da5effc7382a",
   "metadata": {},
   "outputs": [],
   "source": [
    "import pandas as pd\n",
    "import numpy as np\n",
    "import seaborn as sns\n",
    "import matplotlib.pyplot as plt\n",
    "import statsmodels.api as sm\n",
    "import scipy.stats as stats\n",
    "from sklearn.compose import ColumnTransformer\n",
    "from sklearn.pipeline import Pipeline\n",
    "from sklearn.model_selection import train_test_split\n",
    "import category_encoders as ce\n",
    "from sklearn.preprocessing import OrdinalEncoder,OneHotEncoder,MinMaxScaler,FunctionTransformer\n",
    "from sklearn.linear_model import LinearRegression\n",
    "from sklearn.impute import SimpleImputer\n",
    "from sklearn.model_selection import cross_val_score,KFold\n",
    "from sklearn.metrics import mean_squared_error, mean_absolute_error, r2_score\n",
    "\n",
    "from sklearn.linear_model import LinearRegression, Ridge, Lasso\n",
    "from sklearn.svm import SVR\n",
    "from sklearn.tree import DecisionTreeRegressor\n",
    "from sklearn.ensemble import RandomForestRegressor, ExtraTreesRegressor, GradientBoostingRegressor, AdaBoostRegressor\n",
    "from sklearn.neural_network import MLPRegressor\n",
    "from xgboost import XGBRegressor\n",
    "\n",
    "import warnings\n",
    "warnings.filterwarnings('ignore')"
   ]
  },
  {
   "cell_type": "code",
   "execution_count": 2,
   "id": "61f5c248-020f-4bc2-ba42-9ab8eef068d3",
   "metadata": {},
   "outputs": [
    {
     "data": {
      "text/html": [
       "<div>\n",
       "<style scoped>\n",
       "    .dataframe tbody tr th:only-of-type {\n",
       "        vertical-align: middle;\n",
       "    }\n",
       "\n",
       "    .dataframe tbody tr th {\n",
       "        vertical-align: top;\n",
       "    }\n",
       "\n",
       "    .dataframe thead th {\n",
       "        text-align: right;\n",
       "    }\n",
       "</style>\n",
       "<table border=\"1\" class=\"dataframe\">\n",
       "  <thead>\n",
       "    <tr style=\"text-align: right;\">\n",
       "      <th></th>\n",
       "      <th>Property_Type</th>\n",
       "      <th>sector</th>\n",
       "      <th>price</th>\n",
       "      <th>bedRoom</th>\n",
       "      <th>bathroom</th>\n",
       "      <th>balcony</th>\n",
       "      <th>agePossession</th>\n",
       "      <th>built_up_area</th>\n",
       "      <th>servant room</th>\n",
       "      <th>furnishing_type</th>\n",
       "      <th>luxury_category</th>\n",
       "      <th>floor_category</th>\n",
       "    </tr>\n",
       "  </thead>\n",
       "  <tbody>\n",
       "    <tr>\n",
       "      <th>0</th>\n",
       "      <td>flat</td>\n",
       "      <td>sector 7</td>\n",
       "      <td>0.45</td>\n",
       "      <td>2.0</td>\n",
       "      <td>2.0</td>\n",
       "      <td>1</td>\n",
       "      <td>Relatively New</td>\n",
       "      <td>1000.0</td>\n",
       "      <td>0</td>\n",
       "      <td>2</td>\n",
       "      <td>Low</td>\n",
       "      <td>Mid Floor</td>\n",
       "    </tr>\n",
       "    <tr>\n",
       "      <th>1</th>\n",
       "      <td>flat</td>\n",
       "      <td>sector 3</td>\n",
       "      <td>0.50</td>\n",
       "      <td>2.0</td>\n",
       "      <td>2.0</td>\n",
       "      <td>1</td>\n",
       "      <td>Old Property</td>\n",
       "      <td>722.0</td>\n",
       "      <td>0</td>\n",
       "      <td>0</td>\n",
       "      <td>Low</td>\n",
       "      <td>Low Floor</td>\n",
       "    </tr>\n",
       "    <tr>\n",
       "      <th>2</th>\n",
       "      <td>flat</td>\n",
       "      <td>sector 1</td>\n",
       "      <td>0.40</td>\n",
       "      <td>2.0</td>\n",
       "      <td>2.0</td>\n",
       "      <td>3</td>\n",
       "      <td>New Property</td>\n",
       "      <td>661.0</td>\n",
       "      <td>0</td>\n",
       "      <td>2</td>\n",
       "      <td>Low</td>\n",
       "      <td>High Floor</td>\n",
       "    </tr>\n",
       "  </tbody>\n",
       "</table>\n",
       "</div>"
      ],
      "text/plain": [
       "  Property_Type    sector  price  bedRoom  bathroom balcony   agePossession  \\\n",
       "0          flat  sector 7   0.45      2.0       2.0       1  Relatively New   \n",
       "1          flat  sector 3   0.50      2.0       2.0       1    Old Property   \n",
       "2          flat  sector 1   0.40      2.0       2.0       3    New Property   \n",
       "\n",
       "   built_up_area  servant room  furnishing_type luxury_category floor_category  \n",
       "0         1000.0             0                2             Low      Mid Floor  \n",
       "1          722.0             0                0             Low      Low Floor  \n",
       "2          661.0             0                2             Low     High Floor  "
      ]
     },
     "execution_count": 2,
     "metadata": {},
     "output_type": "execute_result"
    }
   ],
   "source": [
    "# Loading the dataset\n",
    "df = pd.read_csv('Cleaned_datasets/Combined_CleanData_V4.csv')\n",
    "df.head(3)"
   ]
  },
  {
   "cell_type": "code",
   "execution_count": 3,
   "id": "b754fdf3-a61f-47fd-83cf-0c3e681fb8a0",
   "metadata": {},
   "outputs": [],
   "source": [
    "# Seperating the data into dependent variable and indepenedent variables\n",
    "X = df.drop(['price'],axis=1)\n",
    "y = df['price']\n",
    "\n",
    "X_train,X_test_val,y_train,y_test_val = train_test_split(X,y,train_size = 0.8,shuffle=True)\n",
    "X_test,X_val,y_test,y_val = train_test_split(X_test_val,y_test_val,train_size=0.8,shuffle=True)"
   ]
  },
  {
   "cell_type": "code",
   "execution_count": 4,
   "id": "7ecce93b-f2ea-411a-bd00-089cbe76fdd5",
   "metadata": {},
   "outputs": [
    {
     "data": {
      "text/plain": [
       "((2974, 11), (595, 11), (149, 11))"
      ]
     },
     "execution_count": 4,
     "metadata": {},
     "output_type": "execute_result"
    }
   ],
   "source": [
    "X_train.shape,X_test.shape,X_val.shape"
   ]
  },
  {
   "cell_type": "markdown",
   "id": "27ee208b-f45e-4f51-a092-44b1ae541ca2",
   "metadata": {},
   "source": [
    "In the input data which we will be feeding into the model for training, there is only 1 feature which is continuous in nature and that is `built_up_area` and to get good results from the linear models, the distribution of continous features must be normal or sort of normal. Thus we will be using some mathematical transformation to transform the skewed distribution into the sort of normal distribution. \n",
    "\n",
    "In similar way we will also be using some mathematical transformation on target variable, but to decide which transformation to apply we must be aware about the shape of the variable's distribution, thus we will be using a `histogram` and a `qqplot`"
   ]
  },
  {
   "cell_type": "code",
   "execution_count": 67,
   "id": "ce263f33-f6c4-4ae8-a9da-534403019505",
   "metadata": {},
   "outputs": [
    {
     "data": {
      "image/png": "[encoded data removed]",
      "text/plain": [
       "<Figure size 1000x500 with 4 Axes>"
      ]
     },
     "metadata": {},
     "output_type": "display_data"
    }
   ],
   "source": [
    "fig, ax = plt.subplots(2, 2, figsize=[10, 5])\n",
    "\n",
    "sns.histplot(data=X_train, x='built_up_area', kde=True, ax=ax[0][0])\n",
    "sm.qqplot(X_train['built_up_area'].values, line='45', fit=True, dist=stats.norm,ax=ax[0][1])\n",
    "sns.histplot(x=y_train, kde=True, ax=ax[1][0])\n",
    "sm.qqplot(y_train.values, line='45', fit=True, dist=stats.norm,ax=ax[1][1])\n",
    "\n",
    "plt.subplots_adjust(hspace=0.4,wspace=0.4)\n",
    "plt.show()"
   ]
  },
  {
   "cell_type": "markdown",
   "id": "6a982f2d-a591-49ab-add7-c86e9c0c4665",
   "metadata": {},
   "source": [
    "Since the distribution is right skewed thus `log transformation` to transform the right-skewed distribution to a sort of normal distribution.\n",
    "\n",
    "A ***log transformation*** is a mathematical operation that takes the logarithm of each value in a dataset. This has the effect of compressing the large values in the dataset and expanding the small values. This can be effective for transforming right-skewed distributions to normal distributions, because the log transformation tends to pull the tail of the distribution towards the center."
   ]
  },
  {
   "cell_type": "code",
   "execution_count": 26,
   "id": "5a46e562-bea2-432d-b2c4-9a887f655367",
   "metadata": {},
   "outputs": [],
   "source": [
    "# Defining the function transformer for doing log transformation\n",
    "trf = FunctionTransformer(func=np.log1p)"
   ]
  },
  {
   "cell_type": "code",
   "execution_count": 30,
   "id": "fa4f3cc1-d2e9-462b-a663-39741a5e8f16",
   "metadata": {},
   "outputs": [],
   "source": [
    "X_train['built_up_area'] = trf.fit_transform(X_train['built_up_area'])\n",
    "X_test['built_up_area'] = trf.fit_transform(X_test['built_up_area'])\n",
    "\n",
    "y_train = trf.fit_transform(y_train)"
   ]
  },
  {
   "cell_type": "markdown",
   "id": "a146cfef-83b7-4274-aac4-b9246bb3dd4d",
   "metadata": {},
   "source": [
    "# Processsing Pipeline\n",
    "Before training our model it is very much important to first transform the data into the form which the model accepts (Numbers). In the feature selection file we build a base model and that model was performing average, so now in this file our aim will be to use the best set of techniques for encoding the categorical data, as well as performing any necessary mathematical transformations on the numerical features to get the best possible model with current data we are having at hand.\n",
    "\n",
    "In this module we will focusing on performing 3 different operations ⬇️\n",
    "- Encoding categorical data\n",
    "- Applying mathematical transformation to make skewed feature: sort of normal\n",
    "- Scale the feature values to common scale\n",
    "\n",
    "#### Step 1: Encoding categorical features\n",
    "- In our dataset property type and sector are 2 nominal features\n",
    "- Age possession, luxury cateogry and floor category are ordinal features\n",
    "\n",
    "`Note`: An important thing that we need to keep in mind is that the feature `sector` is having high cardinality so one hot encoding may lead to curse of dimensionality, so we need to test that for this feature whether one hot encoding or target encoding will work. "
   ]
  },
  {
   "cell_type": "code",
   "execution_count": 33,
   "id": "508f5b08-8ed1-4028-9227-edac5159a1af",
   "metadata": {},
   "outputs": [],
   "source": [
    "# Instantiating target encoder class\n",
    "Target_Encoder = ce.TargetEncoder()\n",
    "\n",
    "# Fit the TargetEncoder to the training data\n",
    "Target_Encoder.fit(X_train['sector'], y_train)\n",
    "\n",
    "# Transform the training data using the TargetEncoder\n",
    "X_train['sector'] = Target_Encoder.transform(X_train['sector'])\n",
    "X_test['sector'] = Target_Encoder.transform(X_test['sector'])"
   ]
  },
  {
   "cell_type": "code",
   "execution_count": 34,
   "id": "80941ecb-ceb0-484c-858f-480e011be2aa",
   "metadata": {},
   "outputs": [
    {
     "data": {
      "text/html": [
       "<div>\n",
       "<style scoped>\n",
       "    .dataframe tbody tr th:only-of-type {\n",
       "        vertical-align: middle;\n",
       "    }\n",
       "\n",
       "    .dataframe tbody tr th {\n",
       "        vertical-align: top;\n",
       "    }\n",
       "\n",
       "    .dataframe thead th {\n",
       "        text-align: right;\n",
       "    }\n",
       "</style>\n",
       "<table border=\"1\" class=\"dataframe\">\n",
       "  <thead>\n",
       "    <tr style=\"text-align: right;\">\n",
       "      <th></th>\n",
       "      <th>Property_Type</th>\n",
       "      <th>sector</th>\n",
       "      <th>bedRoom</th>\n",
       "      <th>bathroom</th>\n",
       "      <th>balcony</th>\n",
       "      <th>agePossession</th>\n",
       "      <th>built_up_area</th>\n",
       "      <th>servant room</th>\n",
       "      <th>furnishing_type</th>\n",
       "      <th>luxury_category</th>\n",
       "      <th>floor_category</th>\n",
       "    </tr>\n",
       "  </thead>\n",
       "  <tbody>\n",
       "    <tr>\n",
       "      <th>358</th>\n",
       "      <td>flat</td>\n",
       "      <td>1.258928</td>\n",
       "      <td>3.0</td>\n",
       "      <td>3.0</td>\n",
       "      <td>3</td>\n",
       "      <td>Relatively New</td>\n",
       "      <td>7.306531</td>\n",
       "      <td>0</td>\n",
       "      <td>0</td>\n",
       "      <td>Medium</td>\n",
       "      <td>Low Floor</td>\n",
       "    </tr>\n",
       "    <tr>\n",
       "      <th>1962</th>\n",
       "      <td>flat</td>\n",
       "      <td>1.084818</td>\n",
       "      <td>2.0</td>\n",
       "      <td>2.0</td>\n",
       "      <td>1</td>\n",
       "      <td>Under Construction</td>\n",
       "      <td>7.199678</td>\n",
       "      <td>0</td>\n",
       "      <td>2</td>\n",
       "      <td>Low</td>\n",
       "      <td>Mid Floor</td>\n",
       "    </tr>\n",
       "  </tbody>\n",
       "</table>\n",
       "</div>"
      ],
      "text/plain": [
       "     Property_Type    sector  bedRoom  bathroom balcony       agePossession  \\\n",
       "358           flat  1.258928      3.0       3.0       3      Relatively New   \n",
       "1962          flat  1.084818      2.0       2.0       1  Under Construction   \n",
       "\n",
       "      built_up_area  servant room  furnishing_type luxury_category  \\\n",
       "358        7.306531             0                0          Medium   \n",
       "1962       7.199678             0                2             Low   \n",
       "\n",
       "     floor_category  \n",
       "358       Low Floor  \n",
       "1962      Mid Floor  "
      ]
     },
     "execution_count": 34,
     "metadata": {},
     "output_type": "execute_result"
    }
   ],
   "source": [
    "X_train.head(2)"
   ]
  },
  {
   "cell_type": "code",
   "execution_count": 35,
   "id": "4d253579-0e8f-4074-a919-153d07e3680b",
   "metadata": {},
   "outputs": [],
   "source": [
    "# Column transformer for doing ordinal and nominal encoding\n",
    "encoding_transformer = ColumnTransformer(transformers = \n",
    "                                         \n",
    "                    [('Encode_PropT',OneHotEncoder(handle_unknown='ignore',drop='first'),[0]),\n",
    "\n",
    "                    ('Encode_balcony',OrdinalEncoder(categories=[['0','1','2','3','3+']],\n",
    "                    handle_unknown=\"use_encoded_value\",unknown_value = np.nan),[4]),\n",
    "    \n",
    "                    ('Encode_AgeP',OrdinalEncoder(categories=[['Under Construction','New Property','Relatively New', \n",
    "                    'Moderately Old','Old Property']],handle_unknown=\"use_encoded_value\",unknown_value = np.nan),[5]),\n",
    "\n",
    "                    ('Encode_Lux',OrdinalEncoder(categories=[['Low','Medium','High']],\n",
    "                    handle_unknown=\"use_encoded_value\",unknown_value = np.nan),[9]),\n",
    "\n",
    "                    ('Encode_Floor',OrdinalEncoder(categories=[['Low Floor','Mid Floor','High Floor']],\n",
    "                    handle_unknown=\"use_encoded_value\",unknown_value = np.nan),[10])],remainder='passthrough')\n",
    "\n",
    "# Column transformer for doing feature scaling\n",
    "scaling_transformer = ColumnTransformer(transformers = [\n",
    "    ('MinMaxScaling',MinMaxScaler(copy=False),[0,1,2,3,4,5,6,7,8,9,10])],remainder='passthrough')\n",
    "\n",
    "\n",
    "# Stacking column transformers to create a Training pipeline\n",
    "Training_pipeline = Pipeline(steps = [('Encoding',encoding_transformer),\n",
    "                             ('Scaling',scaling_transformer),\n",
    "                             ('regressor', LinearRegression())],memory='Temp')\n",
    "\n",
    "# Stacking column transformers to create a Processing pipeline\n",
    "Processing_pipeline = Pipeline(steps = [('Encoding',encoding_transformer),\n",
    "                             ('Scaling',scaling_transformer)],memory='Temp')"
   ]
  },
  {
   "cell_type": "code",
   "execution_count": 36,
   "id": "2d3a3d2b-3dd6-4ece-bb13-5b89b58f2915",
   "metadata": {},
   "outputs": [],
   "source": [
    "# K-fold cross-validation\n",
    "kfold = KFold(n_splits=10, shuffle=True, random_state=42)\n",
    "scores = cross_val_score(Training_pipeline, X_train, y_train, cv=kfold, scoring='r2')"
   ]
  },
  {
   "cell_type": "code",
   "execution_count": 37,
   "id": "d8964d08-afb5-46d4-8884-129763c63ea4",
   "metadata": {},
   "outputs": [
    {
     "data": {
      "text/plain": [
       "(0.7986790978568943, 0.038100501509674777)"
      ]
     },
     "execution_count": 37,
     "metadata": {},
     "output_type": "execute_result"
    }
   ],
   "source": [
    "scores.mean(),scores.std()"
   ]
  },
  {
   "cell_type": "code",
   "execution_count": 58,
   "id": "322ef54a-aeb1-44f7-88ab-5131c2e0921b",
   "metadata": {},
   "outputs": [],
   "source": [
    "def scorer(model_name, model):\n",
    "    \"\"\"\n",
    "    This function will take a model name as input and inject that model into the training pipeline to process \n",
    "    and train the model by using the training data. After that this function will use K fold cross validation technique\n",
    "    to calculate the average (r2 score) and the mean absolute error\n",
    "    \"\"\"\n",
    "    \n",
    "    output = []\n",
    "    output.append(model_name)\n",
    "    \n",
    "    # Stacking column transformers to create a Training pipeline\n",
    "    Training_pipeline = Pipeline(steps = [('Encoding',encoding_transformer),\n",
    "                             ('Scaling',scaling_transformer),\n",
    "                             ('regressor', model)])\n",
    "    \n",
    "    # K-fold cross-validation\n",
    "    kfold = KFold(n_splits=10, shuffle=True, random_state=42)\n",
    "    scores = cross_val_score(Training_pipeline, X_train, y_train, cv=kfold, scoring='r2')\n",
    "    output.append(scores.mean())\n",
    "    \n",
    "    # Training the model and getting predictions\n",
    "    Training_pipeline.fit(X_train,y_train)\n",
    "    y_pred = Training_pipeline.predict(X_test)\n",
    "    y_pred = np.expm1(y_pred)\n",
    "    output.append(mean_absolute_error(y_test,y_pred))\n",
    "    \n",
    "    return output"
   ]
  },
  {
   "cell_type": "code",
   "execution_count": 59,
   "id": "b78a4a18-239b-44b1-97e3-68133448ce0a",
   "metadata": {},
   "outputs": [],
   "source": [
    "model_dict = {\n",
    "    'linear_reg':LinearRegression(),\n",
    "    'svr':SVR(),\n",
    "    'ridge':Ridge(),\n",
    "    'LASSO':Lasso(),\n",
    "    'decision tree': DecisionTreeRegressor(),\n",
    "    'random forest':RandomForestRegressor(),\n",
    "    'extra trees': ExtraTreesRegressor(),\n",
    "    'gradient boosting': GradientBoostingRegressor(),\n",
    "    'adaboost': AdaBoostRegressor(),\n",
    "    'mlp': MLPRegressor(),\n",
    "    'xgboost':XGBRegressor()\n",
    "}"
   ]
  },
  {
   "cell_type": "code",
   "execution_count": 60,
   "id": "fd729fa7-3b68-469c-ad9d-394ad47eedbe",
   "metadata": {},
   "outputs": [],
   "source": [
    "model_output = []\n",
    "for model_name,model in model_dict.items():\n",
    "    model_output.append(scorer(model_name, model))"
   ]
  },
  {
   "cell_type": "code",
   "execution_count": 61,
   "id": "7ce45d69-ac59-48bc-9e47-1afd33462dbe",
   "metadata": {},
   "outputs": [
    {
     "data": {
      "text/html": [
       "<div>\n",
       "<style scoped>\n",
       "    .dataframe tbody tr th:only-of-type {\n",
       "        vertical-align: middle;\n",
       "    }\n",
       "\n",
       "    .dataframe tbody tr th {\n",
       "        vertical-align: top;\n",
       "    }\n",
       "\n",
       "    .dataframe thead th {\n",
       "        text-align: right;\n",
       "    }\n",
       "</style>\n",
       "<table border=\"1\" class=\"dataframe\">\n",
       "  <thead>\n",
       "    <tr style=\"text-align: right;\">\n",
       "      <th></th>\n",
       "      <th>name</th>\n",
       "      <th>r2</th>\n",
       "      <th>mae</th>\n",
       "    </tr>\n",
       "  </thead>\n",
       "  <tbody>\n",
       "    <tr>\n",
       "      <th>10</th>\n",
       "      <td>xgboost</td>\n",
       "      <td>0.880011</td>\n",
       "      <td>0.478533</td>\n",
       "    </tr>\n",
       "    <tr>\n",
       "      <th>6</th>\n",
       "      <td>extra trees</td>\n",
       "      <td>0.880234</td>\n",
       "      <td>0.480829</td>\n",
       "    </tr>\n",
       "    <tr>\n",
       "      <th>5</th>\n",
       "      <td>random forest</td>\n",
       "      <td>0.880600</td>\n",
       "      <td>0.487995</td>\n",
       "    </tr>\n",
       "    <tr>\n",
       "      <th>7</th>\n",
       "      <td>gradient boosting</td>\n",
       "      <td>0.876814</td>\n",
       "      <td>0.559712</td>\n",
       "    </tr>\n",
       "    <tr>\n",
       "      <th>4</th>\n",
       "      <td>decision tree</td>\n",
       "      <td>0.776316</td>\n",
       "      <td>0.590864</td>\n",
       "    </tr>\n",
       "    <tr>\n",
       "      <th>9</th>\n",
       "      <td>mlp</td>\n",
       "      <td>0.839097</td>\n",
       "      <td>0.660699</td>\n",
       "    </tr>\n",
       "    <tr>\n",
       "      <th>1</th>\n",
       "      <td>svr</td>\n",
       "      <td>0.843330</td>\n",
       "      <td>0.667761</td>\n",
       "    </tr>\n",
       "    <tr>\n",
       "      <th>0</th>\n",
       "      <td>linear_reg</td>\n",
       "      <td>0.798679</td>\n",
       "      <td>0.709039</td>\n",
       "    </tr>\n",
       "    <tr>\n",
       "      <th>2</th>\n",
       "      <td>ridge</td>\n",
       "      <td>0.798630</td>\n",
       "      <td>0.711838</td>\n",
       "    </tr>\n",
       "    <tr>\n",
       "      <th>8</th>\n",
       "      <td>adaboost</td>\n",
       "      <td>0.784501</td>\n",
       "      <td>0.749309</td>\n",
       "    </tr>\n",
       "    <tr>\n",
       "      <th>3</th>\n",
       "      <td>LASSO</td>\n",
       "      <td>-0.006293</td>\n",
       "      <td>1.564646</td>\n",
       "    </tr>\n",
       "  </tbody>\n",
       "</table>\n",
       "</div>"
      ],
      "text/plain": [
       "                 name        r2       mae\n",
       "10            xgboost  0.880011  0.478533\n",
       "6         extra trees  0.880234  0.480829\n",
       "5       random forest  0.880600  0.487995\n",
       "7   gradient boosting  0.876814  0.559712\n",
       "4       decision tree  0.776316  0.590864\n",
       "9                 mlp  0.839097  0.660699\n",
       "1                 svr  0.843330  0.667761\n",
       "0          linear_reg  0.798679  0.709039\n",
       "2               ridge  0.798630  0.711838\n",
       "8            adaboost  0.784501  0.749309\n",
       "3               LASSO -0.006293  1.564646"
      ]
     },
     "execution_count": 61,
     "metadata": {},
     "output_type": "execute_result"
    }
   ],
   "source": [
    "model_df = pd.DataFrame(model_output, columns=['name','r2','mae'])\n",
    "model_df.sort_values(['mae'])"
   ]
  },
  {
   "cell_type": "code",
   "execution_count": null,
   "id": "86b33be6-46bc-4836-bb25-c526f66492ff",
   "metadata": {},
   "outputs": [],
   "source": []
  }
 ],
 "metadata": {
  "kernelspec": {
   "display_name": "Python 3 (ipykernel)",
   "language": "python",
   "name": "python3"
  },
  "language_info": {
   "codemirror_mode": {
    "name": "ipython",
    "version": 3
   },
   "file_extension": ".py",
   "mimetype": "text/x-python",
   "name": "python",
   "nbconvert_exporter": "python",
   "pygments_lexer": "ipython3",
   "version": "3.11.4"
  }
 },
 "nbformat": 4,
 "nbformat_minor": 5
}
