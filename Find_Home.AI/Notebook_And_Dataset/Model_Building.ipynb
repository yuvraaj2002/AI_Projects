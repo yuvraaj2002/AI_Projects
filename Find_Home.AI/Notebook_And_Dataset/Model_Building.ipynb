{
 "cells": [
  {
   "cell_type": "markdown",
   "id": "8c2bf360-d65f-4510-b610-35f23d8b89bd",
   "metadata": {},
   "source": [
    "# Importing the dependencies"
   ]
  },
  {
   "cell_type": "code",
   "execution_count": 13,
   "id": "a25e2848-1092-4ad8-bcc3-1e6b486f0c61",
   "metadata": {},
   "outputs": [
    {
     "data": {
      "text/html": [
       "<div>\n",
       "<style scoped>\n",
       "    .dataframe tbody tr th:only-of-type {\n",
       "        vertical-align: middle;\n",
       "    }\n",
       "\n",
       "    .dataframe tbody tr th {\n",
       "        vertical-align: top;\n",
       "    }\n",
       "\n",
       "    .dataframe thead th {\n",
       "        text-align: right;\n",
       "    }\n",
       "</style>\n",
       "<table border=\"1\" class=\"dataframe\">\n",
       "  <thead>\n",
       "    <tr style=\"text-align: right;\">\n",
       "      <th></th>\n",
       "      <th>property_name</th>\n",
       "      <th>Property_Type</th>\n",
       "      <th>society</th>\n",
       "      <th>sector</th>\n",
       "      <th>price</th>\n",
       "      <th>Price_Per_SQFT</th>\n",
       "      <th>bedRoom</th>\n",
       "      <th>bathroom</th>\n",
       "      <th>balcony</th>\n",
       "      <th>address</th>\n",
       "      <th>floorNum</th>\n",
       "      <th>agePossession</th>\n",
       "      <th>description</th>\n",
       "      <th>built_up_area</th>\n",
       "      <th>study room</th>\n",
       "      <th>servant room</th>\n",
       "      <th>store room</th>\n",
       "      <th>pooja room</th>\n",
       "      <th>others</th>\n",
       "      <th>furnishing_type</th>\n",
       "      <th>luxury_score</th>\n",
       "    </tr>\n",
       "  </thead>\n",
       "  <tbody>\n",
       "    <tr>\n",
       "      <th>0</th>\n",
       "      <td>2 BHK Flat in Krishna Colony</td>\n",
       "      <td>flat</td>\n",
       "      <td>maa bhagwati residency</td>\n",
       "      <td>sector 7</td>\n",
       "      <td>0.45</td>\n",
       "      <td>5000.0</td>\n",
       "      <td>2.0</td>\n",
       "      <td>2.0</td>\n",
       "      <td>1</td>\n",
       "      <td>Krishna Colony, Gurgaon, Haryana</td>\n",
       "      <td>4</td>\n",
       "      <td>Relatively New</td>\n",
       "      <td>So with lift.Maa bhagwati residency is one of ...</td>\n",
       "      <td>1000.0</td>\n",
       "      <td>0</td>\n",
       "      <td>0</td>\n",
       "      <td>0</td>\n",
       "      <td>0</td>\n",
       "      <td>0</td>\n",
       "      <td>2</td>\n",
       "      <td>28.0</td>\n",
       "    </tr>\n",
       "    <tr>\n",
       "      <th>1</th>\n",
       "      <td>2 BHK Flat in Ashok Vihar</td>\n",
       "      <td>flat</td>\n",
       "      <td>apna enclave</td>\n",
       "      <td>sector 3</td>\n",
       "      <td>0.50</td>\n",
       "      <td>7692.0</td>\n",
       "      <td>2.0</td>\n",
       "      <td>2.0</td>\n",
       "      <td>1</td>\n",
       "      <td>46b, Ashok Vihar, Gurgaon, Haryana</td>\n",
       "      <td>1</td>\n",
       "      <td>Old Property</td>\n",
       "      <td>Property situated on main road, railway statio...</td>\n",
       "      <td>722.0</td>\n",
       "      <td>0</td>\n",
       "      <td>0</td>\n",
       "      <td>0</td>\n",
       "      <td>0</td>\n",
       "      <td>0</td>\n",
       "      <td>0</td>\n",
       "      <td>37.0</td>\n",
       "    </tr>\n",
       "    <tr>\n",
       "      <th>2</th>\n",
       "      <td>2 BHK Flat in Sohna</td>\n",
       "      <td>flat</td>\n",
       "      <td>tulsiani easy in homes</td>\n",
       "      <td>sector 1</td>\n",
       "      <td>0.40</td>\n",
       "      <td>6722.0</td>\n",
       "      <td>2.0</td>\n",
       "      <td>2.0</td>\n",
       "      <td>3</td>\n",
       "      <td>Sohna, Gurgaon, Haryana</td>\n",
       "      <td>12</td>\n",
       "      <td>New Property</td>\n",
       "      <td>This property is 15 km away from badshapur, gu...</td>\n",
       "      <td>661.0</td>\n",
       "      <td>0</td>\n",
       "      <td>0</td>\n",
       "      <td>0</td>\n",
       "      <td>0</td>\n",
       "      <td>0</td>\n",
       "      <td>2</td>\n",
       "      <td>36.0</td>\n",
       "    </tr>\n",
       "  </tbody>\n",
       "</table>\n",
       "</div>"
      ],
      "text/plain": [
       "                  property_name Property_Type                 society  \\\n",
       "0  2 BHK Flat in Krishna Colony          flat  maa bhagwati residency   \n",
       "1     2 BHK Flat in Ashok Vihar          flat            apna enclave   \n",
       "2           2 BHK Flat in Sohna          flat  tulsiani easy in homes   \n",
       "\n",
       "     sector  price  Price_Per_SQFT  bedRoom  bathroom balcony  \\\n",
       "0  sector 7   0.45          5000.0      2.0       2.0       1   \n",
       "1  sector 3   0.50          7692.0      2.0       2.0       1   \n",
       "2  sector 1   0.40          6722.0      2.0       2.0       3   \n",
       "\n",
       "                              address  floorNum   agePossession  \\\n",
       "0    Krishna Colony, Gurgaon, Haryana         4  Relatively New   \n",
       "1  46b, Ashok Vihar, Gurgaon, Haryana         1    Old Property   \n",
       "2             Sohna, Gurgaon, Haryana        12    New Property   \n",
       "\n",
       "                                         description  built_up_area  \\\n",
       "0  So with lift.Maa bhagwati residency is one of ...         1000.0   \n",
       "1  Property situated on main road, railway statio...          722.0   \n",
       "2  This property is 15 km away from badshapur, gu...          661.0   \n",
       "\n",
       "   study room  servant room  store room  pooja room  others  furnishing_type  \\\n",
       "0           0             0           0           0       0                2   \n",
       "1           0             0           0           0       0                0   \n",
       "2           0             0           0           0       0                2   \n",
       "\n",
       "   luxury_score  \n",
       "0          28.0  \n",
       "1          37.0  \n",
       "2          36.0  "
      ]
     },
     "execution_count": 13,
     "metadata": {},
     "output_type": "execute_result"
    }
   ],
   "source": [
    "import pandas as pd\n",
    "import numpy as np\n",
    "import seaborn as sns\n",
    "import matplotlib.pyplot as plt\n",
    "from sklearn.preprocessing import OrdinalEncoder\n",
    "from sklearn.compose import ColumnTransformer\n",
    "from sklearn.pipeline import Pipeline\n",
    "from sklearn.model_selection import train_test_split\n",
    "\n",
    "import warnings\n",
    "warnings.filterwarnings('ignore')\n",
    "\n",
    "# Loading the dataset\n",
    "df = pd.read_csv('Cleaned_datasets/Combined_CleanData_V3.csv')\n",
    "\n",
    "# To see all columns\n",
    "pd.set_option('display.max_columns', None)\n",
    "df.head(3)"
   ]
  },
  {
   "cell_type": "code",
   "execution_count": 2,
   "id": "767ee3a3-87a5-4388-b48e-d89734404a75",
   "metadata": {},
   "outputs": [],
   "source": [
    "# Dropping unnecesary features \n",
    "df.drop(['society','Price_Per_SQFT','property_name','address','description'],axis=1,inplace=True)"
   ]
  },
  {
   "cell_type": "code",
   "execution_count": 3,
   "id": "bd0f507f-bdb5-4958-837c-bca889f067b3",
   "metadata": {},
   "outputs": [],
   "source": [
    "# Lets discretize the luxury score feature\n",
    "def Discretize_luxury(score):\n",
    "    if 0 <= score < 50:\n",
    "        return \"Low\"\n",
    "    elif 50 <= score < 150:\n",
    "        return \"Medium\"\n",
    "    elif 150 <= score <= 175:\n",
    "        return \"High\"\n",
    "    else:\n",
    "        return None  # In case the score is outside the specified bins\n",
    "\n",
    "df['luxury_category'] = df['luxury_score'].apply(Discretize_luxury) "
   ]
  },
  {
   "cell_type": "code",
   "execution_count": 4,
   "id": "cdfb4fce-edaa-4654-9a97-383977a2e41a",
   "metadata": {},
   "outputs": [],
   "source": [
    "# Lets discretize the floor number feature\n",
    "def Discretize_floorNum(floor):\n",
    "    if 0 <= floor <= 2:\n",
    "        return \"Low Floor\"\n",
    "    elif 3 <= floor <= 10:\n",
    "        return \"Mid Floor\"\n",
    "    elif 11 <= floor <= 51:\n",
    "        return \"High Floor\"\n",
    "    else:\n",
    "        return None  # In case the floor number is outside of the specified bins\n",
    "\n",
    "df['floor_category'] = df['floorNum'].apply(Discretize_floorNum)"
   ]
  },
  {
   "cell_type": "code",
   "execution_count": 5,
   "id": "9790c9d8-2a73-47f3-a901-c56c8735cbaa",
   "metadata": {},
   "outputs": [],
   "source": [
    "# Removing features as they are now of no use\n",
    "df.drop(['floorNum','luxury_score'],axis=1,inplace=True)"
   ]
  },
  {
   "cell_type": "markdown",
   "id": "2919953a-a60b-4218-9050-c03e16ed954c",
   "metadata": {},
   "source": [
    "Before applying the feature selection techniques we need to make sure that all the features are numerical so for that we need to first encode the categorircal features.\n",
    "\n",
    "- Nominal encoding : Property_Type\n",
    "- Ordinal encoding: agePossession,luxury_category,floor_category"
   ]
  },
  {
   "cell_type": "code",
   "execution_count": 7,
   "id": "21df55aa-ad91-4f40-a60b-64830e43f770",
   "metadata": {},
   "outputs": [],
   "source": [
    "# Extracting the sector number for sector feature\n",
    "for i in range(len(df)):\n",
    "    item = df['sector'].iloc[i]\n",
    "    item = float(item.split()[1])\n",
    "    df.loc[i, 'sector'] = item"
   ]
  },
  {
   "cell_type": "code",
   "execution_count": 9,
   "id": "4afde10b-1120-454f-b51a-d677f8e4979a",
   "metadata": {},
   "outputs": [
    {
     "data": {
      "text/html": [
       "<div>\n",
       "<style scoped>\n",
       "    .dataframe tbody tr th:only-of-type {\n",
       "        vertical-align: middle;\n",
       "    }\n",
       "\n",
       "    .dataframe tbody tr th {\n",
       "        vertical-align: top;\n",
       "    }\n",
       "\n",
       "    .dataframe thead th {\n",
       "        text-align: right;\n",
       "    }\n",
       "</style>\n",
       "<table border=\"1\" class=\"dataframe\">\n",
       "  <thead>\n",
       "    <tr style=\"text-align: right;\">\n",
       "      <th></th>\n",
       "      <th>High</th>\n",
       "      <th>Low</th>\n",
       "      <th>Mid</th>\n",
       "    </tr>\n",
       "  </thead>\n",
       "  <tbody>\n",
       "    <tr>\n",
       "      <th>count</th>\n",
       "      <td>832.000000</td>\n",
       "      <td>984.000000</td>\n",
       "      <td>1899.000000</td>\n",
       "    </tr>\n",
       "    <tr>\n",
       "      <th>mean</th>\n",
       "      <td>2.013762</td>\n",
       "      <td>2.647063</td>\n",
       "      <td>2.460474</td>\n",
       "    </tr>\n",
       "    <tr>\n",
       "      <th>std</th>\n",
       "      <td>1.537440</td>\n",
       "      <td>3.006985</td>\n",
       "      <td>2.750926</td>\n",
       "    </tr>\n",
       "    <tr>\n",
       "      <th>min</th>\n",
       "      <td>0.170000</td>\n",
       "      <td>0.070000</td>\n",
       "      <td>0.200000</td>\n",
       "    </tr>\n",
       "    <tr>\n",
       "      <th>25%</th>\n",
       "      <td>1.080000</td>\n",
       "      <td>0.850000</td>\n",
       "      <td>0.950000</td>\n",
       "    </tr>\n",
       "    <tr>\n",
       "      <th>50%</th>\n",
       "      <td>1.555000</td>\n",
       "      <td>1.440000</td>\n",
       "      <td>1.510000</td>\n",
       "    </tr>\n",
       "    <tr>\n",
       "      <th>75%</th>\n",
       "      <td>2.492500</td>\n",
       "      <td>3.292500</td>\n",
       "      <td>2.590000</td>\n",
       "    </tr>\n",
       "    <tr>\n",
       "      <th>max</th>\n",
       "      <td>15.000000</td>\n",
       "      <td>19.500000</td>\n",
       "      <td>19.000000</td>\n",
       "    </tr>\n",
       "  </tbody>\n",
       "</table>\n",
       "</div>"
      ],
      "text/plain": [
       "             High         Low          Mid\n",
       "count  832.000000  984.000000  1899.000000\n",
       "mean     2.013762    2.647063     2.460474\n",
       "std      1.537440    3.006985     2.750926\n",
       "min      0.170000    0.070000     0.200000\n",
       "25%      1.080000    0.850000     0.950000\n",
       "50%      1.555000    1.440000     1.510000\n",
       "75%      2.492500    3.292500     2.590000\n",
       "max     15.000000   19.500000    19.000000"
      ]
     },
     "execution_count": 9,
     "metadata": {},
     "output_type": "execute_result"
    }
   ],
   "source": [
    "high_floor_price = df[df['floor_category'] == 'High Floor']['price'].describe()\n",
    "low_floor_price = df[df['floor_category'] == 'Low Floor']['price'].describe()\n",
    "Mid_floor_price = df[df['floor_category'] == 'Mid Floor']['price'].describe()\n",
    "Temp_df = pd.concat([high_floor_price,low_floor_price,Mid_floor_price],axis=1,keys=['High','Low','Mid'])\n",
    "Temp_df"
   ]
  },
  {
   "cell_type": "code",
   "execution_count": 10,
   "id": "636e3839-6e0e-41b2-8f3b-c7cf2b17c5a7",
   "metadata": {},
   "outputs": [
    {
     "data": {
      "image/png": "[encoded data removed]",
      "text/plain": [
       "<Figure size 500x300 with 1 Axes>"
      ]
     },
     "metadata": {},
     "output_type": "display_data"
    }
   ],
   "source": [
    "# Performing group by operation\n",
    "Price_comparision = df.groupby('floor_category')['price'].mean()\n",
    "\n",
    "fig = plt.figure(figsize = (5,3))\n",
    "sns.barplot(x = Price_comparision.index,y =Price_comparision.values)\n",
    "plt.title('Average Flat Price by Floor Number Category')\n",
    "plt.xlabel('Floor Number Category')\n",
    "plt.ylabel('Average Price')\n",
    "plt.show()"
   ]
  },
  {
   "cell_type": "markdown",
   "id": "34fea0d4-3862-4cac-ae8c-173012e86bf9",
   "metadata": {},
   "source": [
    "# Train,test and validation split"
   ]
  },
  {
   "cell_type": "code",
   "execution_count": null,
   "id": "7c306935-195d-4a59-9ccc-6af40d5edc59",
   "metadata": {},
   "outputs": [],
   "source": [
    "# Seperating the data into dependent variable and indepenedent variables\n",
    "X = df.drop(['price'],axis=1)\n",
    "y = df['price']\n",
    "\n",
    "Train_df,Test_val_df = train_test_split(X,y,train_size = 0.8,shuffle=True)\n"
   ]
  },
  {
   "cell_type": "markdown",
   "id": "ad182ed9-db3d-49f1-9515-38fe30d9ac67",
   "metadata": {},
   "source": [
    "# Creating a data processing pipeline"
   ]
  },
  {
   "cell_type": "code",
   "execution_count": null,
   "id": "fa9b8073-013d-45c1-a5ba-bc91f8f5f903",
   "metadata": {},
   "outputs": [],
   "source": []
  },
  {
   "cell_type": "markdown",
   "id": "9b13b019-9c2e-4d73-8780-a8db2d573605",
   "metadata": {},
   "source": [
    "# Feature selection\n",
    "In the previous modules we have already done outlier removal and missing value imputation, so now we will simply focus on feature selection,model building and evaluation of the model. Just for the documentation purpose let me define what is feature selection.\n",
    "\n",
    "**FEATURE SELECTION** It is a part of feature engineering and in this the main intuition is to simply select most important features from existing set of features, so that we can avoid curse of dimensionality, problem of multicollinearity and reduce any extra computation. Now the thing is that for doing feature selection there are 3 differnt method we can use, but to be more precise we will be utilizing various techniques and we will then consider the results of all the techniques to decide which features to consider and which one to ignore."
   ]
  },
  {
   "cell_type": "markdown",
   "id": "d94fc02e-423c-42f4-99b9-de55de107614",
   "metadata": {},
   "source": [
    "# Model Selection"
   ]
  },
  {
   "cell_type": "markdown",
   "id": "a58ff1eb-e356-4b86-867e-906bf33634aa",
   "metadata": {},
   "source": [
    "# Model training"
   ]
  },
  {
   "cell_type": "markdown",
   "id": "5018e137-9359-4a7d-80e7-2a3da7a80b03",
   "metadata": {},
   "source": [
    "# Model evaluation using cross validation and evaluation metrics"
   ]
  },
  {
   "cell_type": "code",
   "execution_count": null,
   "id": "8abd0ca2-d05f-479b-9996-7637a64605d7",
   "metadata": {},
   "outputs": [],
   "source": []
  }
 ],
 "metadata": {
  "kernelspec": {
   "display_name": "Python 3 (ipykernel)",
   "language": "python",
   "name": "python3"
  },
  "language_info": {
   "codemirror_mode": {
    "name": "ipython",
    "version": 3
   },
   "file_extension": ".py",
   "mimetype": "text/x-python",
   "name": "python",
   "nbconvert_exporter": "python",
   "pygments_lexer": "ipython3",
   "version": "3.11.4"
  }
 },
 "nbformat": 4,
 "nbformat_minor": 5
}
