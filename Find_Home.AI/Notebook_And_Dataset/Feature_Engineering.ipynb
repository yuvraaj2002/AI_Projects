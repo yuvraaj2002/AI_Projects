{
 "cells": [
  {
   "cell_type": "markdown",
   "id": "c7a10a9e-710f-42b1-aefb-ed4ce7e849ca",
   "metadata": {},
   "source": [
    "# Importing the dependencies"
   ]
  },
  {
   "cell_type": "code",
   "execution_count": null,
   "id": "00b2dcf8-484d-41ea-b0b1-2f9655bfcde3",
   "metadata": {
    "tags": []
   },
   "outputs": [],
   "source": [
    "import numpy as np\n",
    "import pandas as pd\n",
    "import seaborn as sns\n",
    "import matplotlib.pyplot as plt\n",
    "import missingno as msno\n",
    "import re\n",
    "from sklearn.cluster import KMeans\n",
    "from sklearn.preprocessing import StandardScaler\n",
    "from sklearn.metrics import silhouette_score\n",
    "from sklearn.preprocessing import MultiLabelBinarizer\n",
    "import ast\n",
    "\n",
    "# Loading both the version 1 csv files of flats and independnet houses\n",
    "flats_df = pd.read_csv('Cleaned_datasets/Clean_Flats_V1.csv')\n",
    "Ih_df = pd.read_csv('Cleaned_datasets/Cleaned_IH_V1.csv')\n",
    "Appartment_df = pd.read_csv('Raw_data/appartments.csv') "
   ]
  },
  {
   "cell_type": "markdown",
   "id": "8e35f116-86e7-4979-906c-cef6c5a613a2",
   "metadata": {},
   "source": [
    "### Loading and concatinating the dataframes"
   ]
  },
  {
   "cell_type": "code",
   "execution_count": null,
   "id": "1d52e79b-2ef7-4478-9895-2e0c45df06b7",
   "metadata": {
    "tags": []
   },
   "outputs": [],
   "source": [
    "# Reseting the index\n",
    "flats_df.reset_index(drop=True,inplace=True)\n",
    "Ih_df.reset_index(drop=True,inplace=True)\n",
    "\n",
    "# Concatinating both the dataframes\n",
    "df = pd.concat([flats_df,Ih_df],ignore_index=True)"
   ]
  },
  {
   "cell_type": "code",
   "execution_count": null,
   "id": "9ff30043-9e0c-4f9f-b38b-86359f6db0d7",
   "metadata": {
    "tags": []
   },
   "outputs": [],
   "source": [
    "pd.set_option('display.max_rows', None)\n",
    "pd.set_option('display.max_columns', None)"
   ]
  },
  {
   "cell_type": "markdown",
   "id": "f6e2fe0d-c05d-46ae-9c2c-e1948acee72b",
   "metadata": {},
   "source": [
    "# Exploratory data analysis"
   ]
  },
  {
   "cell_type": "code",
   "execution_count": null,
   "id": "acfea93d-789e-4e33-b15c-ebb621342825",
   "metadata": {
    "tags": []
   },
   "outputs": [],
   "source": [
    "# Checking shape of the dataframe\n",
    "df.shape"
   ]
  },
  {
   "cell_type": "code",
   "execution_count": null,
   "id": "fdd15279-404e-49ea-9bd6-f3b3966ee4ad",
   "metadata": {
    "tags": []
   },
   "outputs": [],
   "source": [
    "# Checking features information\n",
    "df.info()"
   ]
  },
  {
   "cell_type": "code",
   "execution_count": null,
   "id": "6c33984d-b8fb-482c-ad16-36f03ab77bbb",
   "metadata": {
    "tags": []
   },
   "outputs": [],
   "source": [
    "# Checking any null values\n",
    "msno.bar(df, figsize=(15, 3), color=\"dodgerblue\", sort=\"ascending\", fontsize=12)\n",
    "plt.show()"
   ]
  },
  {
   "cell_type": "code",
   "execution_count": null,
   "id": "395139e8-5edd-4a9f-b363-33066646e7fc",
   "metadata": {
    "tags": []
   },
   "outputs": [],
   "source": [
    "if df.duplicated().sum() == 0:\n",
    "    print(\"No duplicate values\")\n",
    "else:\n",
    "    print(\"Removed duplicates\")\n",
    "    df.drop_duplicates(inplace=True)"
   ]
  },
  {
   "cell_type": "code",
   "execution_count": null,
   "id": "b16c3d9d-dfcb-49a9-8bdc-ee565193b280",
   "metadata": {
    "tags": []
   },
   "outputs": [],
   "source": [
    "# Extracting secotor number from the property namea and create a new feature with name sector\n",
    "df.insert(loc=3,column='sector',value=df['property_name'].str.split('in').str.get(1).str.replace('Gurgaon','').str.strip())\n",
    "\n",
    "# Lowercasing the values\n",
    "df['sector'] = df['sector'].str.lower()"
   ]
  },
  {
   "cell_type": "code",
   "execution_count": null,
   "id": "9ffc0ffe-6e13-41b2-8259-6187dc4e0d1c",
   "metadata": {
    "tags": []
   },
   "outputs": [],
   "source": [
    "# Considering only those where the sector count is either equal or more than 3 \n",
    "value_counts = df['sector'].value_counts()[df['sector'].value_counts() >= 3]\n",
    "df = df[df['sector'].isin(value_counts.index)]"
   ]
  },
  {
   "cell_type": "code",
   "execution_count": null,
   "id": "b59761f1-db8a-4e79-a155-0a22d794387e",
   "metadata": {
    "tags": []
   },
   "outputs": [],
   "source": [
    "df['sector'] = df['sector'].str.replace('sector 95a','sector 95')\n",
    "df['sector'] = df['sector'].str.replace('sector 23a','sector 23')\n",
    "df['sector'] = df['sector'].str.replace('sector 12a','sector 12')\n",
    "df['sector'] = df['sector'].str.replace('sector 3a','sector 3')\n",
    "df['sector'] = df['sector'].str.replace('sector 110 a','sector 110')\n",
    "df['sector'] = df['sector'].str.replace('patel nagar','sector 15')\n",
    "df['sector'] = df['sector'].str.replace('a block sector 43','sector 43')\n",
    "df['sector'] = df['sector'].str.replace('maruti kunj','sector 12')\n",
    "df['sector'] = df['sector'].str.replace('b block sector 43','sector 43')\n",
    "\n",
    "df['sector'] = df['sector'].str.replace('sector-33 sohna road','sector 33')\n",
    "df['sector'] = df['sector'].str.replace('sector 1 manesar','manesar')\n",
    "df['sector'] = df['sector'].str.replace('sector 4 phase 2','sector 4')\n",
    "df['sector'] = df['sector'].str.replace('sector 1a manesar','manesar')\n",
    "df['sector'] = df['sector'].str.replace('c block sector 43','sector 43')\n",
    "df['sector'] = df['sector'].str.replace('sector 89 a','sector 89')\n",
    "df['sector'] = df['sector'].str.replace('sector 2 extension','sector 2')\n",
    "df['sector'] = df['sector'].str.replace('sector 36 sohna road','sector 36')\n",
    "\n",
    "df['sector'] = df['sector'].str.replace('sector 37d','sector 37')\n",
    "df['sector'] = df['sector'].str.replace('sector 70a','sector 70')\n",
    "df['sector'] = df['sector'].str.replace('sector 37c','sector 33')\n",
    "df['sector'] = df['sector'].str.replace('sector-33 sohna','sector 33')\n",
    "df['sector'] = df['sector'].str.replace('sector 99a','sector 99')\n",
    "df['sector'] = df['sector'].str.replace('sector 88a','sector 88')\n",
    "df['sector'] = df['sector'].str.replace('sector 67a','sector 67')\n",
    "df['sector'] = df['sector'].str.replace('sector 82a','sector 82')\n",
    "\n",
    "df['sector'] = df['sector'].str.replace('sector 63a','sector 63')\n",
    "df['sector'] = df['sector'].str.replace('sector 36a','sector 36')\n",
    "df['sector'] = df['sector'].str.replace('sector 9a','sector 9')\n",
    "df['sector'] = df['sector'].str.replace('sector 10a','sector 10')\n",
    "df['sector'] = df['sector'].str.replace('sector 17b','sector 17')\n",
    "df['sector'] = df['sector'].str.replace('sector 17a','sector 17')\n",
    "df['sector'] = df['sector'].str.replace('sector 88b','sector 88')\n",
    "df['sector'] = df['sector'].str.replace('sector-2 sohna','sector 2')\n",
    "\n",
    "df['sector'] = df['sector'].str.replace('sector 37a','sector 37')\n",
    "df['sector'] = df['sector'].str.replace('near sector 1 market','sector 1')\n",
    "df['sector'] = df['sector'].str.replace('sector-35 sohna','sector 35')\n",
    "df['sector'] = df['sector'].str.replace('new colony, sector 7','sector 7')\n",
    "df['sector'] = df['sector'].str.replace('civil l','sector 1')\n",
    "df['sector'] = df['sector'].str.replace('block g sector-57','sector 57')\n",
    "df['sector'] = df['sector'].str.replace('anand garden, sector-105','sector 105')\n",
    "df['sector'] = df['sector'].str.replace('sector 9b','sector 9b')"
   ]
  },
  {
   "cell_type": "markdown",
   "id": "03ae7208-3fc5-4049-9068-e6ae9035d954",
   "metadata": {},
   "source": [
    "After fixing the sector values having a,b,c now we need to find the actual sectors of the places and replace them with their sector number."
   ]
  },
  {
   "cell_type": "code",
   "execution_count": null,
   "id": "aa0a04c9-5ca6-4094-b2ca-59cc4cc330d4",
   "metadata": {
    "tags": []
   },
   "outputs": [],
   "source": [
    "df['sector'] = df['sector'].str.replace('mg road','sector 25')\n",
    "df['sector'] = df['sector'].str.replace('a block sushant lok phase 1','sector 26')\n",
    "df['sector'] = df['sector'].str.replace('prem nagar','sector 13')\n",
    "df['sector'] = df['sector'].str.replace('b block sushant lok phase 1','sector 40')\n",
    "df['sector'] = df['sector'].str.replace('gandhi nagar','sector 11')\n",
    "df['sector'] = df['sector'].str.replace('laxmi garden','sector 11')\n",
    "df['sector'] = df['sector'].str.replace('shakti nagar','sector 11')\n",
    "df['sector'] = df['sector'].str.replace('vishnu garden','sector 105')\n",
    "\n",
    "df['sector'] = df['sector'].str.replace('sohna','sector 1')\n",
    "df['sector'] = df['sector'].str.replace('nirvana country','sector 50')\n",
    "df['sector'] = df['sector'].str.replace('dlf phase 2','sector 25')\n",
    "df['sector'] = df['sector'].str.replace('dlf phase 1','sector 25')\n",
    "df['sector'] = df['sector'].str.replace('dlf phase 3','sector 24')\n",
    "df['sector'] = df['sector'].str.replace('dlf phase 4','sector 24')\n",
    "df['sector'] = df['sector'].str.replace('dlf phase 5','sector 53')\n",
    "df['sector'] = df['sector'].str.replace('palam vihar','sector 1')\n",
    "df['sector'] = df['sector'].str.replace('laxman vihar','sector 3')\n",
    "df['sector'] = df['sector'].str.replace('sushant lok phase 1','sector 43')\n",
    "df['sector'] = df['sector'].str.replace('vishnu garden','sector 105')\n",
    "\n",
    "df['sector'] = df['sector'].str.replace('sector 3 phase 2','sector 3')\n",
    "df['sector'] = df['sector'].str.replace('sector 1 road','sector 1')\n",
    "df['sector'] = df['sector'].str.replace('south city 1','sector 1')\n",
    "df['sector'] = df['sector'].str.replace('c block sector 43','sector 43')\n",
    "df['sector'] = df['sector'].str.replace('sector 36 sector 1','sector 36')\n",
    "df['sector'] = df['sector'].str.replace('sector 1 imt manesar','sector 1')\n",
    "df['sector'] = df['sector'].str.replace('sector 1a imt manesar','sector 1')\n",
    "df['sector'] = df['sector'].str.replace('new sector 1','sector 1')\n",
    "df['sector'] = df['sector'].str.replace('new','sector 1')\n",
    "\n",
    "df['sector'] = df['sector'].str.replace('imt manesar','sector 1')\n",
    "df['sector'] = df['sector'].str.replace('suncity','sector 54')\n",
    "df['sector'] = df['sector'].str.replace('surya vihar','sector 21')\n",
    "df['sector'] = df['sector'].str.replace('adarsh nagar','sector 12')\n",
    "df['sector'] = df['sector'].str.replace('valley view estate','sector 58')\n",
    "df['sector'] = df['sector'].str.replace('bhondsi','sector 68')\n",
    "df['sector'] = df['sector'].str.replace('dharam colony','sector 12')\n",
    "df['sector'] = df['sector'].str.replace('shivaji nagar','sector 11')\n",
    "df['sector'] = df['sector'].str.replace('madanpuri','sector 7')\n",
    "\n",
    "df['sector'] = df['sector'].str.replace('shivpuri','sector 7')\n",
    "df['sector'] = df['sector'].str.replace('devilal colony','sector 9')\n",
    "df['sector'] = df['sector'].str.replace('bhim nagar','sector 6')\n",
    "df['sector'] = df['sector'].str.replace('ravi nagar','sector 9')\n",
    "df['sector'] = df['sector'].str.replace('krishna colony','sector 7')\n",
    "df['sector'] = df['sector'].str.replace('baldev nagar','sector 7')\n",
    "df['sector'] = df['sector'].str.replace('dharam colony','sector 12')\n",
    "df['sector'] = df['sector'].str.replace('garhi harsaru','sector 93')\n",
    "df['sector'] = df['sector'].str.replace('manesar','sector 1')\n",
    "\n",
    "df['sector'] = df['sector'].str.replace('subhash nagar','sector 6')\n",
    "df['sector'] = df['sector'].str.replace('dayanand colony','sector 6')\n",
    "df['sector'] = df['sector'].str.replace('greenwood city','sector 45')\n",
    "df['sector'] = df['sector'].str.replace('chakkarpur','sector 18')\n",
    "df['sector'] = df['sector'].str.replace('sushant lok phase 2','sector 55')\n",
    "df['sector'] = df['sector'].str.replace('saraswati vihar','sector 28')\n",
    "df['sector'] = df['sector'].str.replace('ansal plaza','sector 1')\n",
    "df['sector'] = df['sector'].str.replace('arjun nagar','sector 8')\n",
    "df['sector'] = df['sector'].str.replace('rajiv nagar','sector 13')\n",
    "\n",
    "df['sector'] = df['sector'].str.replace('jacobpura','sector 12')\n",
    "df['sector'] = df['sector'].str.replace('jyoti park','sector 7')\n",
    "df['sector'] = df['sector'].str.replace('ashok vihar','sector 3')\n",
    "df['sector'] = df['sector'].str.replace('sector 1 colony','sector 1')\n",
    "df['sector'] = df['sector'].str.replace('surat nagar 1','sector 104')\n",
    "df['sector'] = df['sector'].str.replace('mianwali colony','sector 12')\n",
    "df['sector'] = df['sector'].str.replace('dwarka expressway','sector 99')\n",
    "df['sector'] = df['sector'].str.replace('malibu town','sector 47')\n",
    "df['sector'] = df['sector'].str.replace('mehrauli  road','sector 28')\n",
    "\n",
    "df['sector'] = df['sector'].str.replace('sector 1 extension','sector 1')\n",
    "df['sector'] = df['sector'].str.replace('sector 3 phase 2','sector 3')\n",
    "df['sector'] = df['sector'].str.replace('sector 3 phase 3 extension','sector 3')\n",
    "df['sector'] = df['sector'].str.replace('uppals southend','sector 49')\n",
    "df['sector'] = df['sector'].str.replace('rajendra park','sector 105')\n",
    "df['sector'] = df['sector'].str.replace('sushant lok phase 3','sector 57')\n",
    "df['sector'] = df['sector'].str.replace('gwal pahari','sector 55')"
   ]
  },
  {
   "cell_type": "markdown",
   "id": "34015428-42fa-4a51-8af2-46154e0c67e7",
   "metadata": {},
   "source": [
    "For the `areaWithType` feature if we will carefully observe then we will realize that there are 4 different types of areas mentioned in this this feature and these 4 types are ( Plot area, Carpet area, Built up area and Super built up area ).\n",
    "\n",
    "Also in the `Area` feature in some rows we are given carpet area but in some other rows we are given some other type of area, thus this feature is not very much reliable and instead of focusing on the `Area` feature we will be utilizing the `areaWithType` feature and extract all 4 areas from it and create 4 new features."
   ]
  },
  {
   "cell_type": "code",
   "execution_count": null,
   "id": "baa75d29-00d7-40dd-8147-a2b962ab4758",
   "metadata": {
    "tags": []
   },
   "outputs": [],
   "source": [
    "df[['Area','areaWithType']].sample(5)"
   ]
  },
  {
   "cell_type": "code",
   "execution_count": null,
   "id": "d604c6ea-b98a-40b6-bba0-f659f8893f17",
   "metadata": {
    "tags": []
   },
   "outputs": [],
   "source": [
    "class Extract_featres_Area:\n",
    "    \"\"\"\n",
    "    This class will be used to extract new features from existing areaWithTYpe feature and\n",
    "    it will also help us to convert sq.m to sq.ft\n",
    "    \"\"\"\n",
    "\n",
    "    # This function extracts the Super Built up area\n",
    "    def get_super_built_up_area(self,text):\n",
    "        match = re.search(r'Super Built up area (\\d+\\.?\\d*)', text)\n",
    "        if match:\n",
    "            return float(match.group(1))\n",
    "        return None\n",
    "\n",
    "    # This function extracts the Built Up area or Carpet area\n",
    "    def get_area(self,text, area_type):\n",
    "        match = re.search(area_type + r'\\s*:\\s*(\\d+\\.?\\d*)', text)\n",
    "        if match:\n",
    "            return float(match.group(1))\n",
    "        return None\n",
    "    \n",
    "    # Function to extract plot area from 'areaWithType' column\n",
    "    def extract_plot_area(self,area_with_type):\n",
    "        match = re.search(r'Plot area (\\d+\\.?\\d*)', area_with_type)\n",
    "        if match:\n",
    "            return float(match.group(1))\n",
    "        else:\n",
    "            None\n",
    "\n",
    "    # This function checks if the area is provided in sq.m. and converts it to sqft if needed\n",
    "    def convert_to_sqft(self,text, area_value):\n",
    "        if area_value is None:\n",
    "            return None\n",
    "        match = re.search(r'{} \\((\\d+\\.?\\d*) sq.m.\\)'.format(area_value), text)\n",
    "        if match:\n",
    "            sq_m_value = float(match.group(1))\n",
    "            return sq_m_value * 10.7639  # conversion factor from sq.m. to sqft\n",
    "        return area_value\n",
    "    \n",
    "    \n",
    "    # This method will convert the built_up_area of indpendent houses to sqft\n",
    "    def convert_scale(self,row):\n",
    "        if np.isnan(row['Area']) or np.isnan(row['built_up_area']):\n",
    "            return row['built_up_area']\n",
    "        else:\n",
    "            if round(row['Area']/row['built_up_area']) == 9.0:\n",
    "                return row['built_up_area'] * 9\n",
    "            elif round(row['Area']/row['built_up_area']) == 11.0:\n",
    "                return row['built_up_area'] * 10.7\n",
    "            else:\n",
    "                return row['built_up_area']"
   ]
  },
  {
   "cell_type": "markdown",
   "id": "5ddcef2a-5d45-47cc-b6b7-42a5573b5f37",
   "metadata": {},
   "source": [
    "With a carefully analysis we will see that the rows where the `Property_Type` is Independent_House have missing values from all the newly created features and the reason is that Independent houses do not have any carpet area, builtup area or super built up area, instead they have a plot area. So we need to extract the plot area from the `areaWithType` feature and convert it to sqft. So let's include another method in the above class for extracting the plot area and creating new feature."
   ]
  },
  {
   "cell_type": "code",
   "execution_count": null,
   "id": "6ccef10a-2abc-47c2-9a55-fe925241a3fc",
   "metadata": {},
   "outputs": [],
   "source": [
    "# Instantiating the class\n",
    "clean_area = Extract_featres_Area()\n",
    "\n",
    "# Extract Super Built up area and convert to sqft if needed\n",
    "df['super_built_up_area'] = df['areaWithType'].apply(clean_area.get_super_built_up_area)\n",
    "df['super_built_up_area'] = df.apply(lambda x: clean_area.convert_to_sqft(x['areaWithType'], x['super_built_up_area']), axis=1)\n",
    "\n",
    "# Extract Built Up area and convert to sqft if needed\n",
    "df['built_up_area'] = df['areaWithType'].apply(lambda x: clean_area.get_area(x, 'Built Up area'))\n",
    "df['built_up_area'] = df.apply(lambda x: clean_area.convert_to_sqft(x['areaWithType'], x['built_up_area']), axis=1)\n",
    "\n",
    "# Extract Carpet area and convert to sqft if needed\n",
    "df['carpet_area'] = df['areaWithType'].apply(lambda x: clean_area.get_area(x, 'Carpet area'))\n",
    "df['carpet_area'] = df.apply(lambda x: clean_area.convert_to_sqft(x['areaWithType'], x['carpet_area']), axis=1)"
   ]
  },
  {
   "cell_type": "code",
   "execution_count": null,
   "id": "4b930825-3303-4935-b337-126b589c3597",
   "metadata": {
    "tags": []
   },
   "outputs": [],
   "source": [
    "Ind_House_df = df[((df['super_built_up_area'].isnull()) & (df['built_up_area'].isnull()) & (df['carpet_area'].isnull()))][['price','Property_Type','Area','areaWithType','super_built_up_area','built_up_area','carpet_area']]\n",
    "\n",
    "# Extracting Plot area ( Plot area of houses ~ Built up area of flats )\n",
    "Ind_House_df['built_up_area'] = Ind_House_df['areaWithType'].apply(clean_area.extract_plot_area)\n",
    "\n",
    "# Convertions of values to sqft\n",
    "Ind_House_df['built_up_area'] = Ind_House_df.apply(clean_area.convert_scale,axis=1)\n",
    "\n",
    "# Updating the original dataframe\n",
    "df.update(Ind_House_df)"
   ]
  },
  {
   "cell_type": "markdown",
   "id": "53e953f9-0724-4ce6-b442-3e372a1c4e80",
   "metadata": {},
   "source": [
    "In the `additionalRoom` feature there are a lot of rows having study room, pooja room and store room, so we will be creating 4 binary features where 1 will represent type of additional room present. "
   ]
  },
  {
   "cell_type": "code",
   "execution_count": null,
   "id": "9c0bb26e-c022-4e83-a3f3-b250ed48335f",
   "metadata": {
    "tags": []
   },
   "outputs": [],
   "source": [
    "df['additionalRoom'].value_counts().sample(6)"
   ]
  },
  {
   "cell_type": "code",
   "execution_count": null,
   "id": "77186e57-c440-4aa2-952c-bcfb59b97efa",
   "metadata": {
    "tags": []
   },
   "outputs": [],
   "source": [
    "# List of new columns to be created\n",
    "new_cols = ['study room', 'servant room', 'store room', 'pooja room', 'others']\n",
    "\n",
    "# Populate the new columns based on the \"additionalRoom\" column\n",
    "for col in new_cols:\n",
    "    df[col] = df['additionalRoom'].str.contains(col).astype(int)"
   ]
  },
  {
   "cell_type": "code",
   "execution_count": null,
   "id": "4a215ecc-5078-4711-ae10-48795534808c",
   "metadata": {
    "tags": []
   },
   "outputs": [],
   "source": [
    "df['agePossession'].unique()"
   ]
  },
  {
   "cell_type": "markdown",
   "id": "a803de2a-c537-44ab-9d1e-83ffa8af94c2",
   "metadata": {},
   "source": [
    "The `agePossession` feature has high cardinatlity so to deal with this type we will replace the values with new values such that the overall information is preserved."
   ]
  },
  {
   "cell_type": "code",
   "execution_count": null,
   "id": "d01b0391-1d94-4485-ae66-35b14640bfd6",
   "metadata": {
    "tags": []
   },
   "outputs": [],
   "source": [
    "def categorize_age_possession(value):\n",
    "    if pd.isna(value):\n",
    "        return \"Undefined\"\n",
    "    if \"0 to 1 Year Old\" in value or \"Within 6 months\" in value or \"Within 3 months\" in value:\n",
    "        return \"New Property\"\n",
    "    if \"1 to 5 Year Old\" in value:\n",
    "        return \"Relatively New\"\n",
    "    if \"5 to 10 Year Old\" in value:\n",
    "        return \"Moderately Old\"\n",
    "    if \"10+ Year Old\" in value:\n",
    "        return \"Old Property\"\n",
    "    if \"Under Construction\" in value or \"By\" in value:\n",
    "        return \"Under Construction\"\n",
    "    try:\n",
    "        # For entries like 'May 2024'\n",
    "        int(value.split(\" \")[-1])\n",
    "        return \"Under Construction\"\n",
    "    except:\n",
    "        return \"Undefined\"\n",
    "    \n",
    "df['agePossession'] = df['agePossession'].apply(categorize_age_possession)"
   ]
  },
  {
   "cell_type": "code",
   "execution_count": null,
   "id": "58a70ece-1c91-451a-9fb3-e7d8e2be14f7",
   "metadata": {},
   "outputs": [],
   "source": [
    "# Let's extract all unique furnishings from the furnishDetails column\n",
    "all_furnishings = []\n",
    "for detail in df['furnishDetails'].dropna():\n",
    "    furnishings = detail.replace('[', '').replace(']', '').replace(\"'\", \"\").split(', ')\n",
    "    all_furnishings.extend(furnishings)\n",
    "    \n",
    "unique_furnishings = list(set(all_furnishings))"
   ]
  },
  {
   "cell_type": "code",
   "execution_count": null,
   "id": "1dcfb9a0-6e1b-437a-a581-79217f185900",
   "metadata": {},
   "outputs": [],
   "source": [
    "# Defining a function to extract the count of a furnishing from the furnishDetails\n",
    "def get_furnishing_count(details, furnishing):\n",
    "    if isinstance(details, str):\n",
    "        if f\"No {furnishing}\" in details:\n",
    "            return 0\n",
    "        pattern = re.compile(f\"(\\d+) {furnishing}\")\n",
    "        match = pattern.search(details)\n",
    "        if match:\n",
    "            return int(match.group(1))\n",
    "        elif furnishing in details:\n",
    "            return 1\n",
    "    return 0"
   ]
  },
  {
   "cell_type": "code",
   "execution_count": null,
   "id": "687bf213-9e79-4444-836f-96652d830b7e",
   "metadata": {},
   "outputs": [],
   "source": [
    "# Simplify the furnishings list by removing \"No\" prefix and numbers\n",
    "columns_to_include = [re.sub(r'No |\\d+', '', furnishing).strip() for furnishing in unique_furnishings]\n",
    "columns_to_include = list(set(columns_to_include))  # Get unique furnishings\n",
    "columns_to_include = [furnishing for furnishing in columns_to_include if furnishing]  # Remove empty strings\n",
    "\n",
    "# Create new columns for each unique furnishing and populate with counts\n",
    "for furnishing in columns_to_include:\n",
    "    df[furnishing] = df['furnishDetails'].apply(lambda x: get_furnishing_count(x, furnishing))\n",
    "\n",
    "# Create the new dataframe with the required columns\n",
    "furnishings_df = df[['furnishDetails'] + columns_to_include]"
   ]
  },
  {
   "cell_type": "code",
   "execution_count": null,
   "id": "9da7ca48-a417-46a2-887c-7d94a5c5e02c",
   "metadata": {},
   "outputs": [],
   "source": [
    "# Let's see how the dataframe looks like\n",
    "furnishings_df.head(4)\n",
    "\n",
    "# Dropping the first feature so that we could create clusters\n",
    "furnishings_df.drop(columns=['furnishDetails'],inplace=True)"
   ]
  },
  {
   "cell_type": "code",
   "execution_count": null,
   "id": "c887a35a-7f73-493a-9ab6-807629e6dd04",
   "metadata": {},
   "outputs": [],
   "source": [
    "# Scaling the data points to common scale\n",
    "scaler = StandardScaler()\n",
    "scaled_data = scaler.fit_transform(furnishings_df)"
   ]
  },
  {
   "cell_type": "code",
   "execution_count": null,
   "id": "3d6faa38-4da2-4798-8d58-d92bc717f9f7",
   "metadata": {},
   "outputs": [],
   "source": [
    "# Empty list to score silhouette score\n",
    "silhouette_sc = []\n",
    "for i in range(2,11):\n",
    "    kmeans = KMeans(n_clusters = i,random_state=0,n_init=10,init='k-means++')\n",
    "    kmeans.fit(scaled_data)\n",
    "    labels = kmeans.predict(scaled_data)\n",
    "    silhouette_avg = silhouette_score(scaled_data, labels)\n",
    "    silhouette_sc.append(silhouette_avg)\n",
    "    \n",
    "fig,ax = plt.subplots(figsize=(5,3))\n",
    "\n",
    "plt.plot(range(2, 11), silhouette_sc)\n",
    "plt.title('Silhouette graph')\n",
    "plt.xlabel('Number of Clusters')\n",
    "plt.ylabel('Silhouette Score')\n",
    "plt.show()"
   ]
  },
  {
   "cell_type": "code",
   "execution_count": null,
   "id": "0271bd86-90e7-437a-97dd-a426df7c2455",
   "metadata": {},
   "outputs": [],
   "source": [
    "n_clusters = 3\n",
    "\n",
    "# Fit the KMeans model\n",
    "kmeans = KMeans(n_clusters=n_clusters, random_state=42,n_init='auto')\n",
    "kmeans.fit(scaled_data)\n",
    "\n",
    "# Predict the cluster assignments for each row\n",
    "cluster_assignments = kmeans.predict(scaled_data)"
   ]
  },
  {
   "cell_type": "code",
   "execution_count": null,
   "id": "6c33dc1d-2ab5-4a4a-8f73-9c310f4112ac",
   "metadata": {},
   "outputs": [],
   "source": [
    "# Selecting all the features other than furnish detials count\n",
    "df = df.iloc[:,:-18]\n",
    "\n",
    "# Creating a new feature where  0 -> unfurnished, 1 -> semifurnished and 2 -> furnished\n",
    "df['furnishing_type'] = cluster_assignments"
   ]
  },
  {
   "cell_type": "code",
   "execution_count": null,
   "id": "5441c233-4c90-49f4-bcfb-75685e578ca7",
   "metadata": {},
   "outputs": [],
   "source": [
    "Appartment_df.head(4)"
   ]
  },
  {
   "cell_type": "markdown",
   "id": "f722ca2d-028a-44e8-a127-2192448a9b19",
   "metadata": {},
   "source": [
    "What is happening with the appartment dataframe"
   ]
  },
  {
   "cell_type": "code",
   "execution_count": null,
   "id": "5a4394ff-5d1e-4c9a-baea-2428e03e178c",
   "metadata": {},
   "outputs": [],
   "source": [
    "# Lowering the property name\n",
    "Appartment_df['PropertyName'] = Appartment_df['PropertyName'].str.lower()\n",
    "\n",
    "# Accessing all the rows having null feature values\n",
    "Null_feature_df = df[df['features'].isnull()]\n",
    "\n",
    "# Performing the left join\n",
    "x = Null_feature_df.merge(Appartment_df,left_on='society',right_on='PropertyName',how='left')['TopFacilities']\n",
    "\n",
    "# Filling missing values in feature column with new values\n",
    "df.loc[Null_feature_df.index,'features'] = x.values"
   ]
  },
  {
   "cell_type": "code",
   "execution_count": null,
   "id": "6a281583-7bb9-4298-bfd8-3abab6190ca9",
   "metadata": {},
   "outputs": [],
   "source": [
    "# Convert the string representation of lists in the 'features' column to actual lists\n",
    "df['features_list'] = df['features'].apply(lambda x: ast.literal_eval(x) if pd.notnull(x) and x.startswith('[') else [])\n",
    "\n",
    "# Use MultiLabelBinarizer to convert the features list into a binary matrix\n",
    "mlb = MultiLabelBinarizer()\n",
    "features_binary_matrix = mlb.fit_transform(df['features_list'])\n",
    "\n",
    "# Convert the binary matrix into a DataFrame\n",
    "features_binary_df = pd.DataFrame(features_binary_matrix, columns=mlb.classes_)"
   ]
  },
  {
   "cell_type": "code",
   "execution_count": null,
   "id": "a67d09a8-b215-461c-9f4d-29840ad34830",
   "metadata": {},
   "outputs": [],
   "source": [
    "# Empty list to score silhouette score\n",
    "silhouette_sc = []\n",
    "for i in range(2,11):\n",
    "    kmeans = KMeans(n_clusters = i,random_state=0,n_init=10,init='k-means++')\n",
    "    kmeans.fit(features_binary_df)\n",
    "    labels = kmeans.predict(features_binary_df)\n",
    "    silhouette_avg = silhouette_score(features_binary_df, labels)\n",
    "    silhouette_sc.append(silhouette_avg)\n",
    "    \n",
    "fig,ax = plt.subplots(figsize=(5,3))\n",
    "\n",
    "plt.plot(range(2, 11), silhouette_sc)\n",
    "plt.title('Silhouette graph')\n",
    "plt.xlabel('Number of Clusters')\n",
    "plt.ylabel('Silhouette Score')\n",
    "plt.show()"
   ]
  },
  {
   "cell_type": "code",
   "execution_count": null,
   "id": "ef8bf402-1e84-47f4-8247-91e5ae6fc68a",
   "metadata": {},
   "outputs": [],
   "source": [
    "# Assigning weights based on perceived luxury contribution\n",
    "weights = {\n",
    "    '24/7 Power Backup': 8,\n",
    "    '24/7 Water Supply': 4,\n",
    "    '24x7 Security': 7,\n",
    "    'ATM': 4,\n",
    "    'Aerobics Centre': 6,\n",
    "    'Airy Rooms': 8,\n",
    "    'Amphitheatre': 7,\n",
    "    'Badminton Court': 7,\n",
    "    'Banquet Hall': 8,\n",
    "    'Bar/Chill-Out Lounge': 9,\n",
    "    'Barbecue': 7,\n",
    "    'Basketball Court': 7,\n",
    "    'Billiards': 7,\n",
    "    'Bowling Alley': 8,\n",
    "    'Business Lounge': 9,\n",
    "    'CCTV Camera Security': 8,\n",
    "    'Cafeteria': 6,\n",
    "    'Car Parking': 6,\n",
    "    'Card Room': 6,\n",
    "    'Centrally Air Conditioned': 9,\n",
    "    'Changing Area': 6,\n",
    "    \"Children's Play Area\": 7,\n",
    "    'Cigar Lounge': 9,\n",
    "    'Clinic': 5,\n",
    "    'Club House': 9,\n",
    "    'Concierge Service': 9,\n",
    "    'Conference room': 8,\n",
    "    'Creche/Day care': 7,\n",
    "    'Cricket Pitch': 7,\n",
    "    'Doctor on Call': 6,\n",
    "    'Earthquake Resistant': 5,\n",
    "    'Entrance Lobby': 7,\n",
    "    'False Ceiling Lighting': 6,\n",
    "    'Feng Shui / Vaastu Compliant': 5,\n",
    "    'Fire Fighting Systems': 8,\n",
    "    'Fitness Centre / GYM': 8,\n",
    "    'Flower Garden': 7,\n",
    "    'Food Court': 6,\n",
    "    'Foosball': 5,\n",
    "    'Football': 7,\n",
    "    'Fountain': 7,\n",
    "    'Gated Community': 7,\n",
    "    'Golf Course': 10,\n",
    "    'Grocery Shop': 6,\n",
    "    'Gymnasium': 8,\n",
    "    'High Ceiling Height': 8,\n",
    "    'High Speed Elevators': 8,\n",
    "    'Infinity Pool': 9,\n",
    "    'Intercom Facility': 7,\n",
    "    'Internal Street Lights': 6,\n",
    "    'Internet/wi-fi connectivity': 7,\n",
    "    'Jacuzzi': 9,\n",
    "    'Jogging Track': 7,\n",
    "    'Landscape Garden': 8,\n",
    "    'Laundry': 6,\n",
    "    'Lawn Tennis Court': 8,\n",
    "    'Library': 8,\n",
    "    'Lounge': 8,\n",
    "    'Low Density Society': 7,\n",
    "    'Maintenance Staff': 6,\n",
    "    'Manicured Garden': 7,\n",
    "    'Medical Centre': 5,\n",
    "    'Milk Booth': 4,\n",
    "    'Mini Theatre': 9,\n",
    "    'Multipurpose Court': 7,\n",
    "    'Multipurpose Hall': 7,\n",
    "    'Natural Light': 8,\n",
    "    'Natural Pond': 7,\n",
    "    'Park': 8,\n",
    "    'Party Lawn': 8,\n",
    "    'Piped Gas': 7,\n",
    "    'Pool Table': 7,\n",
    "    'Power Back up Lift': 8,\n",
    "    'Private Garden / Terrace': 9,\n",
    "    'Property Staff': 7,\n",
    "    'RO System': 7,\n",
    "    'Rain Water Harvesting': 7,\n",
    "    'Reading Lounge': 8,\n",
    "    'Restaurant': 8,\n",
    "    'Salon': 8,\n",
    "    'Sauna': 9,\n",
    "    'Security / Fire Alarm': 9,\n",
    "    'Security Personnel': 9,\n",
    "    'Separate entry for servant room': 8,\n",
    "    'Sewage Treatment Plant': 6,\n",
    "    'Shopping Centre': 7,\n",
    "    'Skating Rink': 7,\n",
    "    'Solar Lighting': 6,\n",
    "    'Solar Water Heating': 7,\n",
    "    'Spa': 9,\n",
    "    'Spacious Interiors': 9,\n",
    "    'Squash Court': 8,\n",
    "    'Steam Room': 9,\n",
    "    'Sun Deck': 8,\n",
    "    'Swimming Pool': 8,\n",
    "    'Temple': 5,\n",
    "    'Theatre': 9,\n",
    "    'Toddler Pool': 7,\n",
    "    'Valet Parking': 9,\n",
    "    'Video Door Security': 9,\n",
    "    'Visitor Parking': 7,\n",
    "    'Water Softener Plant': 7,\n",
    "    'Water Storage': 7,\n",
    "    'Water purifier': 7,\n",
    "    'Yoga/Meditation Area': 7\n",
    "}\n",
    "# Calculate luxury score for each row\n",
    "luxury_score = features_binary_df[list(weights.keys())].multiply(list(weights.values())).sum(axis=1)\n",
    "\n",
    "# Creating a new feature\n",
    "df['luxury_score'] = luxury_score"
   ]
  },
  {
   "cell_type": "code",
   "execution_count": null,
   "id": "07302a0d-445e-4d33-bfb7-74f76b011cb4",
   "metadata": {},
   "outputs": [],
   "source": [
    "# Dropping all the unnecessary columns\n",
    "df.drop(columns=['nearbyLocations','furnishDetails','features','features_list','additionalRoom','Area','areaWithType'],inplace=True)"
   ]
  },
  {
   "cell_type": "code",
   "execution_count": 36,
   "id": "40751d83-9e46-4338-8c50-d8f59a8a020f",
   "metadata": {},
   "outputs": [
    {
     "data": {
      "text/html": [
       "<div>\n",
       "<style scoped>\n",
       "    .dataframe tbody tr th:only-of-type {\n",
       "        vertical-align: middle;\n",
       "    }\n",
       "\n",
       "    .dataframe tbody tr th {\n",
       "        vertical-align: top;\n",
       "    }\n",
       "\n",
       "    .dataframe thead th {\n",
       "        text-align: right;\n",
       "    }\n",
       "</style>\n",
       "<table border=\"1\" class=\"dataframe\">\n",
       "  <thead>\n",
       "    <tr style=\"text-align: right;\">\n",
       "      <th></th>\n",
       "      <th>property_name</th>\n",
       "      <th>Property_Type</th>\n",
       "      <th>society</th>\n",
       "      <th>sector</th>\n",
       "      <th>price</th>\n",
       "      <th>Price_Per_SQFT</th>\n",
       "      <th>Area</th>\n",
       "      <th>areaWithType</th>\n",
       "      <th>bedRoom</th>\n",
       "      <th>bathroom</th>\n",
       "      <th>balcony</th>\n",
       "      <th>address</th>\n",
       "      <th>floorNum</th>\n",
       "      <th>facing</th>\n",
       "      <th>agePossession</th>\n",
       "      <th>description</th>\n",
       "      <th>rating</th>\n",
       "      <th>super_built_up_area</th>\n",
       "      <th>built_up_area</th>\n",
       "      <th>carpet_area</th>\n",
       "      <th>study room</th>\n",
       "      <th>servant room</th>\n",
       "      <th>store room</th>\n",
       "      <th>pooja room</th>\n",
       "      <th>others</th>\n",
       "      <th>furnishing_type</th>\n",
       "      <th>luxury_score</th>\n",
       "    </tr>\n",
       "  </thead>\n",
       "  <tbody>\n",
       "    <tr>\n",
       "      <th>0</th>\n",
       "      <td>2 BHK Flat in Krishna Colony</td>\n",
       "      <td>flat</td>\n",
       "      <td>maa bhagwati residency</td>\n",
       "      <td>sector 7</td>\n",
       "      <td>0.45</td>\n",
       "      <td>5000.0</td>\n",
       "      <td>900</td>\n",
       "      <td>Carpet area: 900 (83.61 sq.m.)</td>\n",
       "      <td>2.0</td>\n",
       "      <td>2.0</td>\n",
       "      <td>1</td>\n",
       "      <td>Krishna Colony, Gurgaon, Haryana</td>\n",
       "      <td>4</td>\n",
       "      <td>West</td>\n",
       "      <td>Relatively New</td>\n",
       "      <td>So with lift.Maa bhagwati residency is one of ...</td>\n",
       "      <td>['Environment4 out of 5', 'Safety4 out of 5', ...</td>\n",
       "      <td>NaN</td>\n",
       "      <td>NaN</td>\n",
       "      <td>900.0</td>\n",
       "      <td>0</td>\n",
       "      <td>0</td>\n",
       "      <td>0</td>\n",
       "      <td>0</td>\n",
       "      <td>0</td>\n",
       "      <td>2</td>\n",
       "      <td>28.0</td>\n",
       "    </tr>\n",
       "    <tr>\n",
       "      <th>1</th>\n",
       "      <td>2 BHK Flat in Ashok Vihar</td>\n",
       "      <td>flat</td>\n",
       "      <td>apna enclave</td>\n",
       "      <td>sector 3</td>\n",
       "      <td>0.50</td>\n",
       "      <td>7692.0</td>\n",
       "      <td>650</td>\n",
       "      <td>Carpet area: 650 (60.39 sq.m.)</td>\n",
       "      <td>2.0</td>\n",
       "      <td>2.0</td>\n",
       "      <td>1</td>\n",
       "      <td>46b, Ashok Vihar, Gurgaon, Haryana</td>\n",
       "      <td>1</td>\n",
       "      <td>West</td>\n",
       "      <td>Old Property</td>\n",
       "      <td>Property situated on main road, railway statio...</td>\n",
       "      <td>['Environment4 out of 5', 'Safety4 out of 5', ...</td>\n",
       "      <td>NaN</td>\n",
       "      <td>NaN</td>\n",
       "      <td>650.0</td>\n",
       "      <td>0</td>\n",
       "      <td>0</td>\n",
       "      <td>0</td>\n",
       "      <td>0</td>\n",
       "      <td>0</td>\n",
       "      <td>0</td>\n",
       "      <td>37.0</td>\n",
       "    </tr>\n",
       "    <tr>\n",
       "      <th>2</th>\n",
       "      <td>2 BHK Flat in Sohna</td>\n",
       "      <td>flat</td>\n",
       "      <td>tulsiani easy in homes</td>\n",
       "      <td>sector 1</td>\n",
       "      <td>0.40</td>\n",
       "      <td>6722.0</td>\n",
       "      <td>595</td>\n",
       "      <td>Carpet area: 595 (55.28 sq.m.)</td>\n",
       "      <td>2.0</td>\n",
       "      <td>2.0</td>\n",
       "      <td>3</td>\n",
       "      <td>Sohna, Gurgaon, Haryana</td>\n",
       "      <td>12</td>\n",
       "      <td>NaN</td>\n",
       "      <td>New Property</td>\n",
       "      <td>This property is 15 km away from badshapur, gu...</td>\n",
       "      <td>['Environment4 out of 5', 'Safety4 out of 5', ...</td>\n",
       "      <td>NaN</td>\n",
       "      <td>NaN</td>\n",
       "      <td>595.0</td>\n",
       "      <td>0</td>\n",
       "      <td>0</td>\n",
       "      <td>0</td>\n",
       "      <td>0</td>\n",
       "      <td>0</td>\n",
       "      <td>2</td>\n",
       "      <td>36.0</td>\n",
       "    </tr>\n",
       "  </tbody>\n",
       "</table>\n",
       "</div>"
      ],
      "text/plain": [
       "                  property_name Property_Type                 society  \\\n",
       "0  2 BHK Flat in Krishna Colony          flat  maa bhagwati residency   \n",
       "1     2 BHK Flat in Ashok Vihar          flat            apna enclave   \n",
       "2           2 BHK Flat in Sohna          flat  tulsiani easy in homes   \n",
       "\n",
       "     sector  price  Price_Per_SQFT  Area                    areaWithType  \\\n",
       "0  sector 7   0.45          5000.0   900  Carpet area: 900 (83.61 sq.m.)   \n",
       "1  sector 3   0.50          7692.0   650  Carpet area: 650 (60.39 sq.m.)   \n",
       "2  sector 1   0.40          6722.0   595  Carpet area: 595 (55.28 sq.m.)   \n",
       "\n",
       "   bedRoom  bathroom balcony                             address  floorNum  \\\n",
       "0      2.0       2.0       1    Krishna Colony, Gurgaon, Haryana         4   \n",
       "1      2.0       2.0       1  46b, Ashok Vihar, Gurgaon, Haryana         1   \n",
       "2      2.0       2.0       3             Sohna, Gurgaon, Haryana        12   \n",
       "\n",
       "  facing   agePossession                                        description  \\\n",
       "0   West  Relatively New  So with lift.Maa bhagwati residency is one of ...   \n",
       "1   West    Old Property  Property situated on main road, railway statio...   \n",
       "2    NaN    New Property  This property is 15 km away from badshapur, gu...   \n",
       "\n",
       "                                              rating  super_built_up_area  \\\n",
       "0  ['Environment4 out of 5', 'Safety4 out of 5', ...                  NaN   \n",
       "1  ['Environment4 out of 5', 'Safety4 out of 5', ...                  NaN   \n",
       "2  ['Environment4 out of 5', 'Safety4 out of 5', ...                  NaN   \n",
       "\n",
       "   built_up_area  carpet_area  study room  servant room  store room  \\\n",
       "0            NaN        900.0           0             0           0   \n",
       "1            NaN        650.0           0             0           0   \n",
       "2            NaN        595.0           0             0           0   \n",
       "\n",
       "   pooja room  others  furnishing_type  luxury_score  \n",
       "0           0       0                2          28.0  \n",
       "1           0       0                0          37.0  \n",
       "2           0       0                2          36.0  "
      ]
     },
     "execution_count": 36,
     "metadata": {},
     "output_type": "execute_result"
    }
   ],
   "source": [
    "df.head(3)"
   ]
  },
  {
   "cell_type": "code",
   "execution_count": 37,
   "id": "f9c97775-a891-4e86-bb06-756fd9b4a834",
   "metadata": {},
   "outputs": [],
   "source": [
    "# Saving current state of data in the csv file\n",
    "df.to_csv('Cleaned_datasets/Combined_CleanData_V2.csv',index=False)"
   ]
  }
 ],
 "metadata": {
  "kernelspec": {
   "display_name": "Python 3 (ipykernel)",
   "language": "python",
   "name": "python3"
  },
  "language_info": {
   "codemirror_mode": {
    "name": "ipython",
    "version": 3
   },
   "file_extension": ".py",
   "mimetype": "text/x-python",
   "name": "python",
   "nbconvert_exporter": "python",
   "pygments_lexer": "ipython3",
   "version": "3.11.4"
  }
 },
 "nbformat": 4,
 "nbformat_minor": 5
}
