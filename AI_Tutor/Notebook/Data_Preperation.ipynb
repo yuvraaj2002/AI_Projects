{
 "cells": [
  {
   "cell_type": "markdown",
   "id": "284ba83d-b0dc-4f6e-b49c-56b9d6c0de6b",
   "metadata": {},
   "source": [
    "# Importing the dependencies"
   ]
  },
  {
   "cell_type": "code",
   "execution_count": 1,
   "id": "a5aaaf25-374f-4be2-a85d-e53fa85d35ed",
   "metadata": {},
   "outputs": [],
   "source": [
    "import pandas as pd\n",
    "import pickle"
   ]
  },
  {
   "cell_type": "markdown",
   "id": "4d5b34c6-5f85-46b4-b443-b3ea3fcfb4b6",
   "metadata": {},
   "source": [
    "# Extracing DSA questions"
   ]
  },
  {
   "cell_type": "code",
   "execution_count": 2,
   "id": "21577824-44eb-4ca5-883d-d7a79bdd9798",
   "metadata": {},
   "outputs": [],
   "source": [
    "# Defining the path and the empty list\n",
    "file_path = '../Dataset/DSA_que.txt'\n",
    "dsa_que_ls = []\n",
    "\n",
    "try:\n",
    "    with open(file_path, 'r') as file:\n",
    "        lines = file.readlines()\n",
    "        for line in lines:\n",
    "\n",
    "            # Removing the leading or trailing whitespaces\n",
    "            line = line.strip()\n",
    "\n",
    "            # Saving the line in the que list\n",
    "            dsa_que_ls.append(line)\n",
    "\n",
    "except FileNotFoundError:\n",
    "    print(f\"The file {file_path} was not found.\")\n",
    "except Exception as e:\n",
    "    print(f\"An error occurred: {e}\")"
   ]
  },
  {
   "cell_type": "code",
   "execution_count": 3,
   "id": "51e6a789-8075-41eb-ba57-c72089e93b8e",
   "metadata": {},
   "outputs": [],
   "source": [
    "dsa_que_sr = pd.Series(dsa_que_ls)\n",
    "dsa_df = pd.DataFrame({'Que': dsa_que_sr})\n",
    "\n",
    "# Adding a feature 'Category'\n",
    "dsa_df['Category'] = 'DSA'"
   ]
  },
  {
   "cell_type": "markdown",
   "id": "276ac151-cf10-428e-961e-b2c103ee7032",
   "metadata": {},
   "source": [
    "# Extracing System design questions"
   ]
  },
  {
   "cell_type": "code",
   "execution_count": 4,
   "id": "1e55b3c7-cca9-4e97-ac1f-066860f9f7a3",
   "metadata": {},
   "outputs": [],
   "source": [
    "# Defining the path and the empty list\n",
    "file_path = '../Dataset/System_Design_que.txt'\n",
    "sd_que_ls = []\n",
    "\n",
    "try:\n",
    "    with open(file_path, 'r') as file:\n",
    "        lines = file.readlines()\n",
    "        for line in lines:\n",
    "\n",
    "            # Removing the leading or trailing whitespaces\n",
    "            line = line.strip()\n",
    "\n",
    "            # Saving the line in the que list\n",
    "            sd_que_ls.append(line)\n",
    "\n",
    "except FileNotFoundError:\n",
    "    print(f\"The file {file_path} was not found.\")\n",
    "except Exception as e:\n",
    "    print(f\"An error occurred: {e}\")"
   ]
  },
  {
   "cell_type": "code",
   "execution_count": 5,
   "id": "d0ef69ac-7106-464c-bc0f-1d53cc68ef09",
   "metadata": {},
   "outputs": [],
   "source": [
    "sd_que_sr = pd.Series(sd_que_ls)\n",
    "sd_df = pd.DataFrame({'Que': sd_que_sr})\n",
    "\n",
    "# Adding a feature 'Category'\n",
    "sd_df['Category'] = 'System_Design'"
   ]
  },
  {
   "cell_type": "markdown",
   "id": "dd2886b7-bb6c-4c1d-a052-79a771dd1fab",
   "metadata": {},
   "source": [
    "# Merging all the dataframes"
   ]
  },
  {
   "cell_type": "code",
   "execution_count": 8,
   "id": "29128137-25c5-4b43-a2c8-af4122fc970d",
   "metadata": {},
   "outputs": [],
   "source": [
    "# Concatenating the dataframes along axis=0\n",
    "df = pd.concat([dsa_df,sd_df],axis=0)\n",
    "\n",
    "# Shuffling the dataframe\n",
    "df = df.sample(frac=1, random_state=42)\n",
    "\n",
    "# Resetting the index\n",
    "df.reset_index(drop=True,inplace=True)"
   ]
  },
  {
   "cell_type": "code",
   "execution_count": 9,
   "id": "843d83bd-9190-4c73-a802-142bf1d07f2b",
   "metadata": {},
   "outputs": [
    {
     "data": {
      "text/html": [
       "<div>\n",
       "<style scoped>\n",
       "    .dataframe tbody tr th:only-of-type {\n",
       "        vertical-align: middle;\n",
       "    }\n",
       "\n",
       "    .dataframe tbody tr th {\n",
       "        vertical-align: top;\n",
       "    }\n",
       "\n",
       "    .dataframe thead th {\n",
       "        text-align: right;\n",
       "    }\n",
       "</style>\n",
       "<table border=\"1\" class=\"dataframe\">\n",
       "  <thead>\n",
       "    <tr style=\"text-align: right;\">\n",
       "      <th></th>\n",
       "      <th>Que</th>\n",
       "      <th>Category</th>\n",
       "    </tr>\n",
       "  </thead>\n",
       "  <tbody>\n",
       "    <tr>\n",
       "      <th>0</th>\n",
       "      <td>Define the term \"suffix array\" in string algor...</td>\n",
       "      <td>DSA</td>\n",
       "    </tr>\n",
       "    <tr>\n",
       "      <th>1</th>\n",
       "      <td>Design a system for managing and serving pet-r...</td>\n",
       "      <td>System_Design</td>\n",
       "    </tr>\n",
       "    <tr>\n",
       "      <th>2</th>\n",
       "      <td>How would you design a system for handling rea...</td>\n",
       "      <td>System_Design</td>\n",
       "    </tr>\n",
       "    <tr>\n",
       "      <th>3</th>\n",
       "      <td>Explain the concept of a graph isomorphism.</td>\n",
       "      <td>DSA</td>\n",
       "    </tr>\n",
       "    <tr>\n",
       "      <th>4</th>\n",
       "      <td>Differentiate between a fusion tree and a van ...</td>\n",
       "      <td>DSA</td>\n",
       "    </tr>\n",
       "    <tr>\n",
       "      <th>...</th>\n",
       "      <td>...</td>\n",
       "      <td>...</td>\n",
       "    </tr>\n",
       "    <tr>\n",
       "      <th>595</th>\n",
       "      <td>Differentiate between a Fibonacci sequence and...</td>\n",
       "      <td>DSA</td>\n",
       "    </tr>\n",
       "    <tr>\n",
       "      <th>596</th>\n",
       "      <td>Define the term \"bitonic sequence.\"</td>\n",
       "      <td>DSA</td>\n",
       "    </tr>\n",
       "    <tr>\n",
       "      <th>597</th>\n",
       "      <td>What is the significance of a double-ended hea...</td>\n",
       "      <td>DSA</td>\n",
       "    </tr>\n",
       "    <tr>\n",
       "      <th>598</th>\n",
       "      <td>How would you design a system for handling rea...</td>\n",
       "      <td>System_Design</td>\n",
       "    </tr>\n",
       "    <tr>\n",
       "      <th>599</th>\n",
       "      <td>Define the term \"parallel algorithms\" in the c...</td>\n",
       "      <td>DSA</td>\n",
       "    </tr>\n",
       "  </tbody>\n",
       "</table>\n",
       "<p>600 rows × 2 columns</p>\n",
       "</div>"
      ],
      "text/plain": [
       "                                                   Que       Category\n",
       "0    Define the term \"suffix array\" in string algor...            DSA\n",
       "1    Design a system for managing and serving pet-r...  System_Design\n",
       "2    How would you design a system for handling rea...  System_Design\n",
       "3          Explain the concept of a graph isomorphism.            DSA\n",
       "4    Differentiate between a fusion tree and a van ...            DSA\n",
       "..                                                 ...            ...\n",
       "595  Differentiate between a Fibonacci sequence and...            DSA\n",
       "596                Define the term \"bitonic sequence.\"            DSA\n",
       "597  What is the significance of a double-ended hea...            DSA\n",
       "598  How would you design a system for handling rea...  System_Design\n",
       "599  Define the term \"parallel algorithms\" in the c...            DSA\n",
       "\n",
       "[600 rows x 2 columns]"
      ]
     },
     "execution_count": 9,
     "metadata": {},
     "output_type": "execute_result"
    }
   ],
   "source": [
    "df"
   ]
  },
  {
   "cell_type": "code",
   "execution_count": null,
   "id": "a4da135c-92e5-4274-92d7-546e61b6510f",
   "metadata": {},
   "outputs": [],
   "source": []
  }
 ],
 "metadata": {
  "kernelspec": {
   "display_name": "Python 3 (ipykernel)",
   "language": "python",
   "name": "python3"
  },
  "language_info": {
   "codemirror_mode": {
    "name": "ipython",
    "version": 3
   },
   "file_extension": ".py",
   "mimetype": "text/x-python",
   "name": "python",
   "nbconvert_exporter": "python",
   "pygments_lexer": "ipython3",
   "version": "3.11.4"
  }
 },
 "nbformat": 4,
 "nbformat_minor": 5
}
