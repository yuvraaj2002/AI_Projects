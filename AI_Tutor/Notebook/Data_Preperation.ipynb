{
 "cells": [
  {
   "cell_type": "markdown",
   "id": "284ba83d-b0dc-4f6e-b49c-56b9d6c0de6b",
   "metadata": {},
   "source": [
    "# Importing the dependencies"
   ]
  },
  {
   "cell_type": "code",
   "execution_count": 1,
   "id": "a5aaaf25-374f-4be2-a85d-e53fa85d35ed",
   "metadata": {},
   "outputs": [],
   "source": [
    "import pandas as pd\n",
    "import pickle"
   ]
  },
  {
   "cell_type": "markdown",
   "id": "4d5b34c6-5f85-46b4-b443-b3ea3fcfb4b6",
   "metadata": {},
   "source": [
    "# Extracing DSA questions"
   ]
  },
  {
   "cell_type": "code",
   "execution_count": 2,
   "id": "21577824-44eb-4ca5-883d-d7a79bdd9798",
   "metadata": {},
   "outputs": [],
   "source": [
    "# Defining the path and the empty list\n",
    "file_path = '../Dataset/DSA_que.txt'\n",
    "dsa_que_ls = []\n",
    "\n",
    "try:\n",
    "    with open(file_path, 'r') as file:\n",
    "        lines = file.readlines()\n",
    "        for line in lines:\n",
    "\n",
    "            # Removing the leading or trailing whitespaces\n",
    "            line = line.strip()\n",
    "\n",
    "            # Saving the line in the que list\n",
    "            dsa_que_ls.append(line)\n",
    "\n",
    "except FileNotFoundError:\n",
    "    print(f\"The file {file_path} was not found.\")\n",
    "except Exception as e:\n",
    "    print(f\"An error occurred: {e}\")"
   ]
  },
  {
   "cell_type": "code",
   "execution_count": 3,
   "id": "51e6a789-8075-41eb-ba57-c72089e93b8e",
   "metadata": {},
   "outputs": [],
   "source": [
    "dsa_que_sr = pd.Series(dsa_que_ls)\n",
    "dsa_df = pd.DataFrame({'Que': dsa_que_sr})\n",
    "\n",
    "# Adding a feature 'Category'\n",
    "dsa_df['Category'] = 'DSA'"
   ]
  },
  {
   "cell_type": "markdown",
   "id": "276ac151-cf10-428e-961e-b2c103ee7032",
   "metadata": {},
   "source": [
    "# Extracing System design questions"
   ]
  },
  {
   "cell_type": "code",
   "execution_count": 4,
   "id": "1e55b3c7-cca9-4e97-ac1f-066860f9f7a3",
   "metadata": {},
   "outputs": [],
   "source": [
    "# Defining the path and the empty list\n",
    "file_path = '../Dataset/System_Design_que.txt'\n",
    "sd_que_ls = []\n",
    "\n",
    "try:\n",
    "    with open(file_path, 'r') as file:\n",
    "        lines = file.readlines()\n",
    "        for line in lines:\n",
    "\n",
    "            # Removing the leading or trailing whitespaces\n",
    "            line = line.strip()\n",
    "\n",
    "            # Saving the line in the que list\n",
    "            sd_que_ls.append(line)\n",
    "\n",
    "except FileNotFoundError:\n",
    "    print(f\"The file {file_path} was not found.\")\n",
    "except Exception as e:\n",
    "    print(f\"An error occurred: {e}\")"
   ]
  },
  {
   "cell_type": "code",
   "execution_count": 5,
   "id": "d0ef69ac-7106-464c-bc0f-1d53cc68ef09",
   "metadata": {},
   "outputs": [],
   "source": [
    "sd_que_sr = pd.Series(sd_que_ls)\n",
    "sd_df = pd.DataFrame({'Que': sd_que_sr})\n",
    "\n",
    "# Adding a feature 'Category'\n",
    "sd_df['Category'] = 'System_Design'"
   ]
  },
  {
   "cell_type": "markdown",
   "id": "f4188cfb-ea3e-4c4c-93e2-80dbef9bb6b7",
   "metadata": {},
   "source": [
    "# Behavioural questions"
   ]
  },
  {
   "cell_type": "code",
   "execution_count": 6,
   "id": "b853e961-1f9d-49f5-bfdf-c6f7876cdefb",
   "metadata": {},
   "outputs": [],
   "source": [
    "# Defining the path and the empty list\n",
    "file_path = '../Dataset/Behavioural_que.txt'\n",
    "behav_que_ls = []\n",
    "\n",
    "try:\n",
    "    with open(file_path, 'r') as file:\n",
    "        lines = file.readlines()\n",
    "        for line in lines:\n",
    "\n",
    "            # Removing the leading or trailing whitespaces\n",
    "            line = line.strip()\n",
    "\n",
    "            # Saving the line in the que list\n",
    "            behav_que_ls.append(line)\n",
    "\n",
    "except FileNotFoundError:\n",
    "    print(f\"The file {file_path} was not found.\")\n",
    "except Exception as e:\n",
    "    print(f\"An error occurred: {e}\")"
   ]
  },
  {
   "cell_type": "code",
   "execution_count": 7,
   "id": "748f1ebf-f79b-4a6d-9f3c-22abdf3c705e",
   "metadata": {},
   "outputs": [],
   "source": [
    "behav_que_sr = pd.Series(behav_que_ls)\n",
    "behav_df = pd.DataFrame({'Que': behav_que_sr})\n",
    "\n",
    "# Adding a feature 'Category'\n",
    "behav_df['Category'] = 'Behavioural_que'"
   ]
  },
  {
   "cell_type": "markdown",
   "id": "4ce27e7b-e5d2-4511-836a-9a8563bdefe2",
   "metadata": {},
   "source": [
    "# Computer science fundamentals"
   ]
  },
  {
   "cell_type": "code",
   "execution_count": 8,
   "id": "135ca4ce-fb89-4501-a73c-e3e1b04e310c",
   "metadata": {},
   "outputs": [],
   "source": [
    "# Defining the path and the empty list\n",
    "file_path = '../Dataset/CS_fundamentals.txt'\n",
    "cs_que_ls = []\n",
    "\n",
    "try:\n",
    "    with open(file_path, 'r') as file:\n",
    "        lines = file.readlines()\n",
    "        for line in lines:\n",
    "\n",
    "            # Removing the leading or trailing whitespaces\n",
    "            line = line.strip()\n",
    "\n",
    "            # Saving the line in the que list\n",
    "            cs_que_ls.append(line)\n",
    "\n",
    "except FileNotFoundError:\n",
    "    print(f\"The file {file_path} was not found.\")\n",
    "except Exception as e:\n",
    "    print(f\"An error occurred: {e}\")"
   ]
  },
  {
   "cell_type": "code",
   "execution_count": 9,
   "id": "1e2952ad-1cca-48ed-a731-1b93df0641a3",
   "metadata": {},
   "outputs": [],
   "source": [
    "cs_que_sr = pd.Series(cs_que_ls)\n",
    "cs_df = pd.DataFrame({'Que': cs_que_sr})\n",
    "\n",
    "# Adding a feature 'Category'\n",
    "cs_df['Category'] = 'ComputerSci_que'"
   ]
  },
  {
   "cell_type": "markdown",
   "id": "8f9534c6-3101-4ed4-8f07-18fae7392156",
   "metadata": {},
   "source": [
    "# AI questions"
   ]
  },
  {
   "cell_type": "code",
   "execution_count": 10,
   "id": "0d97a09c-0b09-4a35-a9e1-72dbe177f831",
   "metadata": {},
   "outputs": [],
   "source": [
    "# Defining the path and the empty list\n",
    "file_path = '../Dataset/AI_que.txt'\n",
    "ai_que_ls = []\n",
    "\n",
    "try:\n",
    "    with open(file_path, 'r') as file:\n",
    "        lines = file.readlines()\n",
    "        for line in lines:\n",
    "\n",
    "            # Removing the leading or trailing whitespaces\n",
    "            line = line.strip()\n",
    "\n",
    "            # Saving the line in the que list\n",
    "            ai_que_ls.append(line)\n",
    "\n",
    "except FileNotFoundError:\n",
    "    print(f\"The file {file_path} was not found.\")\n",
    "except Exception as e:\n",
    "    print(f\"An error occurred: {e}\")"
   ]
  },
  {
   "cell_type": "code",
   "execution_count": 11,
   "id": "fe2484c4-7434-43dc-8310-b2a24192e402",
   "metadata": {},
   "outputs": [],
   "source": [
    "ai_que_sr = pd.Series(ai_que_ls)\n",
    "ai_df = pd.DataFrame({'Que': ai_que_sr})\n",
    "\n",
    "# Adding a feature 'Category'\n",
    "ai_df['Category'] = 'AI_que'"
   ]
  },
  {
   "cell_type": "markdown",
   "id": "dd2886b7-bb6c-4c1d-a052-79a771dd1fab",
   "metadata": {},
   "source": [
    "# Merging all the dataframes"
   ]
  },
  {
   "cell_type": "code",
   "execution_count": 12,
   "id": "29128137-25c5-4b43-a2c8-af4122fc970d",
   "metadata": {},
   "outputs": [],
   "source": [
    "# Concatenating the dataframes along axis=0\n",
    "df = pd.concat([dsa_df,sd_df,behav_df,cs_df,ai_df],axis=0)\n",
    "\n",
    "# Shuffling the dataframe\n",
    "df = df.sample(frac=1, random_state=42)\n",
    "\n",
    "# Resetting the index\n",
    "df.reset_index(drop=True,inplace=True)"
   ]
  },
  {
   "cell_type": "code",
   "execution_count": 13,
   "id": "843d83bd-9190-4c73-a802-142bf1d07f2b",
   "metadata": {},
   "outputs": [
    {
     "data": {
      "text/plain": [
       "Category\n",
       "AI_que             400\n",
       "ComputerSci_que    350\n",
       "System_Design      300\n",
       "DSA                300\n",
       "Behavioural_que    300\n",
       "Name: count, dtype: int64"
      ]
     },
     "execution_count": 13,
     "metadata": {},
     "output_type": "execute_result"
    }
   ],
   "source": [
    "df['Category'].value_counts()"
   ]
  },
  {
   "cell_type": "code",
   "execution_count": 14,
   "id": "a4da135c-92e5-4274-92d7-546e61b6510f",
   "metadata": {},
   "outputs": [
    {
     "data": {
      "text/plain": [
       "(1650, 2)"
      ]
     },
     "execution_count": 14,
     "metadata": {},
     "output_type": "execute_result"
    }
   ],
   "source": [
    "df.shape"
   ]
  },
  {
   "cell_type": "code",
   "execution_count": null,
   "id": "45bbf029-4ab8-4e9d-9220-cd7636f9ad16",
   "metadata": {},
   "outputs": [],
   "source": []
  }
 ],
 "metadata": {
  "kernelspec": {
   "display_name": "Python 3 (ipykernel)",
   "language": "python",
   "name": "python3"
  },
  "language_info": {
   "codemirror_mode": {
    "name": "ipython",
    "version": 3
   },
   "file_extension": ".py",
   "mimetype": "text/x-python",
   "name": "python",
   "nbconvert_exporter": "python",
   "pygments_lexer": "ipython3",
   "version": "3.11.4"
  }
 },
 "nbformat": 4,
 "nbformat_minor": 5
}
