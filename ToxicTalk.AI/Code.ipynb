{
 "cells": [
  {
   "cell_type": "markdown",
   "id": "2dcfd2d6",
   "metadata": {
    "papermill": {
     "duration": 0.010596,
     "end_time": "2023-11-18T16:02:05.167843",
     "exception": false,
     "start_time": "2023-11-18T16:02:05.157247",
     "status": "completed"
    },
    "tags": []
   },
   "source": [
    "# Importing the dependencies"
   ]
  },
  {
   "cell_type": "code",
   "execution_count": 1,
   "id": "64009d76",
   "metadata": {
    "execution": {
     "iopub.execute_input": "2023-11-18T16:02:05.188561Z",
     "iopub.status.busy": "2023-11-18T16:02:05.188224Z",
     "iopub.status.idle": "2023-11-18T16:02:23.016621Z",
     "shell.execute_reply": "2023-11-18T16:02:23.015450Z"
    },
    "id": "dhLP4fZj-cuo",
    "outputId": "1d27a706-ec36-4c2f-90ed-f55c02394e74",
    "papermill": {
     "duration": 17.841069,
     "end_time": "2023-11-18T16:02:23.018928",
     "exception": false,
     "start_time": "2023-11-18T16:02:05.177859",
     "status": "completed"
    },
    "tags": []
   },
   "outputs": [
    {
     "name": "stderr",
     "output_type": "stream",
     "text": [
      "/opt/conda/lib/python3.10/site-packages/scipy/__init__.py:146: UserWarning: A NumPy version >=1.16.5 and <1.23.0 is required for this version of SciPy (detected version 1.24.3\n",
      "  warnings.warn(f\"A NumPy version >={np_minversion} and <{np_maxversion}\"\n"
     ]
    },
    {
     "name": "stdout",
     "output_type": "stream",
     "text": [
      "Everything imported succesfully\n"
     ]
    }
   ],
   "source": [
    "import numpy as np\n",
    "import pandas as pd\n",
    "import tensorflow_hub as hub\n",
    "import plotly.express as px\n",
    "from sklearn.model_selection import train_test_split\n",
    "import tensorflow as tf\n",
    "import tensorflow_datasets as tfds\n",
    "from tensorflow import keras\n",
    "from keras.models import Sequential\n",
    "from keras.layers import Bidirectional,LSTM,Dense,Dropout,SpatialDropout1D,GRU\n",
    "from keras.utils import plot_model\n",
    "from keras.callbacks import EarlyStopping\n",
    "import matplotlib.pyplot as plt\n",
    "from sklearn.metrics import accuracy_score, precision_score, recall_score, f1_score\n",
    "import warnings\n",
    "warnings.filterwarnings('ignore', category=FutureWarning)\n",
    "\n",
    "print(\"Everything imported succesfully\")"
   ]
  },
  {
   "cell_type": "code",
   "execution_count": 2,
   "id": "8bf60c8c",
   "metadata": {
    "execution": {
     "iopub.execute_input": "2023-11-18T16:02:23.041700Z",
     "iopub.status.busy": "2023-11-18T16:02:23.041064Z",
     "iopub.status.idle": "2023-11-18T16:02:23.046690Z",
     "shell.execute_reply": "2023-11-18T16:02:23.045790Z"
    },
    "papermill": {
     "duration": 0.019034,
     "end_time": "2023-11-18T16:02:23.048823",
     "exception": false,
     "start_time": "2023-11-18T16:02:23.029789",
     "status": "completed"
    },
    "tags": []
   },
   "outputs": [],
   "source": [
    "# Function for visualizing the results\n",
    "def plot_graphs(history, metric):\n",
    "  plt.plot(history.history[metric])\n",
    "  plt.plot(history.history['val_'+metric], '')\n",
    "  plt.xlabel(\"Epochs\")\n",
    "  plt.ylabel(metric)\n",
    "  plt.legend([metric, 'val_'+metric])"
   ]
  },
  {
   "cell_type": "markdown",
   "id": "717bda25",
   "metadata": {
    "id": "2rb-jzb8_wRu",
    "papermill": {
     "duration": 0.010196,
     "end_time": "2023-11-18T16:02:23.068923",
     "exception": false,
     "start_time": "2023-11-18T16:02:23.058727",
     "status": "completed"
    },
    "tags": []
   },
   "source": [
    "### Dataset description\n",
    "An existential problem for any major website today is how to handle toxic and divisive content. Quora wants to tackle this problem head-on to keep their platform a place where users can feel safe sharing their knowledge with the world.\n",
    "\n",
    "Quora is a platform that empowers people to learn from each other. On Quora, people can ask questions and connect with others who contribute unique insights and quality answers. A key challenge is to weed out insincere questions -- those founded upon false premises, or that intend to make a statement rather than look for helpful answers.An insincere question is defined as a question intended to make a statement rather than look for helpful answers. Some characteristics that can signify that a question is insincere:\n",
    "\n",
    "\n",
    "\n",
    "*   Has a non-neutral tone\n",
    "*   Has an exaggerated tone to underscore a point about a group of people\n",
    "*   Is rhetorical and meant to imply a statement about a group of people\n",
    "*   Is disparaging or inflammatory\n",
    "*   Suggests a discriminatory idea against a protected class of people, or seeks confirmation of a stereotype\n",
    "*   Makes disparaging attacks/insults against a specific person or group of people\n",
    "Based on an outlandish premise about a group of people\n",
    "*   Disparages against a characteristic that is not fixable and not measurable\n",
    "*   Isn't grounded in reality\n",
    "*   Based on false information, or contains absurd assumptions\n",
    "*   Uses sexual content (incest, bestiality, pedophilia) for shock value, and not to seek genuine answers\n",
    "\n",
    "The training data includes the question that was asked, and whether it was identified as insincere `(target = 1)`. The ground-truth labels contain some amount of noise: they are not guaranteed to be perfect."
   ]
  },
  {
   "cell_type": "code",
   "execution_count": 3,
   "id": "6b687555",
   "metadata": {
    "execution": {
     "iopub.execute_input": "2023-11-18T16:02:23.095277Z",
     "iopub.status.busy": "2023-11-18T16:02:23.094965Z",
     "iopub.status.idle": "2023-11-18T16:02:27.779783Z",
     "shell.execute_reply": "2023-11-18T16:02:27.778661Z"
    },
    "id": "iNlvvhBO--t-",
    "papermill": {
     "duration": 4.697933,
     "end_time": "2023-11-18T16:02:27.782124",
     "exception": false,
     "start_time": "2023-11-18T16:02:23.084191",
     "status": "completed"
    },
    "tags": []
   },
   "outputs": [],
   "source": [
    "# Loading the data from the csv file into the dataframe\n",
    "df = pd.read_csv('https://archive.org/download/fine-tune-bert-tensorflow-train.csv/train.csv.zip',compression = 'zip', low_memory = False)"
   ]
  },
  {
   "cell_type": "markdown",
   "id": "9e5cf0fb",
   "metadata": {
    "id": "DKIgNa7-ZU8e",
    "papermill": {
     "duration": 0.010412,
     "end_time": "2023-11-18T16:02:27.802862",
     "exception": false,
     "start_time": "2023-11-18T16:02:27.792450",
     "status": "completed"
    },
    "tags": []
   },
   "source": [
    "# Exploratory data analysis"
   ]
  },
  {
   "cell_type": "code",
   "execution_count": 4,
   "id": "85700ba1",
   "metadata": {
    "execution": {
     "iopub.execute_input": "2023-11-18T16:02:27.824897Z",
     "iopub.status.busy": "2023-11-18T16:02:27.824553Z",
     "iopub.status.idle": "2023-11-18T16:02:27.829935Z",
     "shell.execute_reply": "2023-11-18T16:02:27.828958Z"
    },
    "id": "gj4riaRa_2fl",
    "outputId": "d6d17a31-ae7b-4193-8bb5-08bdd548d2de",
    "papermill": {
     "duration": 0.019444,
     "end_time": "2023-11-18T16:02:27.832368",
     "exception": false,
     "start_time": "2023-11-18T16:02:27.812924",
     "status": "completed"
    },
    "tags": []
   },
   "outputs": [
    {
     "name": "stdout",
     "output_type": "stream",
     "text": [
      "Shape of the dataframe : (1306122, 3)\n"
     ]
    }
   ],
   "source": [
    "print(\"Shape of the dataframe :\",df.shape )"
   ]
  },
  {
   "cell_type": "code",
   "execution_count": 5,
   "id": "c02c3508",
   "metadata": {
    "execution": {
     "iopub.execute_input": "2023-11-18T16:02:27.855801Z",
     "iopub.status.busy": "2023-11-18T16:02:27.855509Z",
     "iopub.status.idle": "2023-11-18T16:02:27.916124Z",
     "shell.execute_reply": "2023-11-18T16:02:27.915159Z"
    },
    "id": "yZhrxvhCAh_s",
    "outputId": "e9ef8314-f646-49b5-b2cf-96001e355736",
    "papermill": {
     "duration": 0.075619,
     "end_time": "2023-11-18T16:02:27.918410",
     "exception": false,
     "start_time": "2023-11-18T16:02:27.842791",
     "status": "completed"
    },
    "tags": []
   },
   "outputs": [
    {
     "data": {
      "text/html": [
       "<div>\n",
       "<style scoped>\n",
       "    .dataframe tbody tr th:only-of-type {\n",
       "        vertical-align: middle;\n",
       "    }\n",
       "\n",
       "    .dataframe tbody tr th {\n",
       "        vertical-align: top;\n",
       "    }\n",
       "\n",
       "    .dataframe thead th {\n",
       "        text-align: right;\n",
       "    }\n",
       "</style>\n",
       "<table border=\"1\" class=\"dataframe\">\n",
       "  <thead>\n",
       "    <tr style=\"text-align: right;\">\n",
       "      <th></th>\n",
       "      <th>qid</th>\n",
       "      <th>question_text</th>\n",
       "      <th>target</th>\n",
       "    </tr>\n",
       "  </thead>\n",
       "  <tbody>\n",
       "    <tr>\n",
       "      <th>650272</th>\n",
       "      <td>7f5cd60c11a2ea7e6588</td>\n",
       "      <td>When will we get the offical release letter on...</td>\n",
       "      <td>0</td>\n",
       "    </tr>\n",
       "    <tr>\n",
       "      <th>1202023</th>\n",
       "      <td>eb94501b3f0b499ea0a1</td>\n",
       "      <td>What is adjo.com?</td>\n",
       "      <td>0</td>\n",
       "    </tr>\n",
       "    <tr>\n",
       "      <th>255780</th>\n",
       "      <td>321027cd23d951ceb729</td>\n",
       "      <td>How do I find electronic schematics for actual...</td>\n",
       "      <td>0</td>\n",
       "    </tr>\n",
       "    <tr>\n",
       "      <th>872766</th>\n",
       "      <td>aaff3de2fcd5e78bc88e</td>\n",
       "      <td>What are the various scopes of Verilog and FPG...</td>\n",
       "      <td>0</td>\n",
       "    </tr>\n",
       "    <tr>\n",
       "      <th>212956</th>\n",
       "      <td>29a6ac5c5ddbefb2688d</td>\n",
       "      <td>What are the biggest problems Kolkata faces to...</td>\n",
       "      <td>0</td>\n",
       "    </tr>\n",
       "  </tbody>\n",
       "</table>\n",
       "</div>"
      ],
      "text/plain": [
       "                          qid  \\\n",
       "650272   7f5cd60c11a2ea7e6588   \n",
       "1202023  eb94501b3f0b499ea0a1   \n",
       "255780   321027cd23d951ceb729   \n",
       "872766   aaff3de2fcd5e78bc88e   \n",
       "212956   29a6ac5c5ddbefb2688d   \n",
       "\n",
       "                                             question_text  target  \n",
       "650272   When will we get the offical release letter on...       0  \n",
       "1202023                                  What is adjo.com?       0  \n",
       "255780   How do I find electronic schematics for actual...       0  \n",
       "872766   What are the various scopes of Verilog and FPG...       0  \n",
       "212956   What are the biggest problems Kolkata faces to...       0  "
      ]
     },
     "execution_count": 5,
     "metadata": {},
     "output_type": "execute_result"
    }
   ],
   "source": [
    "# Let's see some 5 random rows of the dataframe\n",
    "df.sample(5)"
   ]
  },
  {
   "cell_type": "markdown",
   "id": "38a4e0a0",
   "metadata": {
    "id": "uqxulNdWAn14",
    "papermill": {
     "duration": 0.011304,
     "end_time": "2023-11-18T16:02:27.941206",
     "exception": false,
     "start_time": "2023-11-18T16:02:27.929902",
     "status": "completed"
    },
    "tags": []
   },
   "source": [
    "Since the feature `qid` will not be useful for identifical of the insencere discussion, thus we will remove this feature from the dataframe."
   ]
  },
  {
   "cell_type": "code",
   "execution_count": 6,
   "id": "bcaa3f27",
   "metadata": {
    "execution": {
     "iopub.execute_input": "2023-11-18T16:02:27.965113Z",
     "iopub.status.busy": "2023-11-18T16:02:27.964810Z",
     "iopub.status.idle": "2023-11-18T16:02:28.050578Z",
     "shell.execute_reply": "2023-11-18T16:02:28.049742Z"
    },
    "id": "zHtp9seRAlKQ",
    "papermill": {
     "duration": 0.100427,
     "end_time": "2023-11-18T16:02:28.052936",
     "exception": false,
     "start_time": "2023-11-18T16:02:27.952509",
     "status": "completed"
    },
    "tags": []
   },
   "outputs": [],
   "source": [
    "# Removing the feature from the dataframe\n",
    "df.drop(['qid'],axis=1,inplace=True)"
   ]
  },
  {
   "cell_type": "code",
   "execution_count": 7,
   "id": "1186ce8d",
   "metadata": {
    "execution": {
     "iopub.execute_input": "2023-11-18T16:02:28.076797Z",
     "iopub.status.busy": "2023-11-18T16:02:28.076469Z",
     "iopub.status.idle": "2023-11-18T16:02:29.669090Z",
     "shell.execute_reply": "2023-11-18T16:02:29.668227Z"
    },
    "id": "DRI_sFZlA0Me",
    "outputId": "d18d7d34-03ee-4855-bf4c-49adb59e8720",
    "papermill": {
     "duration": 1.606656,
     "end_time": "2023-11-18T16:02:29.671106",
     "exception": false,
     "start_time": "2023-11-18T16:02:28.064450",
     "status": "completed"
    },
    "tags": []
   },
   "outputs": [
    {
     "data": {
      "text/html": [
       "        <script type=\"text/javascript\">\n",
       "        window.PlotlyConfig = {MathJaxConfig: 'local'};\n",
       "        if (window.MathJax && window.MathJax.Hub && window.MathJax.Hub.Config) {window.MathJax.Hub.Config({SVG: {font: \"STIX-Web\"}});}\n",
       "        if (typeof require !== 'undefined') {\n",
       "        require.undef(\"plotly\");\n",
       "        requirejs.config({\n",
       "            paths: {\n",
       "                'plotly': ['https://cdn.plot.ly/plotly-2.25.2.min']\n",
       "            }\n",
       "        });\n",
       "        require(['plotly'], function(Plotly) {\n",
       "            window._Plotly = Plotly;\n",
       "        });\n",
       "        }\n",
       "        </script>\n",
       "        "
      ]
     },
     "metadata": {},
     "output_type": "display_data"
    },
    {
     "data": {
      "text/html": [
       "<div>                            <div id=\"6f5175e5-1035-435b-89bf-0d9efaebf77e\" class=\"plotly-graph-div\" style=\"height:400px; width:500px;\"></div>            <script type=\"text/javascript\">                require([\"plotly\"], function(Plotly) {                    window.PLOTLYENV=window.PLOTLYENV || {};                                    if (document.getElementById(\"6f5175e5-1035-435b-89bf-0d9efaebf77e\")) {                    Plotly.newPlot(                        \"6f5175e5-1035-435b-89bf-0d9efaebf77e\",                        [{\"domain\":{\"x\":[0.0,1.0],\"y\":[0.0,1.0]},\"hovertemplate\":\"label=%{label}\\u003cbr\\u003evalue=%{value}\\u003cextra\\u003e\\u003c\\u002fextra\\u003e\",\"labels\":[\"Sincere\",\"Insencere\"],\"legendgroup\":\"\",\"name\":\"\",\"showlegend\":true,\"values\":[1225312,80810],\"type\":\"pie\"}],                        {\"template\":{\"data\":{\"histogram2dcontour\":[{\"type\":\"histogram2dcontour\",\"colorbar\":{\"outlinewidth\":0,\"ticks\":\"\"},\"colorscale\":[[0.0,\"#0d0887\"],[0.1111111111111111,\"#46039f\"],[0.2222222222222222,\"#7201a8\"],[0.3333333333333333,\"#9c179e\"],[0.4444444444444444,\"#bd3786\"],[0.5555555555555556,\"#d8576b\"],[0.6666666666666666,\"#ed7953\"],[0.7777777777777778,\"#fb9f3a\"],[0.8888888888888888,\"#fdca26\"],[1.0,\"#f0f921\"]]}],\"choropleth\":[{\"type\":\"choropleth\",\"colorbar\":{\"outlinewidth\":0,\"ticks\":\"\"}}],\"histogram2d\":[{\"type\":\"histogram2d\",\"colorbar\":{\"outlinewidth\":0,\"ticks\":\"\"},\"colorscale\":[[0.0,\"#0d0887\"],[0.1111111111111111,\"#46039f\"],[0.2222222222222222,\"#7201a8\"],[0.3333333333333333,\"#9c179e\"],[0.4444444444444444,\"#bd3786\"],[0.5555555555555556,\"#d8576b\"],[0.6666666666666666,\"#ed7953\"],[0.7777777777777778,\"#fb9f3a\"],[0.8888888888888888,\"#fdca26\"],[1.0,\"#f0f921\"]]}],\"heatmap\":[{\"type\":\"heatmap\",\"colorbar\":{\"outlinewidth\":0,\"ticks\":\"\"},\"colorscale\":[[0.0,\"#0d0887\"],[0.1111111111111111,\"#46039f\"],[0.2222222222222222,\"#7201a8\"],[0.3333333333333333,\"#9c179e\"],[0.4444444444444444,\"#bd3786\"],[0.5555555555555556,\"#d8576b\"],[0.6666666666666666,\"#ed7953\"],[0.7777777777777778,\"#fb9f3a\"],[0.8888888888888888,\"#fdca26\"],[1.0,\"#f0f921\"]]}],\"heatmapgl\":[{\"type\":\"heatmapgl\",\"colorbar\":{\"outlinewidth\":0,\"ticks\":\"\"},\"colorscale\":[[0.0,\"#0d0887\"],[0.1111111111111111,\"#46039f\"],[0.2222222222222222,\"#7201a8\"],[0.3333333333333333,\"#9c179e\"],[0.4444444444444444,\"#bd3786\"],[0.5555555555555556,\"#d8576b\"],[0.6666666666666666,\"#ed7953\"],[0.7777777777777778,\"#fb9f3a\"],[0.8888888888888888,\"#fdca26\"],[1.0,\"#f0f921\"]]}],\"contourcarpet\":[{\"type\":\"contourcarpet\",\"colorbar\":{\"outlinewidth\":0,\"ticks\":\"\"}}],\"contour\":[{\"type\":\"contour\",\"colorbar\":{\"outlinewidth\":0,\"ticks\":\"\"},\"colorscale\":[[0.0,\"#0d0887\"],[0.1111111111111111,\"#46039f\"],[0.2222222222222222,\"#7201a8\"],[0.3333333333333333,\"#9c179e\"],[0.4444444444444444,\"#bd3786\"],[0.5555555555555556,\"#d8576b\"],[0.6666666666666666,\"#ed7953\"],[0.7777777777777778,\"#fb9f3a\"],[0.8888888888888888,\"#fdca26\"],[1.0,\"#f0f921\"]]}],\"surface\":[{\"type\":\"surface\",\"colorbar\":{\"outlinewidth\":0,\"ticks\":\"\"},\"colorscale\":[[0.0,\"#0d0887\"],[0.1111111111111111,\"#46039f\"],[0.2222222222222222,\"#7201a8\"],[0.3333333333333333,\"#9c179e\"],[0.4444444444444444,\"#bd3786\"],[0.5555555555555556,\"#d8576b\"],[0.6666666666666666,\"#ed7953\"],[0.7777777777777778,\"#fb9f3a\"],[0.8888888888888888,\"#fdca26\"],[1.0,\"#f0f921\"]]}],\"mesh3d\":[{\"type\":\"mesh3d\",\"colorbar\":{\"outlinewidth\":0,\"ticks\":\"\"}}],\"scatter\":[{\"fillpattern\":{\"fillmode\":\"overlay\",\"size\":10,\"solidity\":0.2},\"type\":\"scatter\"}],\"parcoords\":[{\"type\":\"parcoords\",\"line\":{\"colorbar\":{\"outlinewidth\":0,\"ticks\":\"\"}}}],\"scatterpolargl\":[{\"type\":\"scatterpolargl\",\"marker\":{\"colorbar\":{\"outlinewidth\":0,\"ticks\":\"\"}}}],\"bar\":[{\"error_x\":{\"color\":\"#2a3f5f\"},\"error_y\":{\"color\":\"#2a3f5f\"},\"marker\":{\"line\":{\"color\":\"#E5ECF6\",\"width\":0.5},\"pattern\":{\"fillmode\":\"overlay\",\"size\":10,\"solidity\":0.2}},\"type\":\"bar\"}],\"scattergeo\":[{\"type\":\"scattergeo\",\"marker\":{\"colorbar\":{\"outlinewidth\":0,\"ticks\":\"\"}}}],\"scatterpolar\":[{\"type\":\"scatterpolar\",\"marker\":{\"colorbar\":{\"outlinewidth\":0,\"ticks\":\"\"}}}],\"histogram\":[{\"marker\":{\"pattern\":{\"fillmode\":\"overlay\",\"size\":10,\"solidity\":0.2}},\"type\":\"histogram\"}],\"scattergl\":[{\"type\":\"scattergl\",\"marker\":{\"colorbar\":{\"outlinewidth\":0,\"ticks\":\"\"}}}],\"scatter3d\":[{\"type\":\"scatter3d\",\"line\":{\"colorbar\":{\"outlinewidth\":0,\"ticks\":\"\"}},\"marker\":{\"colorbar\":{\"outlinewidth\":0,\"ticks\":\"\"}}}],\"scattermapbox\":[{\"type\":\"scattermapbox\",\"marker\":{\"colorbar\":{\"outlinewidth\":0,\"ticks\":\"\"}}}],\"scatterternary\":[{\"type\":\"scatterternary\",\"marker\":{\"colorbar\":{\"outlinewidth\":0,\"ticks\":\"\"}}}],\"scattercarpet\":[{\"type\":\"scattercarpet\",\"marker\":{\"colorbar\":{\"outlinewidth\":0,\"ticks\":\"\"}}}],\"carpet\":[{\"aaxis\":{\"endlinecolor\":\"#2a3f5f\",\"gridcolor\":\"white\",\"linecolor\":\"white\",\"minorgridcolor\":\"white\",\"startlinecolor\":\"#2a3f5f\"},\"baxis\":{\"endlinecolor\":\"#2a3f5f\",\"gridcolor\":\"white\",\"linecolor\":\"white\",\"minorgridcolor\":\"white\",\"startlinecolor\":\"#2a3f5f\"},\"type\":\"carpet\"}],\"table\":[{\"cells\":{\"fill\":{\"color\":\"#EBF0F8\"},\"line\":{\"color\":\"white\"}},\"header\":{\"fill\":{\"color\":\"#C8D4E3\"},\"line\":{\"color\":\"white\"}},\"type\":\"table\"}],\"barpolar\":[{\"marker\":{\"line\":{\"color\":\"#E5ECF6\",\"width\":0.5},\"pattern\":{\"fillmode\":\"overlay\",\"size\":10,\"solidity\":0.2}},\"type\":\"barpolar\"}],\"pie\":[{\"automargin\":true,\"type\":\"pie\"}]},\"layout\":{\"autotypenumbers\":\"strict\",\"colorway\":[\"#636efa\",\"#EF553B\",\"#00cc96\",\"#ab63fa\",\"#FFA15A\",\"#19d3f3\",\"#FF6692\",\"#B6E880\",\"#FF97FF\",\"#FECB52\"],\"font\":{\"color\":\"#2a3f5f\"},\"hovermode\":\"closest\",\"hoverlabel\":{\"align\":\"left\"},\"paper_bgcolor\":\"white\",\"plot_bgcolor\":\"#E5ECF6\",\"polar\":{\"bgcolor\":\"#E5ECF6\",\"angularaxis\":{\"gridcolor\":\"white\",\"linecolor\":\"white\",\"ticks\":\"\"},\"radialaxis\":{\"gridcolor\":\"white\",\"linecolor\":\"white\",\"ticks\":\"\"}},\"ternary\":{\"bgcolor\":\"#E5ECF6\",\"aaxis\":{\"gridcolor\":\"white\",\"linecolor\":\"white\",\"ticks\":\"\"},\"baxis\":{\"gridcolor\":\"white\",\"linecolor\":\"white\",\"ticks\":\"\"},\"caxis\":{\"gridcolor\":\"white\",\"linecolor\":\"white\",\"ticks\":\"\"}},\"coloraxis\":{\"colorbar\":{\"outlinewidth\":0,\"ticks\":\"\"}},\"colorscale\":{\"sequential\":[[0.0,\"#0d0887\"],[0.1111111111111111,\"#46039f\"],[0.2222222222222222,\"#7201a8\"],[0.3333333333333333,\"#9c179e\"],[0.4444444444444444,\"#bd3786\"],[0.5555555555555556,\"#d8576b\"],[0.6666666666666666,\"#ed7953\"],[0.7777777777777778,\"#fb9f3a\"],[0.8888888888888888,\"#fdca26\"],[1.0,\"#f0f921\"]],\"sequentialminus\":[[0.0,\"#0d0887\"],[0.1111111111111111,\"#46039f\"],[0.2222222222222222,\"#7201a8\"],[0.3333333333333333,\"#9c179e\"],[0.4444444444444444,\"#bd3786\"],[0.5555555555555556,\"#d8576b\"],[0.6666666666666666,\"#ed7953\"],[0.7777777777777778,\"#fb9f3a\"],[0.8888888888888888,\"#fdca26\"],[1.0,\"#f0f921\"]],\"diverging\":[[0,\"#8e0152\"],[0.1,\"#c51b7d\"],[0.2,\"#de77ae\"],[0.3,\"#f1b6da\"],[0.4,\"#fde0ef\"],[0.5,\"#f7f7f7\"],[0.6,\"#e6f5d0\"],[0.7,\"#b8e186\"],[0.8,\"#7fbc41\"],[0.9,\"#4d9221\"],[1,\"#276419\"]]},\"xaxis\":{\"gridcolor\":\"white\",\"linecolor\":\"white\",\"ticks\":\"\",\"title\":{\"standoff\":15},\"zerolinecolor\":\"white\",\"automargin\":true,\"zerolinewidth\":2},\"yaxis\":{\"gridcolor\":\"white\",\"linecolor\":\"white\",\"ticks\":\"\",\"title\":{\"standoff\":15},\"zerolinecolor\":\"white\",\"automargin\":true,\"zerolinewidth\":2},\"scene\":{\"xaxis\":{\"backgroundcolor\":\"#E5ECF6\",\"gridcolor\":\"white\",\"linecolor\":\"white\",\"showbackground\":true,\"ticks\":\"\",\"zerolinecolor\":\"white\",\"gridwidth\":2},\"yaxis\":{\"backgroundcolor\":\"#E5ECF6\",\"gridcolor\":\"white\",\"linecolor\":\"white\",\"showbackground\":true,\"ticks\":\"\",\"zerolinecolor\":\"white\",\"gridwidth\":2},\"zaxis\":{\"backgroundcolor\":\"#E5ECF6\",\"gridcolor\":\"white\",\"linecolor\":\"white\",\"showbackground\":true,\"ticks\":\"\",\"zerolinecolor\":\"white\",\"gridwidth\":2}},\"shapedefaults\":{\"line\":{\"color\":\"#2a3f5f\"}},\"annotationdefaults\":{\"arrowcolor\":\"#2a3f5f\",\"arrowhead\":0,\"arrowwidth\":1},\"geo\":{\"bgcolor\":\"white\",\"landcolor\":\"#E5ECF6\",\"subunitcolor\":\"white\",\"showland\":true,\"showlakes\":true,\"lakecolor\":\"white\"},\"title\":{\"x\":0.05},\"mapbox\":{\"style\":\"light\"}}},\"legend\":{\"tracegroupgap\":0},\"margin\":{\"t\":60},\"height\":400,\"width\":500},                        {\"responsive\": true}                    ).then(function(){\n",
       "                            \n",
       "var gd = document.getElementById('6f5175e5-1035-435b-89bf-0d9efaebf77e');\n",
       "var x = new MutationObserver(function (mutations, observer) {{\n",
       "        var display = window.getComputedStyle(gd).display;\n",
       "        if (!display || display === 'none') {{\n",
       "            console.log([gd, 'removed!']);\n",
       "            Plotly.purge(gd);\n",
       "            observer.disconnect();\n",
       "        }}\n",
       "}});\n",
       "\n",
       "// Listen for the removal of the full notebook cells\n",
       "var notebookContainer = gd.closest('#notebook-container');\n",
       "if (notebookContainer) {{\n",
       "    x.observe(notebookContainer, {childList: true});\n",
       "}}\n",
       "\n",
       "// Listen for the clearing of the current output cell\n",
       "var outputEl = gd.closest('.output');\n",
       "if (outputEl) {{\n",
       "    x.observe(outputEl, {childList: true});\n",
       "}}\n",
       "\n",
       "                        })                };                });            </script>        </div>"
      ]
     },
     "metadata": {},
     "output_type": "display_data"
    }
   ],
   "source": [
    "# Let's plot pie chart to visualize class distribution\n",
    "fig = px.pie(df, values=df['target'].value_counts().values, names=['Sincere','Insencere'],width=500, height=400)\n",
    "fig.show()"
   ]
  },
  {
   "cell_type": "code",
   "execution_count": 8,
   "id": "b3abac70",
   "metadata": {
    "execution": {
     "iopub.execute_input": "2023-11-18T16:02:29.693720Z",
     "iopub.status.busy": "2023-11-18T16:02:29.693376Z",
     "iopub.status.idle": "2023-11-18T16:02:29.699688Z",
     "shell.execute_reply": "2023-11-18T16:02:29.698712Z"
    },
    "papermill": {
     "duration": 0.019794,
     "end_time": "2023-11-18T16:02:29.701663",
     "exception": false,
     "start_time": "2023-11-18T16:02:29.681869",
     "status": "completed"
    },
    "tags": []
   },
   "outputs": [],
   "source": [
    "def create_balanced_df(df,percentage_to_select):\n",
    "    \n",
    "    # Extracting individual dataframes with opposite labels\n",
    "    Toxic_label_df = df[df['target'] == 1]\n",
    "    Sincere_label_df = df[df['target'] == 0]\n",
    "\n",
    "    # Calculating the number of rows to select from sincere dataframe\n",
    "    num_rows_to_select = int(Sincere_label_df.shape[0] * percentage_to_select)\n",
    "\n",
    "    # Use the sample function to randomly select rows\n",
    "    Sincere_label_df = Sincere_label_df.sample(n=num_rows_to_select, random_state=42)\n",
    "    \n",
    "    # Concatenate the DataFrames along axis=0\n",
    "    new_df = pd.concat([Sincere_label_df, Toxic_label_df], axis=0)\n",
    "\n",
    "    # Shuffle the rows in the concatenated DataFrame and reseting the index (frac = 1) means return all rows\n",
    "    new_df = new_df.sample(frac=1).reset_index(drop=True)\n",
    "    return new_df"
   ]
  },
  {
   "cell_type": "code",
   "execution_count": 9,
   "id": "d0ee9fb3",
   "metadata": {
    "execution": {
     "iopub.execute_input": "2023-11-18T16:02:29.723914Z",
     "iopub.status.busy": "2023-11-18T16:02:29.723633Z",
     "iopub.status.idle": "2023-11-18T16:02:29.911115Z",
     "shell.execute_reply": "2023-11-18T16:02:29.910314Z"
    },
    "papermill": {
     "duration": 0.201253,
     "end_time": "2023-11-18T16:02:29.913471",
     "exception": false,
     "start_time": "2023-11-18T16:02:29.712218",
     "status": "completed"
    },
    "tags": []
   },
   "outputs": [],
   "source": [
    "# Calling function to get the dataframe\n",
    "df = create_balanced_df(df,0.067)"
   ]
  },
  {
   "cell_type": "code",
   "execution_count": 10,
   "id": "41e517ce",
   "metadata": {
    "execution": {
     "iopub.execute_input": "2023-11-18T16:02:29.935857Z",
     "iopub.status.busy": "2023-11-18T16:02:29.935526Z",
     "iopub.status.idle": "2023-11-18T16:02:29.941334Z",
     "shell.execute_reply": "2023-11-18T16:02:29.940458Z"
    },
    "papermill": {
     "duration": 0.019355,
     "end_time": "2023-11-18T16:02:29.943351",
     "exception": false,
     "start_time": "2023-11-18T16:02:29.923996",
     "status": "completed"
    },
    "tags": []
   },
   "outputs": [
    {
     "data": {
      "text/plain": [
       "(162905, 2)"
      ]
     },
     "execution_count": 10,
     "metadata": {},
     "output_type": "execute_result"
    }
   ],
   "source": [
    "df.shape"
   ]
  },
  {
   "cell_type": "markdown",
   "id": "64892a64",
   "metadata": {
    "id": "m9J6G8U-5-a3",
    "papermill": {
     "duration": 0.009878,
     "end_time": "2023-11-18T16:02:29.963429",
     "exception": false,
     "start_time": "2023-11-18T16:02:29.953551",
     "status": "completed"
    },
    "tags": []
   },
   "source": [
    "# Train test split and creating tensorflow input pipline for data loading and processing\n",
    "Since we can clearly see that there is a high imbalance in our dataset, so deal with this we will take sample from this data in such a way that the class distribution is well balanced."
   ]
  },
  {
   "cell_type": "code",
   "execution_count": 11,
   "id": "156c570c",
   "metadata": {
    "execution": {
     "iopub.execute_input": "2023-11-18T16:02:29.985356Z",
     "iopub.status.busy": "2023-11-18T16:02:29.985075Z",
     "iopub.status.idle": "2023-11-18T16:02:30.082048Z",
     "shell.execute_reply": "2023-11-18T16:02:30.080925Z"
    },
    "id": "yg1un-T-BI_J",
    "outputId": "26b93d99-048c-4ae9-8eeb-6c57299914b1",
    "papermill": {
     "duration": 0.110421,
     "end_time": "2023-11-18T16:02:30.084153",
     "exception": false,
     "start_time": "2023-11-18T16:02:29.973732",
     "status": "completed"
    },
    "tags": []
   },
   "outputs": [
    {
     "name": "stdout",
     "output_type": "stream",
     "text": [
      "(130324, 2) (16291, 2) (16290, 2)\n"
     ]
    }
   ],
   "source": [
    "# Let's do train test and validation split {80:10:10}\n",
    "train_df, remaining_df = train_test_split(df,random_state = 1, train_size = 0.8,stratify = df['target'].values)\n",
    "val_df, test_df = train_test_split(remaining_df,random_state = 1, train_size = 0.5,stratify = remaining_df['target'].values)\n",
    "\n",
    "print(train_df.shape, test_df.shape, val_df.shape)"
   ]
  },
  {
   "cell_type": "markdown",
   "id": "b900e163",
   "metadata": {
    "id": "gW9rdDUABmAN",
    "papermill": {
     "duration": 0.010203,
     "end_time": "2023-11-18T16:02:30.106391",
     "exception": false,
     "start_time": "2023-11-18T16:02:30.096188",
     "status": "completed"
    },
    "tags": []
   },
   "source": [
    "Self Note📝: `tf.device` specify the device on which a particular operation or set of operations should be executed."
   ]
  },
  {
   "cell_type": "code",
   "execution_count": 12,
   "id": "337f7a50",
   "metadata": {
    "execution": {
     "iopub.execute_input": "2023-11-18T16:02:30.128125Z",
     "iopub.status.busy": "2023-11-18T16:02:30.127595Z",
     "iopub.status.idle": "2023-11-18T16:02:34.385881Z",
     "shell.execute_reply": "2023-11-18T16:02:34.385101Z"
    },
    "id": "dnmwZQvFgCrN",
    "papermill": {
     "duration": 4.271524,
     "end_time": "2023-11-18T16:02:34.388053",
     "exception": false,
     "start_time": "2023-11-18T16:02:30.116529",
     "status": "completed"
    },
    "tags": []
   },
   "outputs": [],
   "source": [
    "# Let's create tf.data.Dataset for model training\n",
    "train_data = tf.data.Dataset.from_tensor_slices((train_df['question_text'].values, train_df['target'].values))\n",
    "val_data = tf.data.Dataset.from_tensor_slices((val_df['question_text'].values, val_df['target'].values))\n",
    "test_data = tf.data.Dataset.from_tensor_slices((test_df['question_text'].values, test_df['target'].values))\n",
    "\n",
    "# For optimizing the performance of the input pipeline\n",
    "train_data = train_data.shuffle(1000).batch(128, drop_remainder=True).prefetch(tf.data.experimental.AUTOTUNE)\n",
    "val_data = val_data.batch(128, drop_remainder=True).prefetch(tf.data.experimental.AUTOTUNE)\n",
    "test_data = test_data.batch(128, drop_remainder=True).prefetch(tf.data.experimental.AUTOTUNE)"
   ]
  },
  {
   "cell_type": "code",
   "execution_count": 13,
   "id": "08af9d0a",
   "metadata": {
    "execution": {
     "iopub.execute_input": "2023-11-18T16:02:34.410738Z",
     "iopub.status.busy": "2023-11-18T16:02:34.410433Z",
     "iopub.status.idle": "2023-11-18T16:02:34.842119Z",
     "shell.execute_reply": "2023-11-18T16:02:34.840986Z"
    },
    "id": "sAQmi7lEClRI",
    "outputId": "f58a0f6a-32d8-4b22-fc2f-22805828e1b1",
    "papermill": {
     "duration": 0.445898,
     "end_time": "2023-11-18T16:02:34.844813",
     "exception": false,
     "start_time": "2023-11-18T16:02:34.398915",
     "status": "completed"
    },
    "tags": []
   },
   "outputs": [
    {
     "name": "stdout",
     "output_type": "stream",
     "text": [
      "\n",
      "************ Summary ************\n",
      "\n"
     ]
    },
    {
     "data": {
      "application/vnd.jupyter.widget-view+json": {
       "model_id": "1d56f92a2b854036a2b28345ebb45a6a",
       "version_major": 2,
       "version_minor": 0
      },
      "text/plain": [
       "  0%|          | 0/1018 [00:00<?, ?it/s]"
      ]
     },
     "metadata": {},
     "output_type": "display_data"
    },
    {
     "name": "stdout",
     "output_type": "stream",
     "text": [
      "Examples/sec (First included) 2459.65 ex/sec (total: 1019 ex, 0.41 sec)\n",
      "Examples/sec (First only) 15.90 ex/sec (total: 1 ex, 0.06 sec)\n",
      "Examples/sec (First excluded) 2896.89 ex/sec (total: 1018 ex, 0.35 sec)\n"
     ]
    },
    {
     "data": {
      "text/html": [
       "<strong>BenchmarkResult:</strong><br/><div>\n",
       "<style scoped>\n",
       "    .dataframe tbody tr th:only-of-type {\n",
       "        vertical-align: middle;\n",
       "    }\n",
       "\n",
       "    .dataframe tbody tr th {\n",
       "        vertical-align: top;\n",
       "    }\n",
       "\n",
       "    .dataframe thead th {\n",
       "        text-align: right;\n",
       "    }\n",
       "</style>\n",
       "<table border=\"1\" class=\"dataframe\">\n",
       "  <thead>\n",
       "    <tr style=\"text-align: right;\">\n",
       "      <th></th>\n",
       "      <th>duration</th>\n",
       "      <th>num_examples</th>\n",
       "      <th>avg</th>\n",
       "    </tr>\n",
       "  </thead>\n",
       "  <tbody>\n",
       "    <tr>\n",
       "      <th>first+lasts</th>\n",
       "      <td>0.414286</td>\n",
       "      <td>1019</td>\n",
       "      <td>2459.653850</td>\n",
       "    </tr>\n",
       "    <tr>\n",
       "      <th>first</th>\n",
       "      <td>0.062875</td>\n",
       "      <td>1</td>\n",
       "      <td>15.904585</td>\n",
       "    </tr>\n",
       "    <tr>\n",
       "      <th>lasts</th>\n",
       "      <td>0.351411</td>\n",
       "      <td>1018</td>\n",
       "      <td>2896.892911</td>\n",
       "    </tr>\n",
       "  </tbody>\n",
       "</table>\n",
       "</div>"
      ],
      "text/plain": [
       "BenchmarkResult(stats=             duration  num_examples          avg\n",
       "first+lasts  0.414286          1019  2459.653850\n",
       "first        0.062875             1    15.904585\n",
       "lasts        0.351411          1018  2896.892911, raw_stats=                     duration\n",
       "start_time        4228.649516\n",
       "first_batch_time  4228.712391\n",
       "end_time          4229.063802\n",
       "num_iter          1018.000000)"
      ]
     },
     "execution_count": 13,
     "metadata": {},
     "output_type": "execute_result"
    }
   ],
   "source": [
    "# Analyzing the performance of the input pipeline for data loading\n",
    "tfds.benchmark(train_data)"
   ]
  },
  {
   "cell_type": "code",
   "execution_count": 14,
   "id": "2bc12f44",
   "metadata": {
    "execution": {
     "iopub.execute_input": "2023-11-18T16:02:34.868230Z",
     "iopub.status.busy": "2023-11-18T16:02:34.867952Z",
     "iopub.status.idle": "2023-11-18T16:02:34.932168Z",
     "shell.execute_reply": "2023-11-18T16:02:34.931251Z"
    },
    "papermill": {
     "duration": 0.078039,
     "end_time": "2023-11-18T16:02:34.934118",
     "exception": false,
     "start_time": "2023-11-18T16:02:34.856079",
     "status": "completed"
    },
    "tags": []
   },
   "outputs": [
    {
     "name": "stdout",
     "output_type": "stream",
     "text": [
      "\n",
      "************ Summary ************\n",
      "\n"
     ]
    },
    {
     "data": {
      "application/vnd.jupyter.widget-view+json": {
       "model_id": "c3488c00e25641f1bef4b6510b8f5c91",
       "version_major": 2,
       "version_minor": 0
      },
      "text/plain": [
       "  0%|          | 0/127 [00:00<?, ?it/s]"
      ]
     },
     "metadata": {},
     "output_type": "display_data"
    },
    {
     "name": "stdout",
     "output_type": "stream",
     "text": [
      "Examples/sec (First included) 2568.35 ex/sec (total: 128 ex, 0.05 sec)\n",
      "Examples/sec (First only) 59.41 ex/sec (total: 1 ex, 0.02 sec)\n",
      "Examples/sec (First excluded) 3847.88 ex/sec (total: 127 ex, 0.03 sec)\n"
     ]
    },
    {
     "data": {
      "text/html": [
       "<strong>BenchmarkResult:</strong><br/><div>\n",
       "<style scoped>\n",
       "    .dataframe tbody tr th:only-of-type {\n",
       "        vertical-align: middle;\n",
       "    }\n",
       "\n",
       "    .dataframe tbody tr th {\n",
       "        vertical-align: top;\n",
       "    }\n",
       "\n",
       "    .dataframe thead th {\n",
       "        text-align: right;\n",
       "    }\n",
       "</style>\n",
       "<table border=\"1\" class=\"dataframe\">\n",
       "  <thead>\n",
       "    <tr style=\"text-align: right;\">\n",
       "      <th></th>\n",
       "      <th>duration</th>\n",
       "      <th>num_examples</th>\n",
       "      <th>avg</th>\n",
       "    </tr>\n",
       "  </thead>\n",
       "  <tbody>\n",
       "    <tr>\n",
       "      <th>first+lasts</th>\n",
       "      <td>0.049838</td>\n",
       "      <td>128</td>\n",
       "      <td>2568.347077</td>\n",
       "    </tr>\n",
       "    <tr>\n",
       "      <th>first</th>\n",
       "      <td>0.016832</td>\n",
       "      <td>1</td>\n",
       "      <td>59.409538</td>\n",
       "    </tr>\n",
       "    <tr>\n",
       "      <th>lasts</th>\n",
       "      <td>0.033005</td>\n",
       "      <td>127</td>\n",
       "      <td>3847.880032</td>\n",
       "    </tr>\n",
       "  </tbody>\n",
       "</table>\n",
       "</div>"
      ],
      "text/plain": [
       "BenchmarkResult(stats=             duration  num_examples          avg\n",
       "first+lasts  0.049838           128  2568.347077\n",
       "first        0.016832             1    59.409538\n",
       "lasts        0.033005           127  3847.880032, raw_stats=                     duration\n",
       "start_time        4229.105145\n",
       "first_batch_time  4229.121977\n",
       "end_time          4229.154982\n",
       "num_iter           127.000000)"
      ]
     },
     "execution_count": 14,
     "metadata": {},
     "output_type": "execute_result"
    }
   ],
   "source": [
    "tfds.benchmark(val_data)"
   ]
  },
  {
   "cell_type": "code",
   "execution_count": 15,
   "id": "d6048ba3",
   "metadata": {
    "execution": {
     "iopub.execute_input": "2023-11-18T16:02:34.958359Z",
     "iopub.status.busy": "2023-11-18T16:02:34.958095Z",
     "iopub.status.idle": "2023-11-18T16:02:34.978895Z",
     "shell.execute_reply": "2023-11-18T16:02:34.977976Z"
    },
    "id": "Ai_rZ7_bFIWR",
    "outputId": "ee4eb75a-29ed-414e-ef4f-52c7bca88fe3",
    "papermill": {
     "duration": 0.035894,
     "end_time": "2023-11-18T16:02:34.981774",
     "exception": false,
     "start_time": "2023-11-18T16:02:34.945880",
     "status": "completed"
    },
    "tags": []
   },
   "outputs": [
    {
     "name": "stdout",
     "output_type": "stream",
     "text": [
      "tf.Tensor(\n",
      "[b'What importance does SRK holds as an Indian in abroad and as well as in India. What is his real power?'\n",
      " b'Is it true that Kazakh women prefer to date Russian/Caucasian men?'\n",
      " b'Why is track considered the best sport for some people?'\n",
      " b'What is the best Joomla website development services?'\n",
      " b'If two girls are interlocking their hands together, is that situation a normal closefriend thing or is that a wired thing if that happens on two adult girls in Western countries?'\n",
      " b'Is it wrong to feel sexual towards my cat?'\n",
      " b'Why do most Muslims hate USA and yet millions of Muslims try their very best to settle down in USA?'\n",
      " b'From where SAP should be done?'\n",
      " b'How much of a hike does each Indian Army person get to kill one innocent teenager in Kashmir?'\n",
      " b\"What's the problem with most Americans trying to deny Britain's past achievements and accomplishments?\"\n",
      " b'How much is 1 trillion?'\n",
      " b'Where can I get highly trained technicians in Sydney fire protection?'\n",
      " b'Can kevlar layers be level IV of protection?'\n",
      " b'Who is Bill Monroe? What is he best known for?'\n",
      " b'Which technologies could developing countries leapfrog to in order to combat climate change?'\n",
      " b'Why do Europeans constantly get into wars then turn to Americans to save them (eg WW1, WW2, Cold War, Yugo civil war)?'\n",
      " b'What animals are native to the United States of America?'\n",
      " b'Do you think Asian people are ugly?'\n",
      " b'Is Judaism a capitally criminal insanity, inclination or institution?'\n",
      " b'Why is psychiatry considered\\xe2\\x80\\x8b a bad career option in India?'\n",
      " b'Can I apply for SSC after 12th?'\n",
      " b\"How can the NHS 'winter health crisis' be solved in the long term?\"\n",
      " b'How difficult will the class X CBSE Board exams be in 2018 considering children were used to the CCE pattern and suddenly they have the entire syllabus?'\n",
      " b'Are there any political party groups like YSRCP and TDP in SRM KTKR Campus?'\n",
      " b'What are some other names (like \"Basil\") that are popular with brits but not with Americans?'\n",
      " b'If I use an external SSD, but run out of space on internal hard drive, will files and apps be installed on the SSD?'\n",
      " b'A song which can be sung by male and female combined?'\n",
      " b'Why shouldn\\xe2\\x80\\x99t a real estate mogul billionaire playboy who won the presidency be a role model for your kids?'\n",
      " b'Consider a person on a hypothetical starship which can change its instantaneous acceleration. Would a person survive to an almost instantaneous acceleration, i.e. from 0,5 g to 1,5 g?'\n",
      " b'Why have all the neighbouring countries of India, i.e. China, Pakistan, Bhutan, Nepal, Maldives, Sri Lanka, Bangladesh, have been bullied or invaded by Indias?'\n",
      " b'Do the Islam and Christianity know that China is an atheist country?'\n",
      " b'What is your favorite accent of Spanish outside of your country?'\n",
      " b'How can we help Donald Trump return to Germany?'\n",
      " b'At what age did you first truly understand racism?'\n",
      " b'Why are liberals not accepting that Islamic extremism is a thing?'\n",
      " b'Is it possible that any animal species could envolve to develop a human-like inteligence in the near future?'\n",
      " b'If Islam forbids terrorism, why there a lot terrorism acts done by Muslims?'\n",
      " b'Why do people enjoy being very aggressive on here especially towards the new members?'\n",
      " b'Which planet is nicknamed quicksilver?'\n",
      " b'Why do liberals claim to be terrified so often, and after all this time should anyone care?'\n",
      " b'Do Democrats regret not taking Donald Trump seriously when he was actually running? Was this their electoral blunder?'\n",
      " b'Why do people go on mass shootings instead of rob a criminal? They would get rich and by consequence friends and happiness.'\n",
      " b\"Why don't democrats rename their party the communist party and be upfront about their goals? Are they incapable of honesty?\"\n",
      " b'How involved was Scaramuchi in pizza gate scandal?'\n",
      " b'Will the Democratic Party dominated media lies destroy the chances of their future party dominance?'\n",
      " b'Is Palo Alto full of cheap white people?'\n",
      " b'What are the basic requirements for making/opening a university?'\n",
      " b'Who is going to the collision conference in New Orleans?'\n",
      " b'If I insert 1 finger on my vagina, am I considered as not virgin?'\n",
      " b'How long will the citizens of the USA put up with their lying, murdering shadow government? 9/ll. Sandy Hook. Las Vegas \\xe2\\x80\\x93 All staged, orchestrated and involving the same \\xe2\\x80\\x98Crisis Actors\\xe2\\x80\\x99 in front of the media. Wake up people!'\n",
      " b'What are some things that really grind your gears?'\n",
      " b'Why ugly people want to live?'\n",
      " b'What are the pros and cons of living and studying in Canada?'\n",
      " b'Did Romanian people complain as much as they do now before 1908?'\n",
      " b'Why are white American women more open to casual relationships than Asian women?'\n",
      " b\"What are the best story lines going into the 2017 NCAA Men's Tournament?\"\n",
      " b'How do I stop feeling like I need my psychologists approval for everything I do in life?'\n",
      " b'Indian History is greatly distorted, but who distorted it?'\n",
      " b'Seeing how Russia remains able to meddle in American elections, why don\\xe2\\x80\\x99t the Chinese attempt to do the same thing in 2018 or 2020?'\n",
      " b'What type of questions are asked in UPSC Mains English language and any other language?'\n",
      " b'Is it unethical to have a biological child when you have the resources to adopt a child instead?'\n",
      " b\"What's the philosophy of Philip K. Dick?\"\n",
      " b\"Why does Apple watch have a dark interface when it's mostly used outdoors?\"\n",
      " b'Are Negros a different species?'\n",
      " b\"Why don't Cuban Americans rise up against the USA and join Cuba?\"\n",
      " b'What is the avg salary of IPCC qualified student?'\n",
      " b'What are the roles of theories in sociology?'\n",
      " b'Is it better to open a franchise or start a new venture by yourself?'\n",
      " b'Do liberals realize that Obama was practicing taqiya?'\n",
      " b'Why is it that every time something trends in the Philippines they\\'d immediately get over it and find it as \"jeje?\"'\n",
      " b'What is your opinion on Israelis on Quora?'\n",
      " b'Why does y girlfriend blame me for every problem sh has?'\n",
      " b'Why are chechen people so pale skinned?'\n",
      " b'Could engineers build an autonomous F1 car which can drive faster around a track than the best human driver?'\n",
      " b'Do Conservatives realise what they have done to America?'\n",
      " b'How will Bolton differ from McMaster? What do these possible changes mean for the rest of the world?'\n",
      " b'Can you tell me 10 examples of soluble materials or substances?'\n",
      " b'How should one decide if he should do an MBA or not?'\n",
      " b\"What do patriotic Indians, who love their country, feel when they have to wait for a green card, in a foreign country, for decades, without any hope of getting it? Shouldn't they go back to India and build their nation?\"\n",
      " b'Why do Indian comedians hate Narendra Modi so much?'\n",
      " b'What is happening inside BPhO?'\n",
      " b'What should be the optimum time we may allow ourselves for slacking, losing ourselves in daydreaming, etc. after entering a serious romantic relationship before it becomes necessary to get back on track to pursue the goals we had before meeting them?'\n",
      " b'What should a person do if his sister says I want your dick and then walks away?'\n",
      " b'Can nuclear explosions be scaled to any/all smaller sizes, in theory, perhaps by using smaller amounts of material or by some other method?'\n",
      " b'Is there any evidence that Satan did not do 9/11?'\n",
      " b\"Why don't Tamil movies release in theatres in Indonesia?\"\n",
      " b'How can I force my laptop to run on direct power and only use the battery when unplugged?'\n",
      " b'Is it ok to give tax invoice to buyer before payment?'\n",
      " b'My cat kind of can say \"nigga\". Is this a problem?'\n",
      " b'What is your opinion on Oliver Donahue?'\n",
      " b'Is it possible to study transistors without the equivalent circuit?'\n",
      " b'What are your thoughts on drag queens?'\n",
      " b'Why do millennials in the US tend to have such authoritarian (such as communism and alt-right/fascism) views compared to previous generations?'\n",
      " b'Me and my friend have sex with each other in the ass since its better than jacking, and married for tax benefits, an adopted a child so we can have help around the house. But after we last fucked he didn\\'t say \"no homo\". Does this mean we are gay?'\n",
      " b'Why are North Indian women not wearing a bra compared to South Indian women? It causes irritation for men on train travels.'\n",
      " b\"How do I keep going when I don't care about anyone neither anyone cares about me except for my parents?\"\n",
      " b'How can we avenge the tragic terrorist attack in Sweden?'\n",
      " b'How much money do Homepage earn?'\n",
      " b'Why Americans are never sent to jail for hiring illegal immigrants?'\n",
      " b'Which is the best book for Python if I already know C++?'\n",
      " b'What is your reason for not believing in God?'\n",
      " b'What can I do if I only want Europeans to answer a particular question because Americans tend to not understand?'\n",
      " b'I would like to start investing in the stock market. What are the basic mistakes that I must avoid making as a beginner?'\n",
      " b'Why most of the taxi drivers in India are womanizers or sex offenders?'\n",
      " b'If whitewashing Stalin is bad, why is whitewashing Churchill good?'\n",
      " b'What causes normal hearing to suddenly be sensitive to all sounds as if every sound is magnified by 2 or 3?'\n",
      " b'Which countries have no future?'\n",
      " b'What was Charles R. Drew best known for?'\n",
      " b'Why is quoras algorithm too dumb to stop showing me the same questions and similiar questions that I downvote and hide every time?'\n",
      " b'If yf 23 had thrust vectoring like the f 22, which aircraft would be in service for the air force today?'\n",
      " b'Can I get pregnant even after having protective sex and consuming unwanted 72 within 3 hrs of sex?'\n",
      " b'Who is your favourite historical queen?'\n",
      " b'What is the best option after doing Bsc (ZBC)?'\n",
      " b'What are the best ways to cure nausea during pregnancy?'\n",
      " b'Though Yogi ji gave a body blow to Uttar Pradesh madarsa today by introducing other subjects with the Qu\\xe2\\x80\\x99ran, why is the opposition crying?'\n",
      " b'Does money make all things possible?'\n",
      " b'Does Trump and his base not realize Harvard will be overrun with Asians if the DOJ has its way and abolishes affirmative action?'\n",
      " b'How do you resubmit a sitemap to Bing?'\n",
      " b\"What are the chances to win this season's Europa Cup by Arsenal?\"\n",
      " b'Why does Quora asks silly and stupid questions?'\n",
      " b'What can be my expected height if I eat right as a 13 year old male who is 156 cm tall?'\n",
      " b'Are personal smart phones and other electronics allowed on US and Russian submarines?'\n",
      " b'Do Arab girls with unfortunate names like Zena end up commuting adultery?'\n",
      " b'Why don\\xe2\\x80\\x99t American people care about suffering of other people especially in the Middle East?'\n",
      " b'Did President Trump copy President Obama\\'s \"red line\"?'\n",
      " b\"The person who makes me doesn't use me. The person who buys me doesn't use me. The person who uses me doesn't know they are using me. What am I?\"\n",
      " b'What are some strict rules that your parents had?'\n",
      " b'Which are good colleges for oral surgery in Uttar Pradesh for mds?'], shape=(128,), dtype=string)\n",
      "tf.Tensor(\n",
      "[0 1 0 0 0 1 1 0 1 1 0 0 0 0 0 1 0 1 1 0 0 0 0 0 0 0 0 1 0 1 1 0 1 0 1 0 1\n",
      " 1 0 1 1 1 1 1 1 1 0 0 0 1 0 1 0 1 1 0 0 1 1 0 0 0 0 1 1 0 0 0 1 0 1 0 1 0\n",
      " 1 0 0 0 1 1 0 0 1 0 1 0 0 0 1 0 0 0 1 1 1 0 1 0 1 0 0 1 0 1 1 0 0 0 1 0 0\n",
      " 0 0 0 1 0 1 0 0 1 0 0 1 1 0 0 0 0], shape=(128,), dtype=int64)\n"
     ]
    }
   ],
   "source": [
    "# Checking the text in batch 1 of 32 texts\n",
    "for text,label in train_data.take(1):\n",
    "    print(text)\n",
    "    print(label)"
   ]
  },
  {
   "cell_type": "markdown",
   "id": "92f3ed5f",
   "metadata": {
    "id": "Rsl1P_-_Defr",
    "papermill": {
     "duration": 0.011992,
     "end_time": "2023-11-18T16:02:35.007348",
     "exception": false,
     "start_time": "2023-11-18T16:02:34.995356",
     "status": "completed"
    },
    "tags": []
   },
   "source": [
    "# Data processsing\n",
    "\n",
    "*  Before applying any data preprocessing we will be using the **tf.keras.layers.TextVectorization** layer in TensorFlow which is used for *converting variable-length text sequences* into *fixed-length numerical vector*s. It's commonly used as the first layer in a neural network for processing text data.\n",
    "\n",
    "*  After using TextVectorization to convert words into integer indices, we will use a separate layer, such as **tf.keras.layers.Embedding**, to perform word embedding. Word embedding is a technique where words are represented as dense vectors in a continuous vector space. The vectors capture semantic relationships between words, allowing the model to learn meaningful representations."
   ]
  },
  {
   "cell_type": "code",
   "execution_count": 16,
   "id": "0ff86b42",
   "metadata": {
    "execution": {
     "iopub.execute_input": "2023-11-18T16:02:35.033526Z",
     "iopub.status.busy": "2023-11-18T16:02:35.033184Z",
     "iopub.status.idle": "2023-11-18T16:02:37.622057Z",
     "shell.execute_reply": "2023-11-18T16:02:37.621079Z"
    },
    "id": "RUrjLAkdGwA4",
    "papermill": {
     "duration": 2.604871,
     "end_time": "2023-11-18T16:02:37.624488",
     "exception": false,
     "start_time": "2023-11-18T16:02:35.019617",
     "status": "completed"
    },
    "tags": []
   },
   "outputs": [],
   "source": [
    "# Defining the text vectorization layer\n",
    "vectorize_layer = tf.keras.layers.TextVectorization(\n",
    " max_tokens=10000,\n",
    " standardize = 'lower_and_strip_punctuation',\n",
    " output_mode='int',\n",
    " output_sequence_length=128)\n",
    "\n",
    "# Building the vocabulary using the adapt() method\n",
    "vectorize_layer.adapt(train_data.map(lambda text, label: text))\n",
    "\n",
    "# Get the vocabulary from the TextVectorization layer\n",
    "vocabulary = vectorize_layer.get_vocabulary()"
   ]
  },
  {
   "cell_type": "code",
   "execution_count": 17,
   "id": "c6872b22",
   "metadata": {
    "execution": {
     "iopub.execute_input": "2023-11-18T16:02:37.705394Z",
     "iopub.status.busy": "2023-11-18T16:02:37.704755Z",
     "iopub.status.idle": "2023-11-18T16:02:37.714192Z",
     "shell.execute_reply": "2023-11-18T16:02:37.713332Z"
    },
    "id": "rz4aBTjVR2Hc",
    "papermill": {
     "duration": 0.027965,
     "end_time": "2023-11-18T16:02:37.716256",
     "exception": false,
     "start_time": "2023-11-18T16:02:37.688291",
     "status": "completed"
    },
    "tags": []
   },
   "outputs": [],
   "source": [
    "# Create a TensorFlow Embedding layer with the weights from Word2Vec\n",
    "embedding_layer = tf.keras.layers.Embedding(\n",
    "        input_dim=len(vocabulary),\n",
    "        output_dim=100,\n",
    "        input_length=128,\n",
    "        mask_zero=True)"
   ]
  },
  {
   "cell_type": "markdown",
   "id": "6c077327",
   "metadata": {
    "id": "OUVBD2Naexn7",
    "papermill": {
     "duration": 0.011922,
     "end_time": "2023-11-18T16:02:37.740229",
     "exception": false,
     "start_time": "2023-11-18T16:02:37.728307",
     "status": "completed"
    },
    "tags": []
   },
   "source": [
    "# Defining Bidirectional LSTM Model\n",
    "The SpatialDropout1D layer in Keras is a type of dropout layer specifically designed for use with one-dimensional sequence data, such as sequences in natural language processing tasks. It performs dropout, which is a regularization technique, on the sequence data."
   ]
  },
  {
   "cell_type": "code",
   "execution_count": 18,
   "id": "b3d67c2f",
   "metadata": {
    "execution": {
     "iopub.execute_input": "2023-11-18T16:02:37.765505Z",
     "iopub.status.busy": "2023-11-18T16:02:37.765174Z",
     "iopub.status.idle": "2023-11-18T16:02:37.770843Z",
     "shell.execute_reply": "2023-11-18T16:02:37.769914Z"
    },
    "papermill": {
     "duration": 0.020282,
     "end_time": "2023-11-18T16:02:37.772792",
     "exception": false,
     "start_time": "2023-11-18T16:02:37.752510",
     "status": "completed"
    },
    "tags": []
   },
   "outputs": [],
   "source": [
    "def create_model():\n",
    "    \n",
    "    # Stacking the layers in the sequential model\n",
    "    LSTM_model = Sequential()\n",
    "    LSTM_model.add(vectorize_layer)\n",
    "    LSTM_model.add(embedding_layer)\n",
    "    LSTM_model.add(SpatialDropout1D(0.4))\n",
    "    LSTM_model.add(Bidirectional(LSTM(32)))\n",
    "    LSTM_model.add(Dense(16, activation='relu'))\n",
    "    LSTM_model.add(Dense(1,activation='sigmoid'))\n",
    "    \n",
    "    return LSTM_model\n"
   ]
  },
  {
   "cell_type": "code",
   "execution_count": 19,
   "id": "03ef3e4d",
   "metadata": {
    "execution": {
     "iopub.execute_input": "2023-11-18T16:02:37.797800Z",
     "iopub.status.busy": "2023-11-18T16:02:37.797547Z",
     "iopub.status.idle": "2023-11-18T16:05:08.125872Z",
     "shell.execute_reply": "2023-11-18T16:05:08.124727Z"
    },
    "papermill": {
     "duration": 150.344181,
     "end_time": "2023-11-18T16:05:08.128869",
     "exception": false,
     "start_time": "2023-11-18T16:02:37.784688",
     "status": "completed"
    },
    "tags": []
   },
   "outputs": [
    {
     "name": "stdout",
     "output_type": "stream",
     "text": [
      "Epoch 1/100\n",
      "1018/1018 [==============================] - 69s 54ms/step - loss: 0.3143 - accuracy: 0.8730 - val_loss: 0.2793 - val_accuracy: 0.8878\n",
      "Epoch 2/100\n",
      "1018/1018 [==============================] - 18s 17ms/step - loss: 0.2542 - accuracy: 0.9018 - val_loss: 0.2777 - val_accuracy: 0.8880\n",
      "Epoch 3/100\n",
      "1018/1018 [==============================] - 17s 16ms/step - loss: 0.2322 - accuracy: 0.9110 - val_loss: 0.2872 - val_accuracy: 0.8840\n",
      "Epoch 4/100\n",
      "1018/1018 [==============================] - 15s 15ms/step - loss: 0.2110 - accuracy: 0.9201 - val_loss: 0.3043 - val_accuracy: 0.8821\n",
      "Epoch 5/100\n",
      "1018/1018 [==============================] - 15s 15ms/step - loss: 0.1904 - accuracy: 0.9270 - val_loss: 0.3314 - val_accuracy: 0.8810\n",
      "Epoch 6/100\n",
      "1018/1018 [==============================] - 15s 15ms/step - loss: 0.1700 - accuracy: 0.9352 - val_loss: 0.3625 - val_accuracy: 0.8776\n"
     ]
    }
   ],
   "source": [
    "LSTM_model = create_model()\n",
    "\n",
    "# Compiling the model (logits = False means we will get probability values rather than raw values)\n",
    "LSTM_model.compile(loss=tf.keras.losses.BinaryCrossentropy(from_logits=False),\n",
    "              optimizer='adam',\n",
    "              metrics=['accuracy'])\n",
    "\n",
    "                  \n",
    "num_epochs = 100\n",
    "early_stop = EarlyStopping(monitor='val_loss', patience=4)\n",
    "history_LSTM = LSTM_model.fit(train_data,\n",
    "                     epochs=num_epochs, \n",
    "                     validation_data=val_data,\n",
    "                     callbacks =[early_stop],\n",
    "                     verbose=1)"
   ]
  },
  {
   "cell_type": "code",
   "execution_count": 20,
   "id": "6a9c5797",
   "metadata": {
    "execution": {
     "iopub.execute_input": "2023-11-18T16:05:08.416092Z",
     "iopub.status.busy": "2023-11-18T16:05:08.415388Z",
     "iopub.status.idle": "2023-11-18T16:05:09.139000Z",
     "shell.execute_reply": "2023-11-18T16:05:09.137922Z"
    },
    "papermill": {
     "duration": 0.868282,
     "end_time": "2023-11-18T16:05:09.140977",
     "exception": false,
     "start_time": "2023-11-18T16:05:08.272695",
     "status": "completed"
    },
    "tags": []
   },
   "outputs": [
    {
     "name": "stdout",
     "output_type": "stream",
     "text": [
      "127/127 [==============================] - 1s 6ms/step - loss: 0.3625 - accuracy: 0.8776\n",
      "Test Loss: 0.3625212609767914\n",
      "Test Accuracy: 0.8775836825370789\n"
     ]
    }
   ],
   "source": [
    "test_loss, test_acc = LSTM_model.evaluate(val_data)\n",
    "\n",
    "print('Test Loss:', test_loss)\n",
    "print('Test Accuracy:', test_acc)"
   ]
  },
  {
   "cell_type": "code",
   "execution_count": 21,
   "id": "fe58ea48",
   "metadata": {
    "execution": {
     "iopub.execute_input": "2023-11-18T16:05:09.448103Z",
     "iopub.status.busy": "2023-11-18T16:05:09.447732Z",
     "iopub.status.idle": "2023-11-18T16:05:09.779439Z",
     "shell.execute_reply": "2023-11-18T16:05:09.778545Z"
    },
    "papermill": {
     "duration": 0.481736,
     "end_time": "2023-11-18T16:05:09.781478",
     "exception": false,
     "start_time": "2023-11-18T16:05:09.299742",
     "status": "completed"
    },
    "tags": []
   },
   "outputs": [
    {
     "data": {
      "image/png": "[encoded data removed]",
      "text/plain": [
       "<Figure size 640x480 with 1 Axes>"
      ]
     },
     "metadata": {},
     "output_type": "display_data"
    }
   ],
   "source": [
    "plot_graphs(history_LSTM,'accuracy')"
   ]
  },
  {
   "cell_type": "code",
   "execution_count": 22,
   "id": "14d83d72",
   "metadata": {
    "execution": {
     "iopub.execute_input": "2023-11-18T16:05:10.073121Z",
     "iopub.status.busy": "2023-11-18T16:05:10.072770Z",
     "iopub.status.idle": "2023-11-18T16:05:10.381580Z",
     "shell.execute_reply": "2023-11-18T16:05:10.380713Z"
    },
    "papermill": {
     "duration": 0.45749,
     "end_time": "2023-11-18T16:05:10.383674",
     "exception": false,
     "start_time": "2023-11-18T16:05:09.926184",
     "status": "completed"
    },
    "tags": []
   },
   "outputs": [
    {
     "data": {
      "image/png": "[encoded data removed]",
      "text/plain": [
       "<Figure size 640x480 with 1 Axes>"
      ]
     },
     "metadata": {},
     "output_type": "display_data"
    }
   ],
   "source": [
    "plot_graphs(history_LSTM,'loss')"
   ]
  },
  {
   "cell_type": "markdown",
   "id": "989c4a1f",
   "metadata": {
    "papermill": {
     "duration": 0.14252,
     "end_time": "2023-11-18T16:05:10.669293",
     "exception": false,
     "start_time": "2023-11-18T16:05:10.526773",
     "status": "completed"
    },
    "tags": []
   },
   "source": [
    "A Keras model consists of multiple components:\n",
    "\n",
    "The architecture, or configuration, which specifies what layers the model contain, and how they're connected.\n",
    "A set of weights values (the \"state of the model\").\n",
    "An optimizer (defined by compiling the model).\n",
    "A set of losses and metrics (defined by compiling the model).\n",
    "The Keras API saves all of these pieces together in a unified format, marked by the .keras extension. This is a zip archive consisting of the following:\n",
    "\n",
    "- A JSON-based configuration file (config.json): Records of model, layer, and other trackables' configuration.\n",
    "- A H5-based state file, such as model.weights.h5 (for the whole model), with directory keys for layers and their weights.\n",
    "- A metadata file in JSON, storing things such as the current Keras version."
   ]
  },
  {
   "cell_type": "code",
   "execution_count": 23,
   "id": "bbd7ff34",
   "metadata": {
    "execution": {
     "iopub.execute_input": "2023-11-18T16:05:10.960228Z",
     "iopub.status.busy": "2023-11-18T16:05:10.959532Z",
     "iopub.status.idle": "2023-11-18T16:05:11.140967Z",
     "shell.execute_reply": "2023-11-18T16:05:11.140106Z"
    },
    "papermill": {
     "duration": 0.329287,
     "end_time": "2023-11-18T16:05:11.143174",
     "exception": false,
     "start_time": "2023-11-18T16:05:10.813887",
     "status": "completed"
    },
    "tags": []
   },
   "outputs": [],
   "source": [
    "# Saving model as .keras zip folder\n",
    "LSTM_model.save(\"BLSTM.keras\")"
   ]
  },
  {
   "cell_type": "code",
   "execution_count": 24,
   "id": "278ba845",
   "metadata": {
    "execution": {
     "iopub.execute_input": "2023-11-18T16:05:11.441147Z",
     "iopub.status.busy": "2023-11-18T16:05:11.440813Z",
     "iopub.status.idle": "2023-11-18T16:05:13.642304Z",
     "shell.execute_reply": "2023-11-18T16:05:13.641343Z"
    },
    "papermill": {
     "duration": 2.35886,
     "end_time": "2023-11-18T16:05:13.650369",
     "exception": false,
     "start_time": "2023-11-18T16:05:11.291509",
     "status": "completed"
    },
    "tags": []
   },
   "outputs": [
    {
     "name": "stdout",
     "output_type": "stream",
     "text": [
      "Model: \"sequential\"\n",
      "_________________________________________________________________\n",
      " Layer (type)                Output Shape              Param #   \n",
      "=================================================================\n",
      " text_vectorization (TextVe  (None, 128)               0         \n",
      " ctorization)                                                    \n",
      "                                                                 \n",
      " embedding (Embedding)       (None, 128, 100)          1000000   \n",
      "                                                                 \n",
      " spatial_dropout1d (Spatial  (None, 128, 100)          0         \n",
      " Dropout1D)                                                      \n",
      "                                                                 \n",
      " bidirectional (Bidirection  (None, 64)                34048     \n",
      " al)                                                             \n",
      "                                                                 \n",
      " dense (Dense)               (None, 16)                1040      \n",
      "                                                                 \n",
      " dense_1 (Dense)             (None, 1)                 17        \n",
      "                                                                 \n",
      "=================================================================\n",
      "Total params: 1035105 (3.95 MB)\n",
      "Trainable params: 1035105 (3.95 MB)\n",
      "Non-trainable params: 0 (0.00 Byte)\n",
      "_________________________________________________________________\n"
     ]
    }
   ],
   "source": [
    "reconstructed_model = keras.models.load_model(\"/kaggle/working/BLSTM.keras\")\n",
    "reconstructed_model.summary()"
   ]
  },
  {
   "cell_type": "code",
   "execution_count": 25,
   "id": "a791ce7a",
   "metadata": {
    "execution": {
     "iopub.execute_input": "2023-11-18T16:05:13.979846Z",
     "iopub.status.busy": "2023-11-18T16:05:13.979463Z",
     "iopub.status.idle": "2023-11-18T16:05:17.303777Z",
     "shell.execute_reply": "2023-11-18T16:05:17.302850Z"
    },
    "papermill": {
     "duration": 3.492655,
     "end_time": "2023-11-18T16:05:17.306171",
     "exception": false,
     "start_time": "2023-11-18T16:05:13.813516",
     "status": "completed"
    },
    "tags": []
   },
   "outputs": [
    {
     "name": "stdout",
     "output_type": "stream",
     "text": [
      "127/127 [==============================] - 3s 5ms/step\n"
     ]
    }
   ],
   "source": [
    "predictions = reconstructed_model.predict(test_data)\n",
    "predictions = list(predictions)\n",
    "\n",
    "# Convert probabilities to binary values using a threshold (e.g., 0.5)\n",
    "threshold = 0.5\n",
    "Model_predictions = [1 if prob >= threshold else 0 for prob in predictions]"
   ]
  },
  {
   "cell_type": "code",
   "execution_count": 26,
   "id": "68452cf9",
   "metadata": {
    "execution": {
     "iopub.execute_input": "2023-11-18T16:05:17.607625Z",
     "iopub.status.busy": "2023-11-18T16:05:17.607007Z",
     "iopub.status.idle": "2023-11-18T16:05:20.273998Z",
     "shell.execute_reply": "2023-11-18T16:05:20.273193Z"
    },
    "papermill": {
     "duration": 2.822747,
     "end_time": "2023-11-18T16:05:20.276282",
     "exception": false,
     "start_time": "2023-11-18T16:05:17.453535",
     "status": "completed"
    },
    "tags": []
   },
   "outputs": [],
   "source": [
    "# Extracting labels from the entire dataset, you can use the `unbatch` method\n",
    "Actual_labels = list(test_data.unbatch().map(lambda features, labels: labels).as_numpy_iterator())"
   ]
  },
  {
   "cell_type": "markdown",
   "id": "7619e4f3",
   "metadata": {
    "papermill": {
     "duration": 0.148605,
     "end_time": "2023-11-18T16:05:20.574470",
     "exception": false,
     "start_time": "2023-11-18T16:05:20.425865",
     "status": "completed"
    },
    "tags": []
   },
   "source": [
    "# Model evaluation"
   ]
  },
  {
   "cell_type": "code",
   "execution_count": 27,
   "id": "3987185f",
   "metadata": {
    "execution": {
     "iopub.execute_input": "2023-11-18T16:05:20.871103Z",
     "iopub.status.busy": "2023-11-18T16:05:20.870742Z",
     "iopub.status.idle": "2023-11-18T16:05:20.961339Z",
     "shell.execute_reply": "2023-11-18T16:05:20.960306Z"
    },
    "papermill": {
     "duration": 0.241363,
     "end_time": "2023-11-18T16:05:20.963612",
     "exception": false,
     "start_time": "2023-11-18T16:05:20.722249",
     "status": "completed"
    },
    "tags": []
   },
   "outputs": [
    {
     "name": "stdout",
     "output_type": "stream",
     "text": [
      "Accuracy: 0.8830\n",
      "Precision: 0.8711\n",
      "Recall: 0.8970\n",
      "F1 Score: 0.8838\n"
     ]
    }
   ],
   "source": [
    "# Accuracy\n",
    "accuracy = accuracy_score(Actual_labels, Model_predictions)\n",
    "print(f'Accuracy: {accuracy:.4f}')\n",
    "\n",
    "# Precision\n",
    "precision = precision_score(Actual_labels, Model_predictions)\n",
    "print(f'Precision: {precision:.4f}')\n",
    "\n",
    "# Recall\n",
    "recall = recall_score(Actual_labels, Model_predictions)\n",
    "print(f'Recall: {recall:.4f}')\n",
    "\n",
    "# F1 Score\n",
    "f1 = f1_score(Actual_labels, Model_predictions)\n",
    "print(f'F1 Score: {f1:.4f}')"
   ]
  }
 ],
 "metadata": {
  "kaggle": {
   "accelerator": "nvidiaTeslaT4",
   "dataSources": [
    {
     "datasetId": 4016234,
     "sourceId": 6988050,
     "sourceType": "datasetVersion"
    }
   ],
   "dockerImageVersionId": 30580,
   "isGpuEnabled": true,
   "isInternetEnabled": true,
   "language": "python",
   "sourceType": "notebook"
  },
  "kernelspec": {
   "display_name": "Python 3",
   "language": "python",
   "name": "python3"
  },
  "language_info": {
   "codemirror_mode": {
    "name": "ipython",
    "version": 3
   },
   "file_extension": ".py",
   "mimetype": "text/x-python",
   "name": "python",
   "nbconvert_exporter": "python",
   "pygments_lexer": "ipython3",
   "version": "3.10.12"
  },
  "papermill": {
   "default_parameters": {},
   "duration": 202.911484,
   "end_time": "2023-11-18T16:05:24.303862",
   "environment_variables": {},
   "exception": null,
   "input_path": "__notebook__.ipynb",
   "output_path": "__notebook__.ipynb",
   "parameters": {},
   "start_time": "2023-11-18T16:02:01.392378",
   "version": "2.4.0"
  },
  "widgets": {
   "application/vnd.jupyter.widget-state+json": {
    "state": {
     "0226085265744506b707b96ea1f05a48": {
      "model_module": "@jupyter-widgets/controls",
      "model_module_version": "1.5.0",
      "model_name": "ProgressStyleModel",
      "state": {
       "_model_module": "@jupyter-widgets/controls",
       "_model_module_version": "1.5.0",
       "_model_name": "ProgressStyleModel",
       "_view_count": null,
       "_view_module": "@jupyter-widgets/base",
       "_view_module_version": "1.2.0",
       "_view_name": "StyleView",
       "bar_color": null,
       "description_width": ""
      }
     },
     "1a1e26315ab94d77b64a341d099f6f83": {
      "model_module": "@jupyter-widgets/base",
      "model_module_version": "1.2.0",
      "model_name": "LayoutModel",
      "state": {
       "_model_module": "@jupyter-widgets/base",
       "_model_module_version": "1.2.0",
       "_model_name": "LayoutModel",
       "_view_count": null,
       "_view_module": "@jupyter-widgets/base",
       "_view_module_version": "1.2.0",
       "_view_name": "LayoutView",
       "align_content": null,
       "align_items": null,
       "align_self": null,
       "border": null,
       "bottom": null,
       "display": null,
       "flex": null,
       "flex_flow": null,
       "grid_area": null,
       "grid_auto_columns": null,
       "grid_auto_flow": null,
       "grid_auto_rows": null,
       "grid_column": null,
       "grid_gap": null,
       "grid_row": null,
       "grid_template_areas": null,
       "grid_template_columns": null,
       "grid_template_rows": null,
       "height": null,
       "justify_content": null,
       "justify_items": null,
       "left": null,
       "margin": null,
       "max_height": null,
       "max_width": null,
       "min_height": null,
       "min_width": null,
       "object_fit": null,
       "object_position": null,
       "order": null,
       "overflow": null,
       "overflow_x": null,
       "overflow_y": null,
       "padding": null,
       "right": null,
       "top": null,
       "visibility": null,
       "width": null
      }
     },
     "1d56f92a2b854036a2b28345ebb45a6a": {
      "model_module": "@jupyter-widgets/controls",
      "model_module_version": "1.5.0",
      "model_name": "HBoxModel",
      "state": {
       "_dom_classes": [],
       "_model_module": "@jupyter-widgets/controls",
       "_model_module_version": "1.5.0",
       "_model_name": "HBoxModel",
       "_view_count": null,
       "_view_module": "@jupyter-widgets/controls",
       "_view_module_version": "1.5.0",
       "_view_name": "HBoxView",
       "box_style": "",
       "children": [
        "IPY_MODEL_dae4805de79a4eee8fae27b7428475e1",
        "IPY_MODEL_6f7cf07a4c5f48bbabc24a5cdab43374",
        "IPY_MODEL_50edbd01803643e28b6b03d18cf5046a"
       ],
       "layout": "IPY_MODEL_645eca8cf67b4af180ba27d4e7442621"
      }
     },
     "2bb8f0dcee644cdb8dca218ecaa8118f": {
      "model_module": "@jupyter-widgets/base",
      "model_module_version": "1.2.0",
      "model_name": "LayoutModel",
      "state": {
       "_model_module": "@jupyter-widgets/base",
       "_model_module_version": "1.2.0",
       "_model_name": "LayoutModel",
       "_view_count": null,
       "_view_module": "@jupyter-widgets/base",
       "_view_module_version": "1.2.0",
       "_view_name": "LayoutView",
       "align_content": null,
       "align_items": null,
       "align_self": null,
       "border": null,
       "bottom": null,
       "display": null,
       "flex": null,
       "flex_flow": null,
       "grid_area": null,
       "grid_auto_columns": null,
       "grid_auto_flow": null,
       "grid_auto_rows": null,
       "grid_column": null,
       "grid_gap": null,
       "grid_row": null,
       "grid_template_areas": null,
       "grid_template_columns": null,
       "grid_template_rows": null,
       "height": null,
       "justify_content": null,
       "justify_items": null,
       "left": null,
       "margin": null,
       "max_height": null,
       "max_width": null,
       "min_height": null,
       "min_width": null,
       "object_fit": null,
       "object_position": null,
       "order": null,
       "overflow": null,
       "overflow_x": null,
       "overflow_y": null,
       "padding": null,
       "right": null,
       "top": null,
       "visibility": null,
       "width": null
      }
     },
     "2d6c1f5a9b6146c88c7d2c52d5ed0a84": {
      "model_module": "@jupyter-widgets/controls",
      "model_module_version": "1.5.0",
      "model_name": "DescriptionStyleModel",
      "state": {
       "_model_module": "@jupyter-widgets/controls",
       "_model_module_version": "1.5.0",
       "_model_name": "DescriptionStyleModel",
       "_view_count": null,
       "_view_module": "@jupyter-widgets/base",
       "_view_module_version": "1.2.0",
       "_view_name": "StyleView",
       "description_width": ""
      }
     },
     "49aa4741047e46d3aef4cfc72d3696e3": {
      "model_module": "@jupyter-widgets/base",
      "model_module_version": "1.2.0",
      "model_name": "LayoutModel",
      "state": {
       "_model_module": "@jupyter-widgets/base",
       "_model_module_version": "1.2.0",
       "_model_name": "LayoutModel",
       "_view_count": null,
       "_view_module": "@jupyter-widgets/base",
       "_view_module_version": "1.2.0",
       "_view_name": "LayoutView",
       "align_content": null,
       "align_items": null,
       "align_self": null,
       "border": null,
       "bottom": null,
       "display": null,
       "flex": null,
       "flex_flow": null,
       "grid_area": null,
       "grid_auto_columns": null,
       "grid_auto_flow": null,
       "grid_auto_rows": null,
       "grid_column": null,
       "grid_gap": null,
       "grid_row": null,
       "grid_template_areas": null,
       "grid_template_columns": null,
       "grid_template_rows": null,
       "height": null,
       "justify_content": null,
       "justify_items": null,
       "left": null,
       "margin": null,
       "max_height": null,
       "max_width": null,
       "min_height": null,
       "min_width": null,
       "object_fit": null,
       "object_position": null,
       "order": null,
       "overflow": null,
       "overflow_x": null,
       "overflow_y": null,
       "padding": null,
       "right": null,
       "top": null,
       "visibility": null,
       "width": null
      }
     },
     "50edbd01803643e28b6b03d18cf5046a": {
      "model_module": "@jupyter-widgets/controls",
      "model_module_version": "1.5.0",
      "model_name": "HTMLModel",
      "state": {
       "_dom_classes": [],
       "_model_module": "@jupyter-widgets/controls",
       "_model_module_version": "1.5.0",
       "_model_name": "HTMLModel",
       "_view_count": null,
       "_view_module": "@jupyter-widgets/controls",
       "_view_module_version": "1.5.0",
       "_view_name": "HTMLView",
       "description": "",
       "description_tooltip": null,
       "layout": "IPY_MODEL_b9b1735a1ba846ca97219677a87293e3",
       "placeholder": "​",
       "style": "IPY_MODEL_dbb37739e9504af89d0e381c7ee1e833",
       "value": " 1018/1018 [00:00&lt;00:00, 2750.30it/s]"
      }
     },
     "645eca8cf67b4af180ba27d4e7442621": {
      "model_module": "@jupyter-widgets/base",
      "model_module_version": "1.2.0",
      "model_name": "LayoutModel",
      "state": {
       "_model_module": "@jupyter-widgets/base",
       "_model_module_version": "1.2.0",
       "_model_name": "LayoutModel",
       "_view_count": null,
       "_view_module": "@jupyter-widgets/base",
       "_view_module_version": "1.2.0",
       "_view_name": "LayoutView",
       "align_content": null,
       "align_items": null,
       "align_self": null,
       "border": null,
       "bottom": null,
       "display": null,
       "flex": null,
       "flex_flow": null,
       "grid_area": null,
       "grid_auto_columns": null,
       "grid_auto_flow": null,
       "grid_auto_rows": null,
       "grid_column": null,
       "grid_gap": null,
       "grid_row": null,
       "grid_template_areas": null,
       "grid_template_columns": null,
       "grid_template_rows": null,
       "height": null,
       "justify_content": null,
       "justify_items": null,
       "left": null,
       "margin": null,
       "max_height": null,
       "max_width": null,
       "min_height": null,
       "min_width": null,
       "object_fit": null,
       "object_position": null,
       "order": null,
       "overflow": null,
       "overflow_x": null,
       "overflow_y": null,
       "padding": null,
       "right": null,
       "top": null,
       "visibility": null,
       "width": null
      }
     },
     "67d2d5670cab47c09414107b834987c8": {
      "model_module": "@jupyter-widgets/controls",
      "model_module_version": "1.5.0",
      "model_name": "DescriptionStyleModel",
      "state": {
       "_model_module": "@jupyter-widgets/controls",
       "_model_module_version": "1.5.0",
       "_model_name": "DescriptionStyleModel",
       "_view_count": null,
       "_view_module": "@jupyter-widgets/base",
       "_view_module_version": "1.2.0",
       "_view_name": "StyleView",
       "description_width": ""
      }
     },
     "6f7cf07a4c5f48bbabc24a5cdab43374": {
      "model_module": "@jupyter-widgets/controls",
      "model_module_version": "1.5.0",
      "model_name": "FloatProgressModel",
      "state": {
       "_dom_classes": [],
       "_model_module": "@jupyter-widgets/controls",
       "_model_module_version": "1.5.0",
       "_model_name": "FloatProgressModel",
       "_view_count": null,
       "_view_module": "@jupyter-widgets/controls",
       "_view_module_version": "1.5.0",
       "_view_name": "ProgressView",
       "bar_style": "success",
       "description": "",
       "description_tooltip": null,
       "layout": "IPY_MODEL_1a1e26315ab94d77b64a341d099f6f83",
       "max": 1018.0,
       "min": 0.0,
       "orientation": "horizontal",
       "style": "IPY_MODEL_cf0ccf3a05674ff1a88dff97ebcc8786",
       "value": 1018.0
      }
     },
     "742b8492e4fc4d3fbcd0119c7f2e4b14": {
      "model_module": "@jupyter-widgets/controls",
      "model_module_version": "1.5.0",
      "model_name": "FloatProgressModel",
      "state": {
       "_dom_classes": [],
       "_model_module": "@jupyter-widgets/controls",
       "_model_module_version": "1.5.0",
       "_model_name": "FloatProgressModel",
       "_view_count": null,
       "_view_module": "@jupyter-widgets/controls",
       "_view_module_version": "1.5.0",
       "_view_name": "ProgressView",
       "bar_style": "success",
       "description": "",
       "description_tooltip": null,
       "layout": "IPY_MODEL_952ece26f7954e4088f1373c7e2da158",
       "max": 127.0,
       "min": 0.0,
       "orientation": "horizontal",
       "style": "IPY_MODEL_0226085265744506b707b96ea1f05a48",
       "value": 127.0
      }
     },
     "778011a2a1324c54aa1311304c85cbad": {
      "model_module": "@jupyter-widgets/base",
      "model_module_version": "1.2.0",
      "model_name": "LayoutModel",
      "state": {
       "_model_module": "@jupyter-widgets/base",
       "_model_module_version": "1.2.0",
       "_model_name": "LayoutModel",
       "_view_count": null,
       "_view_module": "@jupyter-widgets/base",
       "_view_module_version": "1.2.0",
       "_view_name": "LayoutView",
       "align_content": null,
       "align_items": null,
       "align_self": null,
       "border": null,
       "bottom": null,
       "display": null,
       "flex": null,
       "flex_flow": null,
       "grid_area": null,
       "grid_auto_columns": null,
       "grid_auto_flow": null,
       "grid_auto_rows": null,
       "grid_column": null,
       "grid_gap": null,
       "grid_row": null,
       "grid_template_areas": null,
       "grid_template_columns": null,
       "grid_template_rows": null,
       "height": null,
       "justify_content": null,
       "justify_items": null,
       "left": null,
       "margin": null,
       "max_height": null,
       "max_width": null,
       "min_height": null,
       "min_width": null,
       "object_fit": null,
       "object_position": null,
       "order": null,
       "overflow": null,
       "overflow_x": null,
       "overflow_y": null,
       "padding": null,
       "right": null,
       "top": null,
       "visibility": null,
       "width": null
      }
     },
     "8b5f4eb8b93f46b09327f9294d0bc24d": {
      "model_module": "@jupyter-widgets/controls",
      "model_module_version": "1.5.0",
      "model_name": "DescriptionStyleModel",
      "state": {
       "_model_module": "@jupyter-widgets/controls",
       "_model_module_version": "1.5.0",
       "_model_name": "DescriptionStyleModel",
       "_view_count": null,
       "_view_module": "@jupyter-widgets/base",
       "_view_module_version": "1.2.0",
       "_view_name": "StyleView",
       "description_width": ""
      }
     },
     "952ece26f7954e4088f1373c7e2da158": {
      "model_module": "@jupyter-widgets/base",
      "model_module_version": "1.2.0",
      "model_name": "LayoutModel",
      "state": {
       "_model_module": "@jupyter-widgets/base",
       "_model_module_version": "1.2.0",
       "_model_name": "LayoutModel",
       "_view_count": null,
       "_view_module": "@jupyter-widgets/base",
       "_view_module_version": "1.2.0",
       "_view_name": "LayoutView",
       "align_content": null,
       "align_items": null,
       "align_self": null,
       "border": null,
       "bottom": null,
       "display": null,
       "flex": null,
       "flex_flow": null,
       "grid_area": null,
       "grid_auto_columns": null,
       "grid_auto_flow": null,
       "grid_auto_rows": null,
       "grid_column": null,
       "grid_gap": null,
       "grid_row": null,
       "grid_template_areas": null,
       "grid_template_columns": null,
       "grid_template_rows": null,
       "height": null,
       "justify_content": null,
       "justify_items": null,
       "left": null,
       "margin": null,
       "max_height": null,
       "max_width": null,
       "min_height": null,
       "min_width": null,
       "object_fit": null,
       "object_position": null,
       "order": null,
       "overflow": null,
       "overflow_x": null,
       "overflow_y": null,
       "padding": null,
       "right": null,
       "top": null,
       "visibility": null,
       "width": null
      }
     },
     "a3cdb3abd3f344039f04474cc8255c1d": {
      "model_module": "@jupyter-widgets/controls",
      "model_module_version": "1.5.0",
      "model_name": "HTMLModel",
      "state": {
       "_dom_classes": [],
       "_model_module": "@jupyter-widgets/controls",
       "_model_module_version": "1.5.0",
       "_model_name": "HTMLModel",
       "_view_count": null,
       "_view_module": "@jupyter-widgets/controls",
       "_view_module_version": "1.5.0",
       "_view_name": "HTMLView",
       "description": "",
       "description_tooltip": null,
       "layout": "IPY_MODEL_2bb8f0dcee644cdb8dca218ecaa8118f",
       "placeholder": "​",
       "style": "IPY_MODEL_67d2d5670cab47c09414107b834987c8",
       "value": " 127/127 [00:00&lt;00:00, 2772.03it/s]"
      }
     },
     "b9b1735a1ba846ca97219677a87293e3": {
      "model_module": "@jupyter-widgets/base",
      "model_module_version": "1.2.0",
      "model_name": "LayoutModel",
      "state": {
       "_model_module": "@jupyter-widgets/base",
       "_model_module_version": "1.2.0",
       "_model_name": "LayoutModel",
       "_view_count": null,
       "_view_module": "@jupyter-widgets/base",
       "_view_module_version": "1.2.0",
       "_view_name": "LayoutView",
       "align_content": null,
       "align_items": null,
       "align_self": null,
       "border": null,
       "bottom": null,
       "display": null,
       "flex": null,
       "flex_flow": null,
       "grid_area": null,
       "grid_auto_columns": null,
       "grid_auto_flow": null,
       "grid_auto_rows": null,
       "grid_column": null,
       "grid_gap": null,
       "grid_row": null,
       "grid_template_areas": null,
       "grid_template_columns": null,
       "grid_template_rows": null,
       "height": null,
       "justify_content": null,
       "justify_items": null,
       "left": null,
       "margin": null,
       "max_height": null,
       "max_width": null,
       "min_height": null,
       "min_width": null,
       "object_fit": null,
       "object_position": null,
       "order": null,
       "overflow": null,
       "overflow_x": null,
       "overflow_y": null,
       "padding": null,
       "right": null,
       "top": null,
       "visibility": null,
       "width": null
      }
     },
     "c3488c00e25641f1bef4b6510b8f5c91": {
      "model_module": "@jupyter-widgets/controls",
      "model_module_version": "1.5.0",
      "model_name": "HBoxModel",
      "state": {
       "_dom_classes": [],
       "_model_module": "@jupyter-widgets/controls",
       "_model_module_version": "1.5.0",
       "_model_name": "HBoxModel",
       "_view_count": null,
       "_view_module": "@jupyter-widgets/controls",
       "_view_module_version": "1.5.0",
       "_view_name": "HBoxView",
       "box_style": "",
       "children": [
        "IPY_MODEL_ffe2606612064b229d655865e7b0a56d",
        "IPY_MODEL_742b8492e4fc4d3fbcd0119c7f2e4b14",
        "IPY_MODEL_a3cdb3abd3f344039f04474cc8255c1d"
       ],
       "layout": "IPY_MODEL_fba454b4a3914edbbd5b79afb4cad2bd"
      }
     },
     "cf0ccf3a05674ff1a88dff97ebcc8786": {
      "model_module": "@jupyter-widgets/controls",
      "model_module_version": "1.5.0",
      "model_name": "ProgressStyleModel",
      "state": {
       "_model_module": "@jupyter-widgets/controls",
       "_model_module_version": "1.5.0",
       "_model_name": "ProgressStyleModel",
       "_view_count": null,
       "_view_module": "@jupyter-widgets/base",
       "_view_module_version": "1.2.0",
       "_view_name": "StyleView",
       "bar_color": null,
       "description_width": ""
      }
     },
     "dae4805de79a4eee8fae27b7428475e1": {
      "model_module": "@jupyter-widgets/controls",
      "model_module_version": "1.5.0",
      "model_name": "HTMLModel",
      "state": {
       "_dom_classes": [],
       "_model_module": "@jupyter-widgets/controls",
       "_model_module_version": "1.5.0",
       "_model_name": "HTMLModel",
       "_view_count": null,
       "_view_module": "@jupyter-widgets/controls",
       "_view_module_version": "1.5.0",
       "_view_name": "HTMLView",
       "description": "",
       "description_tooltip": null,
       "layout": "IPY_MODEL_49aa4741047e46d3aef4cfc72d3696e3",
       "placeholder": "​",
       "style": "IPY_MODEL_2d6c1f5a9b6146c88c7d2c52d5ed0a84",
       "value": "100%"
      }
     },
     "dbb37739e9504af89d0e381c7ee1e833": {
      "model_module": "@jupyter-widgets/controls",
      "model_module_version": "1.5.0",
      "model_name": "DescriptionStyleModel",
      "state": {
       "_model_module": "@jupyter-widgets/controls",
       "_model_module_version": "1.5.0",
       "_model_name": "DescriptionStyleModel",
       "_view_count": null,
       "_view_module": "@jupyter-widgets/base",
       "_view_module_version": "1.2.0",
       "_view_name": "StyleView",
       "description_width": ""
      }
     },
     "fba454b4a3914edbbd5b79afb4cad2bd": {
      "model_module": "@jupyter-widgets/base",
      "model_module_version": "1.2.0",
      "model_name": "LayoutModel",
      "state": {
       "_model_module": "@jupyter-widgets/base",
       "_model_module_version": "1.2.0",
       "_model_name": "LayoutModel",
       "_view_count": null,
       "_view_module": "@jupyter-widgets/base",
       "_view_module_version": "1.2.0",
       "_view_name": "LayoutView",
       "align_content": null,
       "align_items": null,
       "align_self": null,
       "border": null,
       "bottom": null,
       "display": null,
       "flex": null,
       "flex_flow": null,
       "grid_area": null,
       "grid_auto_columns": null,
       "grid_auto_flow": null,
       "grid_auto_rows": null,
       "grid_column": null,
       "grid_gap": null,
       "grid_row": null,
       "grid_template_areas": null,
       "grid_template_columns": null,
       "grid_template_rows": null,
       "height": null,
       "justify_content": null,
       "justify_items": null,
       "left": null,
       "margin": null,
       "max_height": null,
       "max_width": null,
       "min_height": null,
       "min_width": null,
       "object_fit": null,
       "object_position": null,
       "order": null,
       "overflow": null,
       "overflow_x": null,
       "overflow_y": null,
       "padding": null,
       "right": null,
       "top": null,
       "visibility": null,
       "width": null
      }
     },
     "ffe2606612064b229d655865e7b0a56d": {
      "model_module": "@jupyter-widgets/controls",
      "model_module_version": "1.5.0",
      "model_name": "HTMLModel",
      "state": {
       "_dom_classes": [],
       "_model_module": "@jupyter-widgets/controls",
       "_model_module_version": "1.5.0",
       "_model_name": "HTMLModel",
       "_view_count": null,
       "_view_module": "@jupyter-widgets/controls",
       "_view_module_version": "1.5.0",
       "_view_name": "HTMLView",
       "description": "",
       "description_tooltip": null,
       "layout": "IPY_MODEL_778011a2a1324c54aa1311304c85cbad",
       "placeholder": "​",
       "style": "IPY_MODEL_8b5f4eb8b93f46b09327f9294d0bc24d",
       "value": "100%"
      }
     }
    },
    "version_major": 2,
    "version_minor": 0
   }
  }
 },
 "nbformat": 4,
 "nbformat_minor": 5
}
